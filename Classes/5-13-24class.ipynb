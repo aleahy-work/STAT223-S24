{
 "cells": [
  {
   "cell_type": "markdown",
   "id": "df03d887-c467-4b29-8df6-baa4fbe84d90",
   "metadata": {},
   "source": [
    "# Numpy and Python Lists #\n",
    "\n",
    "Numpy is primarily about working with arrays of numbers.  This is separate from the idea of a python list--although a python list can be coaxed into a numpy array. "
   ]
  },
  {
   "cell_type": "code",
   "execution_count": 5,
   "id": "3510cc22-ab4a-447b-9274-f348ccc1be2e",
   "metadata": {},
   "outputs": [],
   "source": [
    "import numpy as np"
   ]
  },
  {
   "cell_type": "code",
   "execution_count": 6,
   "id": "7782b480-d53c-4958-85ff-50ffaa23d5c5",
   "metadata": {},
   "outputs": [],
   "source": [
    "mylist = [1,2,3,4,5]"
   ]
  },
  {
   "cell_type": "code",
   "execution_count": 7,
   "id": "083a36e0-8b5e-4fb5-8119-dddd8756820a",
   "metadata": {},
   "outputs": [
    {
     "data": {
      "text/plain": [
       "1"
      ]
     },
     "execution_count": 7,
     "metadata": {},
     "output_type": "execute_result"
    }
   ],
   "source": [
    "mylist[0]"
   ]
  },
  {
   "cell_type": "code",
   "execution_count": 8,
   "id": "362b3227-8a27-4094-8df0-f4b3f7c97316",
   "metadata": {},
   "outputs": [
    {
     "data": {
      "text/plain": [
       "5"
      ]
     },
     "execution_count": 8,
     "metadata": {},
     "output_type": "execute_result"
    }
   ],
   "source": [
    "mylist[4]"
   ]
  },
  {
   "cell_type": "code",
   "execution_count": 9,
   "id": "c124d8eb-4037-4c47-9971-00a2c7d093fe",
   "metadata": {},
   "outputs": [],
   "source": [
    "mynp = np.array(mylist)"
   ]
  },
  {
   "cell_type": "code",
   "execution_count": 10,
   "id": "0bd997ee-7e86-420b-a963-19d26255368e",
   "metadata": {},
   "outputs": [
    {
     "data": {
      "text/plain": [
       "[1, 2, 3, 4, 5]"
      ]
     },
     "execution_count": 10,
     "metadata": {},
     "output_type": "execute_result"
    }
   ],
   "source": [
    "mylist"
   ]
  },
  {
   "cell_type": "code",
   "execution_count": 11,
   "id": "122b0661-80ed-4243-8f3e-a98406decc3b",
   "metadata": {},
   "outputs": [
    {
     "data": {
      "text/plain": [
       "array([1, 2, 3, 4, 5])"
      ]
     },
     "execution_count": 11,
     "metadata": {},
     "output_type": "execute_result"
    }
   ],
   "source": [
    "mynp"
   ]
  },
  {
   "cell_type": "code",
   "execution_count": 12,
   "id": "32cb6b8f-6e9c-4dc7-85e5-56e91a4649f4",
   "metadata": {},
   "outputs": [
    {
     "data": {
      "text/plain": [
       "dtype('int64')"
      ]
     },
     "execution_count": 12,
     "metadata": {},
     "output_type": "execute_result"
    }
   ],
   "source": [
    "mynp.dtype"
   ]
  },
  {
   "cell_type": "code",
   "execution_count": 13,
   "id": "da6fed9f-bc6a-431a-8290-f49ba4afe891",
   "metadata": {},
   "outputs": [
    {
     "ename": "AttributeError",
     "evalue": "'list' object has no attribute 'dtype'",
     "output_type": "error",
     "traceback": [
      "\u001b[0;31m---------------------------------------------------------------------------\u001b[0m",
      "\u001b[0;31mAttributeError\u001b[0m                            Traceback (most recent call last)",
      "Cell \u001b[0;32mIn [13], line 1\u001b[0m\n\u001b[0;32m----> 1\u001b[0m \u001b[43mmylist\u001b[49m\u001b[38;5;241;43m.\u001b[39;49m\u001b[43mdtype\u001b[49m\n",
      "\u001b[0;31mAttributeError\u001b[0m: 'list' object has no attribute 'dtype'"
     ]
    }
   ],
   "source": [
    "mylist.dtype"
   ]
  },
  {
   "cell_type": "code",
   "execution_count": 14,
   "id": "d25826f3-bb93-4e08-89c3-7ddf328bb97d",
   "metadata": {},
   "outputs": [
    {
     "data": {
      "text/plain": [
       "list"
      ]
     },
     "execution_count": 14,
     "metadata": {},
     "output_type": "execute_result"
    }
   ],
   "source": [
    "type(mylist)"
   ]
  },
  {
   "cell_type": "code",
   "execution_count": 15,
   "id": "bbf798d1-15a5-4c7a-ba5e-05b28e162419",
   "metadata": {},
   "outputs": [
    {
     "data": {
      "text/plain": [
       "1"
      ]
     },
     "execution_count": 15,
     "metadata": {},
     "output_type": "execute_result"
    }
   ],
   "source": [
    "mynp[0]"
   ]
  },
  {
   "cell_type": "code",
   "execution_count": 16,
   "id": "61efb4bb-49a2-4e28-9b48-e795611ddfec",
   "metadata": {},
   "outputs": [
    {
     "data": {
      "text/plain": [
       "5"
      ]
     },
     "execution_count": 16,
     "metadata": {},
     "output_type": "execute_result"
    }
   ],
   "source": [
    "mynp[4]"
   ]
  },
  {
   "cell_type": "code",
   "execution_count": 17,
   "id": "141a6ff8-1406-4824-beec-e00cb3757341",
   "metadata": {},
   "outputs": [],
   "source": [
    "my2d = np.array([[1,2,3],[4,5,6]])"
   ]
  },
  {
   "cell_type": "code",
   "execution_count": 18,
   "id": "b3e21b3a-b66b-4ebc-a0b8-c05b5a2d30e3",
   "metadata": {},
   "outputs": [
    {
     "data": {
      "text/plain": [
       "1"
      ]
     },
     "execution_count": 18,
     "metadata": {},
     "output_type": "execute_result"
    }
   ],
   "source": [
    "my2d[0,0]"
   ]
  },
  {
   "cell_type": "code",
   "execution_count": 19,
   "id": "9f982bee-c083-4e9f-8f4d-c1bae16358da",
   "metadata": {},
   "outputs": [
    {
     "data": {
      "text/plain": [
       "4"
      ]
     },
     "execution_count": 19,
     "metadata": {},
     "output_type": "execute_result"
    }
   ],
   "source": [
    "my2d[1,0]"
   ]
  },
  {
   "cell_type": "code",
   "execution_count": 20,
   "id": "cde2e826-f1be-473c-87ae-048b91cb962e",
   "metadata": {},
   "outputs": [
    {
     "data": {
      "text/plain": [
       "6"
      ]
     },
     "execution_count": 20,
     "metadata": {},
     "output_type": "execute_result"
    }
   ],
   "source": [
    "my2d[1,2]"
   ]
  },
  {
   "cell_type": "code",
   "execution_count": 21,
   "id": "46491a5d-ee9e-42ca-aa35-409247fc09e6",
   "metadata": {},
   "outputs": [
    {
     "data": {
      "text/plain": [
       "(2, 3)"
      ]
     },
     "execution_count": 21,
     "metadata": {},
     "output_type": "execute_result"
    }
   ],
   "source": [
    "my2d.shape"
   ]
  },
  {
   "cell_type": "markdown",
   "id": "52970b72-e5d5-47dc-8bff-8e049e25eff4",
   "metadata": {},
   "source": [
    "# Pandas dataframes are essentially dictionaries #\n",
    "\n",
    "A dictionary is another python data structure."
   ]
  },
  {
   "cell_type": "code",
   "execution_count": 22,
   "id": "3f37d18c-789e-41c2-b5e6-3b236ed8084f",
   "metadata": {},
   "outputs": [],
   "source": [
    "mydictionary = { 'a': [1,2,3], 'b': [4,5,6]}"
   ]
  },
  {
   "cell_type": "code",
   "execution_count": 23,
   "id": "17dbcdb7-4b31-424a-80fb-ee9e0483f480",
   "metadata": {},
   "outputs": [
    {
     "data": {
      "text/plain": [
       "[1, 2, 3]"
      ]
     },
     "execution_count": 23,
     "metadata": {},
     "output_type": "execute_result"
    }
   ],
   "source": [
    "mydictionary['a']"
   ]
  },
  {
   "cell_type": "code",
   "execution_count": 24,
   "id": "93f74272-f580-4b8b-9f0c-c45fe7f7d2bd",
   "metadata": {},
   "outputs": [
    {
     "data": {
      "text/plain": [
       "[4, 5, 6]"
      ]
     },
     "execution_count": 24,
     "metadata": {},
     "output_type": "execute_result"
    }
   ],
   "source": [
    "mydictionary['b']"
   ]
  },
  {
   "cell_type": "markdown",
   "id": "2d419d9f-4c41-40a7-97cd-536d5349f853",
   "metadata": {},
   "source": [
    "See [this page](https://www.w3schools.com/python/python_ref_dictionary.asp) for some methods for dealing with dictionaries."
   ]
  },
  {
   "cell_type": "code",
   "execution_count": 25,
   "id": "34646062-5bb2-40a6-844d-686c15640166",
   "metadata": {},
   "outputs": [],
   "source": [
    "import pandas as pd"
   ]
  },
  {
   "cell_type": "code",
   "execution_count": 26,
   "id": "3ede0091-6eda-4c2c-8036-d012525f509d",
   "metadata": {},
   "outputs": [],
   "source": [
    "mydf = pd.DataFrame(data=mydictionary)"
   ]
  },
  {
   "cell_type": "code",
   "execution_count": 27,
   "id": "a31e111f-7e74-4f0a-9326-c8e0daacfa1b",
   "metadata": {},
   "outputs": [
    {
     "data": {
      "text/html": [
       "<div>\n",
       "<style scoped>\n",
       "    .dataframe tbody tr th:only-of-type {\n",
       "        vertical-align: middle;\n",
       "    }\n",
       "\n",
       "    .dataframe tbody tr th {\n",
       "        vertical-align: top;\n",
       "    }\n",
       "\n",
       "    .dataframe thead th {\n",
       "        text-align: right;\n",
       "    }\n",
       "</style>\n",
       "<table border=\"1\" class=\"dataframe\">\n",
       "  <thead>\n",
       "    <tr style=\"text-align: right;\">\n",
       "      <th></th>\n",
       "      <th>a</th>\n",
       "      <th>b</th>\n",
       "    </tr>\n",
       "  </thead>\n",
       "  <tbody>\n",
       "    <tr>\n",
       "      <th>0</th>\n",
       "      <td>1</td>\n",
       "      <td>4</td>\n",
       "    </tr>\n",
       "    <tr>\n",
       "      <th>1</th>\n",
       "      <td>2</td>\n",
       "      <td>5</td>\n",
       "    </tr>\n",
       "    <tr>\n",
       "      <th>2</th>\n",
       "      <td>3</td>\n",
       "      <td>6</td>\n",
       "    </tr>\n",
       "  </tbody>\n",
       "</table>\n",
       "</div>"
      ],
      "text/plain": [
       "   a  b\n",
       "0  1  4\n",
       "1  2  5\n",
       "2  3  6"
      ]
     },
     "execution_count": 27,
     "metadata": {},
     "output_type": "execute_result"
    }
   ],
   "source": [
    "mydf"
   ]
  },
  {
   "cell_type": "markdown",
   "id": "d9437482-d6cf-42b9-80da-68e9e3e1e14b",
   "metadata": {},
   "source": [
    "# Overview of Modeling with SKLearn #\n",
    "\n",
    "See [here](https://scikit-learn.org/stable/modules/generated/sklearn.linear_model.LinearRegression.html) for documentation on sklearn.  See [this page](https://scikit-learn.org/stable/) for any overview. See [this page](https://scikit-learn.org/stable/modules/linear_model.html#ordinary-least-squares) for an overview of LinearRegression.\n",
    "\n",
    "There is essentially a four-step process for solving *any* problem in SKLearn:\n",
    "\n",
    "+ Import the model\n",
    "+ Make an instance of the model\n",
    "+ Train the model\n",
    "+ Predict with the model"
   ]
  },
  {
   "cell_type": "code",
   "execution_count": 28,
   "id": "f82eafe1-cbaf-45a6-a969-1b989dfda615",
   "metadata": {},
   "outputs": [],
   "source": [
    "from sklearn.linear_model import LinearRegression"
   ]
  },
  {
   "cell_type": "code",
   "execution_count": null,
   "id": "5afde324-fa96-4789-898e-abc65f3d10f1",
   "metadata": {
    "scrolled": true
   },
   "outputs": [],
   "source": [
    "help(LinearRegression)  # Better to use the webpage!"
   ]
  },
  {
   "cell_type": "code",
   "execution_count": 30,
   "id": "6cafc11c-7b14-41aa-985d-f0ec0e6bdf56",
   "metadata": {},
   "outputs": [],
   "source": [
    "mylm = LinearRegression()"
   ]
  },
  {
   "cell_type": "code",
   "execution_count": 31,
   "id": "b4e8746b-9b95-41c5-a17f-eed3e154b40a",
   "metadata": {},
   "outputs": [
    {
     "name": "stdout",
     "output_type": "stream",
     "text": [
      "Help on method fit in module sklearn.linear_model._base:\n",
      "\n",
      "fit(X, y, sample_weight=None) method of sklearn.linear_model._base.LinearRegression instance\n",
      "    Fit linear model.\n",
      "    \n",
      "    Parameters\n",
      "    ----------\n",
      "    X : {array-like, sparse matrix} of shape (n_samples, n_features)\n",
      "        Training data.\n",
      "    \n",
      "    y : array-like of shape (n_samples,) or (n_samples, n_targets)\n",
      "        Target values. Will be cast to X's dtype if necessary.\n",
      "    \n",
      "    sample_weight : array-like of shape (n_samples,), default=None\n",
      "        Individual weights for each sample.\n",
      "    \n",
      "        .. versionadded:: 0.17\n",
      "           parameter *sample_weight* support to LinearRegression.\n",
      "    \n",
      "    Returns\n",
      "    -------\n",
      "    self : object\n",
      "        Fitted Estimator.\n",
      "\n"
     ]
    }
   ],
   "source": [
    "help(mylm.fit)"
   ]
  },
  {
   "cell_type": "code",
   "execution_count": 32,
   "id": "3a2aba3a-2780-49e2-93c5-6ac461bd2533",
   "metadata": {},
   "outputs": [
    {
     "name": "stdout",
     "output_type": "stream",
     "text": [
      "Help on method predict in module sklearn.linear_model._base:\n",
      "\n",
      "predict(X) method of sklearn.linear_model._base.LinearRegression instance\n",
      "    Predict using the linear model.\n",
      "    \n",
      "    Parameters\n",
      "    ----------\n",
      "    X : array-like or sparse matrix, shape (n_samples, n_features)\n",
      "        Samples.\n",
      "    \n",
      "    Returns\n",
      "    -------\n",
      "    C : array, shape (n_samples,)\n",
      "        Returns predicted values.\n",
      "\n"
     ]
    }
   ],
   "source": [
    "help(mylm.predict)"
   ]
  },
  {
   "cell_type": "markdown",
   "id": "7fc711d8-b9fc-4e20-a614-54ab84b332c6",
   "metadata": {},
   "source": [
    "# Subtleties with Pandas, Numpy, and SKLearn #\n",
    "\n",
    "The fundamental issue is that the .fit() and .predict() methods both require the data to have a very specific **shape**.  See [this page](https://scikit-learn.org/stable/modules/generated/sklearn.linear_model.LinearRegression.html#sklearn.linear_model.LinearRegression) and note your data may not be given that way. In particular, from the above:\n",
    "\n",
    "+ X (input variables) should be of shape (n_samples, n_features)\n",
    "+ y (output variablee) should be of shape (n_samples,)\n",
    "\n",
    "### **Example:** Predict height from wingspan with LinearRegresssion ###"
   ]
  },
  {
   "cell_type": "code",
   "execution_count": 37,
   "id": "20aa91f6-21f5-4ae6-8392-9c2938d37d66",
   "metadata": {},
   "outputs": [],
   "source": [
    "import pandas as pd"
   ]
  },
  {
   "cell_type": "code",
   "execution_count": 38,
   "id": "07f6d155-8c4b-4501-9f1e-1cebc3b4214f",
   "metadata": {},
   "outputs": [],
   "source": [
    "mydata = pd.read_csv(\"https://raw.githubusercontent.com/aleahy-work/STAT223-S24/main/Data/firstdaydata.csv\")"
   ]
  },
  {
   "cell_type": "code",
   "execution_count": 39,
   "id": "ca5babc7-87c6-4417-8971-3a3ba5e5aaf1",
   "metadata": {},
   "outputs": [
    {
     "data": {
      "text/html": [
       "<div>\n",
       "<style scoped>\n",
       "    .dataframe tbody tr th:only-of-type {\n",
       "        vertical-align: middle;\n",
       "    }\n",
       "\n",
       "    .dataframe tbody tr th {\n",
       "        vertical-align: top;\n",
       "    }\n",
       "\n",
       "    .dataframe thead th {\n",
       "        text-align: right;\n",
       "    }\n",
       "</style>\n",
       "<table border=\"1\" class=\"dataframe\">\n",
       "  <thead>\n",
       "    <tr style=\"text-align: right;\">\n",
       "      <th></th>\n",
       "      <th>randnum</th>\n",
       "      <th>diehard</th>\n",
       "      <th>earlobes</th>\n",
       "      <th>hitchthumb</th>\n",
       "      <th>age</th>\n",
       "      <th>siblings</th>\n",
       "      <th>pizzatop</th>\n",
       "      <th>knoxyear</th>\n",
       "      <th>eyecolor</th>\n",
       "      <th>cellphone</th>\n",
       "      <th>hand</th>\n",
       "      <th>gender</th>\n",
       "      <th>height</th>\n",
       "      <th>wingspan</th>\n",
       "      <th>cubit</th>\n",
       "      <th>handspan</th>\n",
       "    </tr>\n",
       "  </thead>\n",
       "  <tbody>\n",
       "    <tr>\n",
       "      <th>0</th>\n",
       "      <td>7</td>\n",
       "      <td>Yes</td>\n",
       "      <td>Detached</td>\n",
       "      <td>Hitchhikers thumb</td>\n",
       "      <td>19</td>\n",
       "      <td>1</td>\n",
       "      <td>Pepperoni</td>\n",
       "      <td>Sophomore</td>\n",
       "      <td>Brown</td>\n",
       "      <td>Android</td>\n",
       "      <td>Right</td>\n",
       "      <td>Female</td>\n",
       "      <td>66.0</td>\n",
       "      <td>67.1</td>\n",
       "      <td>17.5</td>\n",
       "      <td>7.5</td>\n",
       "    </tr>\n",
       "    <tr>\n",
       "      <th>1</th>\n",
       "      <td>7</td>\n",
       "      <td>Yes</td>\n",
       "      <td>Attached</td>\n",
       "      <td>Hitchhikers thumb</td>\n",
       "      <td>21</td>\n",
       "      <td>0</td>\n",
       "      <td>Cheese</td>\n",
       "      <td>Senior and beyond</td>\n",
       "      <td>Brown</td>\n",
       "      <td>Android</td>\n",
       "      <td>Left</td>\n",
       "      <td>Female</td>\n",
       "      <td>64.5</td>\n",
       "      <td>68.0</td>\n",
       "      <td>18.0</td>\n",
       "      <td>6.5</td>\n",
       "    </tr>\n",
       "    <tr>\n",
       "      <th>2</th>\n",
       "      <td>9</td>\n",
       "      <td>No</td>\n",
       "      <td>Detached</td>\n",
       "      <td>No hitchhikers thumb</td>\n",
       "      <td>19</td>\n",
       "      <td>2</td>\n",
       "      <td>Cheese</td>\n",
       "      <td>Sophomore</td>\n",
       "      <td>Brown</td>\n",
       "      <td>Android</td>\n",
       "      <td>Right</td>\n",
       "      <td>Male</td>\n",
       "      <td>73.0</td>\n",
       "      <td>71.0</td>\n",
       "      <td>18.5</td>\n",
       "      <td>7.5</td>\n",
       "    </tr>\n",
       "    <tr>\n",
       "      <th>3</th>\n",
       "      <td>3</td>\n",
       "      <td>No</td>\n",
       "      <td>Detached</td>\n",
       "      <td>No hitchhikers thumb</td>\n",
       "      <td>19</td>\n",
       "      <td>0</td>\n",
       "      <td>Cheese</td>\n",
       "      <td>Sophomore</td>\n",
       "      <td>Other</td>\n",
       "      <td>Android</td>\n",
       "      <td>Right</td>\n",
       "      <td>Male</td>\n",
       "      <td>67.0</td>\n",
       "      <td>69.1</td>\n",
       "      <td>18.4</td>\n",
       "      <td>7.9</td>\n",
       "    </tr>\n",
       "  </tbody>\n",
       "</table>\n",
       "</div>"
      ],
      "text/plain": [
       "   randnum diehard  earlobes            hitchthumb  age  siblings   pizzatop  \\\n",
       "0        7     Yes  Detached     Hitchhikers thumb   19         1  Pepperoni   \n",
       "1        7     Yes  Attached     Hitchhikers thumb   21         0     Cheese   \n",
       "2        9      No  Detached  No hitchhikers thumb   19         2     Cheese   \n",
       "3        3      No  Detached  No hitchhikers thumb   19         0     Cheese   \n",
       "\n",
       "            knoxyear eyecolor cellphone   hand  gender  height  wingspan  \\\n",
       "0          Sophomore    Brown   Android  Right  Female    66.0      67.1   \n",
       "1  Senior and beyond    Brown   Android   Left  Female    64.5      68.0   \n",
       "2          Sophomore    Brown   Android  Right    Male    73.0      71.0   \n",
       "3          Sophomore    Other   Android  Right    Male    67.0      69.1   \n",
       "\n",
       "   cubit  handspan  \n",
       "0   17.5       7.5  \n",
       "1   18.0       6.5  \n",
       "2   18.5       7.5  \n",
       "3   18.4       7.9  "
      ]
     },
     "execution_count": 39,
     "metadata": {},
     "output_type": "execute_result"
    }
   ],
   "source": [
    "mydata.head(4)"
   ]
  },
  {
   "cell_type": "code",
   "execution_count": 40,
   "id": "2980232e-795d-45b5-8809-5decbf2bdd62",
   "metadata": {},
   "outputs": [],
   "source": [
    "import numpy as np"
   ]
  },
  {
   "cell_type": "code",
   "execution_count": 42,
   "id": "7c44041a-567a-4277-ab15-8549f66869c5",
   "metadata": {},
   "outputs": [
    {
     "data": {
      "text/plain": [
       "(39,)"
      ]
     },
     "execution_count": 42,
     "metadata": {},
     "output_type": "execute_result"
    }
   ],
   "source": [
    "mydata['wingspan'].shape  # Note that this is the wrong shape for an input!"
   ]
  },
  {
   "cell_type": "code",
   "execution_count": 44,
   "id": "36b301f6-997a-4236-9c58-5c788b8781c5",
   "metadata": {},
   "outputs": [
    {
     "ename": "AttributeError",
     "evalue": "'Series' object has no attribute 'reshape'",
     "output_type": "error",
     "traceback": [
      "\u001b[0;31m---------------------------------------------------------------------------\u001b[0m",
      "\u001b[0;31mAttributeError\u001b[0m                            Traceback (most recent call last)",
      "Cell \u001b[0;32mIn [44], line 1\u001b[0m\n\u001b[0;32m----> 1\u001b[0m \u001b[43mmydata\u001b[49m\u001b[43m[\u001b[49m\u001b[38;5;124;43m'\u001b[39;49m\u001b[38;5;124;43mwingspan\u001b[39;49m\u001b[38;5;124;43m'\u001b[39;49m\u001b[43m]\u001b[49m\u001b[38;5;241;43m.\u001b[39;49m\u001b[43mreshape\u001b[49m(\u001b[38;5;241m39\u001b[39m,\u001b[38;5;241m1\u001b[39m)\u001b[38;5;241m.\u001b[39mshape\n",
      "File \u001b[0;32m/usr/lib64/python3.11/site-packages/pandas/core/generic.py:5902\u001b[0m, in \u001b[0;36mNDFrame.__getattr__\u001b[0;34m(self, name)\u001b[0m\n\u001b[1;32m   5895\u001b[0m \u001b[38;5;28;01mif\u001b[39;00m (\n\u001b[1;32m   5896\u001b[0m     name \u001b[38;5;129;01mnot\u001b[39;00m \u001b[38;5;129;01min\u001b[39;00m \u001b[38;5;28mself\u001b[39m\u001b[38;5;241m.\u001b[39m_internal_names_set\n\u001b[1;32m   5897\u001b[0m     \u001b[38;5;129;01mand\u001b[39;00m name \u001b[38;5;129;01mnot\u001b[39;00m \u001b[38;5;129;01min\u001b[39;00m \u001b[38;5;28mself\u001b[39m\u001b[38;5;241m.\u001b[39m_metadata\n\u001b[1;32m   5898\u001b[0m     \u001b[38;5;129;01mand\u001b[39;00m name \u001b[38;5;129;01mnot\u001b[39;00m \u001b[38;5;129;01min\u001b[39;00m \u001b[38;5;28mself\u001b[39m\u001b[38;5;241m.\u001b[39m_accessors\n\u001b[1;32m   5899\u001b[0m     \u001b[38;5;129;01mand\u001b[39;00m \u001b[38;5;28mself\u001b[39m\u001b[38;5;241m.\u001b[39m_info_axis\u001b[38;5;241m.\u001b[39m_can_hold_identifiers_and_holds_name(name)\n\u001b[1;32m   5900\u001b[0m ):\n\u001b[1;32m   5901\u001b[0m     \u001b[38;5;28;01mreturn\u001b[39;00m \u001b[38;5;28mself\u001b[39m[name]\n\u001b[0;32m-> 5902\u001b[0m \u001b[38;5;28;01mreturn\u001b[39;00m \u001b[38;5;28;43mobject\u001b[39;49m\u001b[38;5;241;43m.\u001b[39;49m\u001b[38;5;21;43m__getattribute__\u001b[39;49m\u001b[43m(\u001b[49m\u001b[38;5;28;43mself\u001b[39;49m\u001b[43m,\u001b[49m\u001b[43m \u001b[49m\u001b[43mname\u001b[49m\u001b[43m)\u001b[49m\n",
      "\u001b[0;31mAttributeError\u001b[0m: 'Series' object has no attribute 'reshape'"
     ]
    }
   ],
   "source": [
    "mydata['wingspan'].reshape(39,1).shape"
   ]
  },
  {
   "cell_type": "markdown",
   "id": "9cae0ff1-9ab0-45b9-8ea3-095cfa414e3f",
   "metadata": {},
   "source": [
    "Reshaping is something that numpy does very well, but the problem is that it pandas doesn't do this.  SO . . . we take the \"values\" from the series--which is just a numpy array--and use the numpy .reshape to reshape the data to the right size."
   ]
  },
  {
   "cell_type": "code",
   "execution_count": 43,
   "id": "01d46da3-b8ce-4379-a039-dc8710db7c4a",
   "metadata": {},
   "outputs": [
    {
     "data": {
      "text/plain": [
       "array([67.1, 68. , 71. , 69.1, 61.2, 67.5, 71. , 70.1, 61.5, 56. , 65. ,\n",
       "       65. , 74. , 62.3, 71.5, 72.5, 68. , 70. , 65. , 62.8, 74. , 72. ,\n",
       "       68. , 62. , 55.3, 70.5, 71.7, 77.8, 67.9, 63. , 63. , 78. , 64.5,\n",
       "       62. , 59.6, 72. , 63.4, 69.7, 62.5])"
      ]
     },
     "execution_count": 43,
     "metadata": {},
     "output_type": "execute_result"
    }
   ],
   "source": [
    "mydata['wingspan'].values"
   ]
  },
  {
   "cell_type": "code",
   "execution_count": 57,
   "id": "a137efa9-77aa-4c8f-a0d4-36d6ba2a7ed3",
   "metadata": {},
   "outputs": [
    {
     "data": {
      "text/plain": [
       "array([[67.1],\n",
       "       [68. ],\n",
       "       [71. ],\n",
       "       [69.1],\n",
       "       [61.2],\n",
       "       [67.5],\n",
       "       [71. ],\n",
       "       [70.1],\n",
       "       [61.5],\n",
       "       [56. ],\n",
       "       [65. ],\n",
       "       [65. ],\n",
       "       [74. ],\n",
       "       [62.3],\n",
       "       [71.5],\n",
       "       [72.5],\n",
       "       [68. ],\n",
       "       [70. ],\n",
       "       [65. ],\n",
       "       [62.8],\n",
       "       [74. ],\n",
       "       [72. ],\n",
       "       [68. ],\n",
       "       [62. ],\n",
       "       [55.3],\n",
       "       [70.5],\n",
       "       [71.7],\n",
       "       [77.8],\n",
       "       [67.9],\n",
       "       [63. ],\n",
       "       [63. ],\n",
       "       [78. ],\n",
       "       [64.5],\n",
       "       [62. ],\n",
       "       [59.6],\n",
       "       [72. ],\n",
       "       [63.4],\n",
       "       [69.7],\n",
       "       [62.5]])"
      ]
     },
     "execution_count": 57,
     "metadata": {},
     "output_type": "execute_result"
    }
   ],
   "source": [
    "mydata['wingspan'].values.reshape(39,1)"
   ]
  },
  {
   "cell_type": "code",
   "execution_count": 44,
   "id": "77ad2fbd-d3fc-4d10-b346-5b0f15a83a6d",
   "metadata": {},
   "outputs": [],
   "source": [
    "myx = mydata['wingspan'].values.reshape(39,1)  # Now the data is in the right shape, so we give it a name"
   ]
  },
  {
   "cell_type": "code",
   "execution_count": 45,
   "id": "d018ab7f-8e1d-4d2e-a737-2072861d3ab2",
   "metadata": {},
   "outputs": [
    {
     "data": {
      "text/plain": [
       "(39, 1)"
      ]
     },
     "execution_count": 45,
     "metadata": {},
     "output_type": "execute_result"
    }
   ],
   "source": [
    "myx.shape"
   ]
  },
  {
   "cell_type": "code",
   "execution_count": 46,
   "id": "712e9a87-4c85-4ca4-99de-a937d4c605cd",
   "metadata": {},
   "outputs": [
    {
     "data": {
      "text/plain": [
       "array([66. , 64.5, 73. , 67. , 64.8, 70.1, 71. , 71. , 63.5, 58. , 67. ,\n",
       "       65.7, 73. , 62.3, 73. , 71. , 68. , 71.8, 64.5, 66.5, 72. , 74. ,\n",
       "       67. , 64. , 66. , 70.1, 70.4, 75.2, 69.1, 65. , 64. , 74.5, 64.8,\n",
       "       64.5, 68. , 70. , 63.8, 69.4, 64.5])"
      ]
     },
     "execution_count": 46,
     "metadata": {},
     "output_type": "execute_result"
    }
   ],
   "source": [
    "mydata['height'].values"
   ]
  },
  {
   "cell_type": "code",
   "execution_count": 47,
   "id": "398ca2e8-56d5-4119-a50b-cd4475c7f88f",
   "metadata": {},
   "outputs": [
    {
     "data": {
      "text/plain": [
       "(39,)"
      ]
     },
     "execution_count": 47,
     "metadata": {},
     "output_type": "execute_result"
    }
   ],
   "source": [
    "mydata['height'].values.shape  # This is the right shape for an output, so we are fine"
   ]
  },
  {
   "cell_type": "code",
   "execution_count": 48,
   "id": "374f4d62-25a0-4a9d-b9c7-b6dcde679e9c",
   "metadata": {},
   "outputs": [],
   "source": [
    "myy = mydata['height'].values"
   ]
  },
  {
   "cell_type": "code",
   "execution_count": 50,
   "id": "bb881f01-0894-41eb-9584-85aa9e905284",
   "metadata": {},
   "outputs": [],
   "source": [
    "mymodel = mylm.fit(myx, myy)"
   ]
  },
  {
   "cell_type": "code",
   "execution_count": 52,
   "id": "aca57060-6c0b-499a-a574-4a081152d427",
   "metadata": {},
   "outputs": [
    {
     "data": {
      "text/plain": [
       "array([0.63477313])"
      ]
     },
     "execution_count": 52,
     "metadata": {},
     "output_type": "execute_result"
    }
   ],
   "source": [
    "mymodel.coef_"
   ]
  },
  {
   "cell_type": "code",
   "execution_count": 53,
   "id": "e1e7ce37-4bc5-45c0-b563-0627b6f29184",
   "metadata": {},
   "outputs": [
    {
     "data": {
      "text/plain": [
       "25.32694551620032"
      ]
     },
     "execution_count": 53,
     "metadata": {},
     "output_type": "execute_result"
    }
   ],
   "source": [
    "mymodel.intercept_"
   ]
  },
  {
   "cell_type": "code",
   "execution_count": 54,
   "id": "df0af766-51ef-4a22-95c4-8d7ee09bb39f",
   "metadata": {},
   "outputs": [
    {
     "data": {
      "text/plain": [
       "0.7505320966768354"
      ]
     },
     "execution_count": 54,
     "metadata": {},
     "output_type": "execute_result"
    }
   ],
   "source": [
    "mymodel.score(myx, myy)"
   ]
  },
  {
   "cell_type": "code",
   "execution_count": 72,
   "id": "13434ca0-e163-4830-af5f-fe018970be2e",
   "metadata": {},
   "outputs": [
    {
     "ename": "ValueError",
     "evalue": "Expected 2D array, got scalar array instead:\narray=70.\nReshape your data either using array.reshape(-1, 1) if your data has a single feature or array.reshape(1, -1) if it contains a single sample.",
     "output_type": "error",
     "traceback": [
      "\u001b[0;31m---------------------------------------------------------------------------\u001b[0m",
      "\u001b[0;31mValueError\u001b[0m                                Traceback (most recent call last)",
      "Cell \u001b[0;32mIn[72], line 1\u001b[0m\n\u001b[0;32m----> 1\u001b[0m \u001b[43mmymodel\u001b[49m\u001b[38;5;241;43m.\u001b[39;49m\u001b[43mpredict\u001b[49m\u001b[43m(\u001b[49m\u001b[38;5;241;43m70\u001b[39;49m\u001b[43m)\u001b[49m\n",
      "File \u001b[0;32m~/.local/lib/python3.10/site-packages/sklearn/linear_model/_base.py:386\u001b[0m, in \u001b[0;36mLinearModel.predict\u001b[0;34m(self, X)\u001b[0m\n\u001b[1;32m    372\u001b[0m \u001b[38;5;28;01mdef\u001b[39;00m \u001b[38;5;21mpredict\u001b[39m(\u001b[38;5;28mself\u001b[39m, X):\n\u001b[1;32m    373\u001b[0m \u001b[38;5;250m    \u001b[39m\u001b[38;5;124;03m\"\"\"\u001b[39;00m\n\u001b[1;32m    374\u001b[0m \u001b[38;5;124;03m    Predict using the linear model.\u001b[39;00m\n\u001b[1;32m    375\u001b[0m \n\u001b[0;32m   (...)\u001b[0m\n\u001b[1;32m    384\u001b[0m \u001b[38;5;124;03m        Returns predicted values.\u001b[39;00m\n\u001b[1;32m    385\u001b[0m \u001b[38;5;124;03m    \"\"\"\u001b[39;00m\n\u001b[0;32m--> 386\u001b[0m     \u001b[38;5;28;01mreturn\u001b[39;00m \u001b[38;5;28;43mself\u001b[39;49m\u001b[38;5;241;43m.\u001b[39;49m\u001b[43m_decision_function\u001b[49m\u001b[43m(\u001b[49m\u001b[43mX\u001b[49m\u001b[43m)\u001b[49m\n",
      "File \u001b[0;32m~/.local/lib/python3.10/site-packages/sklearn/linear_model/_base.py:369\u001b[0m, in \u001b[0;36mLinearModel._decision_function\u001b[0;34m(self, X)\u001b[0m\n\u001b[1;32m    366\u001b[0m \u001b[38;5;28;01mdef\u001b[39;00m \u001b[38;5;21m_decision_function\u001b[39m(\u001b[38;5;28mself\u001b[39m, X):\n\u001b[1;32m    367\u001b[0m     check_is_fitted(\u001b[38;5;28mself\u001b[39m)\n\u001b[0;32m--> 369\u001b[0m     X \u001b[38;5;241m=\u001b[39m \u001b[38;5;28;43mself\u001b[39;49m\u001b[38;5;241;43m.\u001b[39;49m\u001b[43m_validate_data\u001b[49m\u001b[43m(\u001b[49m\u001b[43mX\u001b[49m\u001b[43m,\u001b[49m\u001b[43m \u001b[49m\u001b[43maccept_sparse\u001b[49m\u001b[38;5;241;43m=\u001b[39;49m\u001b[43m[\u001b[49m\u001b[38;5;124;43m\"\u001b[39;49m\u001b[38;5;124;43mcsr\u001b[39;49m\u001b[38;5;124;43m\"\u001b[39;49m\u001b[43m,\u001b[49m\u001b[43m \u001b[49m\u001b[38;5;124;43m\"\u001b[39;49m\u001b[38;5;124;43mcsc\u001b[39;49m\u001b[38;5;124;43m\"\u001b[39;49m\u001b[43m,\u001b[49m\u001b[43m \u001b[49m\u001b[38;5;124;43m\"\u001b[39;49m\u001b[38;5;124;43mcoo\u001b[39;49m\u001b[38;5;124;43m\"\u001b[39;49m\u001b[43m]\u001b[49m\u001b[43m,\u001b[49m\u001b[43m \u001b[49m\u001b[43mreset\u001b[49m\u001b[38;5;241;43m=\u001b[39;49m\u001b[38;5;28;43;01mFalse\u001b[39;49;00m\u001b[43m)\u001b[49m\n\u001b[1;32m    370\u001b[0m     \u001b[38;5;28;01mreturn\u001b[39;00m safe_sparse_dot(X, \u001b[38;5;28mself\u001b[39m\u001b[38;5;241m.\u001b[39mcoef_\u001b[38;5;241m.\u001b[39mT, dense_output\u001b[38;5;241m=\u001b[39m\u001b[38;5;28;01mTrue\u001b[39;00m) \u001b[38;5;241m+\u001b[39m \u001b[38;5;28mself\u001b[39m\u001b[38;5;241m.\u001b[39mintercept_\n",
      "File \u001b[0;32m~/.local/lib/python3.10/site-packages/sklearn/base.py:605\u001b[0m, in \u001b[0;36mBaseEstimator._validate_data\u001b[0;34m(self, X, y, reset, validate_separately, cast_to_ndarray, **check_params)\u001b[0m\n\u001b[1;32m    603\u001b[0m         out \u001b[38;5;241m=\u001b[39m X, y\n\u001b[1;32m    604\u001b[0m \u001b[38;5;28;01melif\u001b[39;00m \u001b[38;5;129;01mnot\u001b[39;00m no_val_X \u001b[38;5;129;01mand\u001b[39;00m no_val_y:\n\u001b[0;32m--> 605\u001b[0m     out \u001b[38;5;241m=\u001b[39m \u001b[43mcheck_array\u001b[49m\u001b[43m(\u001b[49m\u001b[43mX\u001b[49m\u001b[43m,\u001b[49m\u001b[43m \u001b[49m\u001b[43minput_name\u001b[49m\u001b[38;5;241;43m=\u001b[39;49m\u001b[38;5;124;43m\"\u001b[39;49m\u001b[38;5;124;43mX\u001b[39;49m\u001b[38;5;124;43m\"\u001b[39;49m\u001b[43m,\u001b[49m\u001b[43m \u001b[49m\u001b[38;5;241;43m*\u001b[39;49m\u001b[38;5;241;43m*\u001b[39;49m\u001b[43mcheck_params\u001b[49m\u001b[43m)\u001b[49m\n\u001b[1;32m    606\u001b[0m \u001b[38;5;28;01melif\u001b[39;00m no_val_X \u001b[38;5;129;01mand\u001b[39;00m \u001b[38;5;129;01mnot\u001b[39;00m no_val_y:\n\u001b[1;32m    607\u001b[0m     out \u001b[38;5;241m=\u001b[39m _check_y(y, \u001b[38;5;241m*\u001b[39m\u001b[38;5;241m*\u001b[39mcheck_params)\n",
      "File \u001b[0;32m~/.local/lib/python3.10/site-packages/sklearn/utils/validation.py:930\u001b[0m, in \u001b[0;36mcheck_array\u001b[0;34m(array, accept_sparse, accept_large_sparse, dtype, order, copy, force_all_finite, ensure_2d, allow_nd, ensure_min_samples, ensure_min_features, estimator, input_name)\u001b[0m\n\u001b[1;32m    927\u001b[0m \u001b[38;5;28;01mif\u001b[39;00m ensure_2d:\n\u001b[1;32m    928\u001b[0m     \u001b[38;5;66;03m# If input is scalar raise error\u001b[39;00m\n\u001b[1;32m    929\u001b[0m     \u001b[38;5;28;01mif\u001b[39;00m array\u001b[38;5;241m.\u001b[39mndim \u001b[38;5;241m==\u001b[39m \u001b[38;5;241m0\u001b[39m:\n\u001b[0;32m--> 930\u001b[0m         \u001b[38;5;28;01mraise\u001b[39;00m \u001b[38;5;167;01mValueError\u001b[39;00m(\n\u001b[1;32m    931\u001b[0m             \u001b[38;5;124m\"\u001b[39m\u001b[38;5;124mExpected 2D array, got scalar array instead:\u001b[39m\u001b[38;5;130;01m\\n\u001b[39;00m\u001b[38;5;124marray=\u001b[39m\u001b[38;5;132;01m{}\u001b[39;00m\u001b[38;5;124m.\u001b[39m\u001b[38;5;130;01m\\n\u001b[39;00m\u001b[38;5;124m\"\u001b[39m\n\u001b[1;32m    932\u001b[0m             \u001b[38;5;124m\"\u001b[39m\u001b[38;5;124mReshape your data either using array.reshape(-1, 1) if \u001b[39m\u001b[38;5;124m\"\u001b[39m\n\u001b[1;32m    933\u001b[0m             \u001b[38;5;124m\"\u001b[39m\u001b[38;5;124myour data has a single feature or array.reshape(1, -1) \u001b[39m\u001b[38;5;124m\"\u001b[39m\n\u001b[1;32m    934\u001b[0m             \u001b[38;5;124m\"\u001b[39m\u001b[38;5;124mif it contains a single sample.\u001b[39m\u001b[38;5;124m\"\u001b[39m\u001b[38;5;241m.\u001b[39mformat(array)\n\u001b[1;32m    935\u001b[0m         )\n\u001b[1;32m    936\u001b[0m     \u001b[38;5;66;03m# If input is 1D raise error\u001b[39;00m\n\u001b[1;32m    937\u001b[0m     \u001b[38;5;28;01mif\u001b[39;00m array\u001b[38;5;241m.\u001b[39mndim \u001b[38;5;241m==\u001b[39m \u001b[38;5;241m1\u001b[39m:\n",
      "\u001b[0;31mValueError\u001b[0m: Expected 2D array, got scalar array instead:\narray=70.\nReshape your data either using array.reshape(-1, 1) if your data has a single feature or array.reshape(1, -1) if it contains a single sample."
     ]
    }
   ],
   "source": [
    "mymodel.predict(70)"
   ]
  },
  {
   "cell_type": "markdown",
   "id": "4c683190-210c-4fb7-8492-558d967e556e",
   "metadata": {},
   "source": [
    "# Why is this a problem? #\n",
    "\n",
    "From the .predict() documentation, X (the input) is expected to haveshape (n_samples, n_features) and \"70\" doesn't have the correct shape.  "
   ]
  },
  {
   "cell_type": "code",
   "execution_count": 56,
   "id": "9fa76bf0-ef21-426d-98d4-da74dd361f52",
   "metadata": {},
   "outputs": [
    {
     "data": {
      "text/plain": [
       "(1,)"
      ]
     },
     "execution_count": 56,
     "metadata": {},
     "output_type": "execute_result"
    }
   ],
   "source": [
    "np.array([70]).shape  # Even [70] is the wrong shape"
   ]
  },
  {
   "cell_type": "code",
   "execution_count": 57,
   "id": "6545585e-f309-43c6-8fd1-a320e6a076ef",
   "metadata": {},
   "outputs": [
    {
     "data": {
      "text/plain": [
       "(1, 1)"
      ]
     },
     "execution_count": 57,
     "metadata": {},
     "output_type": "execute_result"
    }
   ],
   "source": [
    "np.array([[70]]).shape  # But [[70]] has the right shape"
   ]
  },
  {
   "cell_type": "code",
   "execution_count": 58,
   "id": "6343f946-70c6-4a7d-9a1c-2aa9f109a578",
   "metadata": {},
   "outputs": [
    {
     "data": {
      "text/plain": [
       "array([69.76106471])"
      ]
     },
     "execution_count": 58,
     "metadata": {},
     "output_type": "execute_result"
    }
   ],
   "source": [
    "mymodel.predict([[70]])"
   ]
  },
  {
   "cell_type": "code",
   "execution_count": null,
   "id": "9c9e6946-3506-4903-80eb-5b83faebe1c8",
   "metadata": {},
   "outputs": [],
   "source": []
  }
 ],
 "metadata": {
  "kernelspec": {
   "display_name": "Python 3",
   "language": "python",
   "name": "python3"
  },
  "language_info": {
   "codemirror_mode": {
    "name": "ipython",
    "version": 3
   },
   "file_extension": ".py",
   "mimetype": "text/x-python",
   "name": "python",
   "nbconvert_exporter": "python",
   "pygments_lexer": "ipython3",
   "version": "3.11.6"
  }
 },
 "nbformat": 4,
 "nbformat_minor": 5
}
