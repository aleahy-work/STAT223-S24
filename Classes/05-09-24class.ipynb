{
 "cells": [
  {
   "cell_type": "markdown",
   "id": "80844091-ad67-4974-8a22-14080de79c80",
   "metadata": {},
   "source": [
    "# This is my title #\n",
    "\n",
    "<h1>This is HTML Title</h1>\n",
    "\n",
    "This some text.  "
   ]
  },
  {
   "cell_type": "code",
   "execution_count": 4,
   "id": "1470e331-029e-422b-a67e-0c2e836bfe83",
   "metadata": {},
   "outputs": [],
   "source": [
    "import numpy as np"
   ]
  },
  {
   "cell_type": "code",
   "execution_count": 3,
   "id": "489d8773-a774-4f58-992f-e1c0cade5267",
   "metadata": {},
   "outputs": [
    {
     "name": "stdout",
     "output_type": "stream",
     "text": [
      "Defaulting to user installation because normal site-packages is not writeable\n",
      "Requirement already satisfied: matplotlib in /usr/lib64/python3.11/site-packages (3.6.3)\n",
      "Requirement already satisfied: contourpy>=1.0.1 in /usr/lib64/python3.11/site-packages (from matplotlib) (1.0.7)\n",
      "Requirement already satisfied: cycler>=0.10 in /usr/lib/python3.11/site-packages (from matplotlib) (0.11.0)\n",
      "Requirement already satisfied: fonttools>=4.22.0 in /usr/lib64/python3.11/site-packages (from matplotlib) (4.37.2)\n",
      "Requirement already satisfied: kiwisolver>=1.0.1 in /usr/lib64/python3.11/site-packages (from matplotlib) (1.4.5)\n",
      "Requirement already satisfied: numpy>=1.19 in /usr/lib64/python3.11/site-packages (from matplotlib) (1.24.3)\n",
      "Requirement already satisfied: packaging>=20.0 in /usr/lib/python3.11/site-packages (from matplotlib) (21.3)\n",
      "Requirement already satisfied: pillow>=6.2.0 in /usr/lib64/python3.11/site-packages (from matplotlib) (9.2.0)\n",
      "Requirement already satisfied: pyparsing>=2.2.1 in /usr/lib/python3.11/site-packages (from matplotlib) (3.0.9)\n",
      "Requirement already satisfied: python-dateutil>=2.7 in /usr/lib/python3.11/site-packages (from matplotlib) (2.8.2)\n",
      "Requirement already satisfied: six>=1.5 in /usr/lib/python3.11/site-packages (from python-dateutil>=2.7->matplotlib) (1.16.0)\n"
     ]
    }
   ],
   "source": [
    "!pip install matplotlib"
   ]
  },
  {
   "cell_type": "code",
   "execution_count": 5,
   "id": "67c2efa7-8e89-49d3-819c-893b9ba99304",
   "metadata": {},
   "outputs": [],
   "source": [
    "import matplotlib.pyplot as plt"
   ]
  },
  {
   "cell_type": "code",
   "execution_count": 6,
   "id": "73862b7b-497a-4765-8ec4-c75cd435296d",
   "metadata": {},
   "outputs": [],
   "source": [
    "import pandas as pd"
   ]
  },
  {
   "cell_type": "markdown",
   "id": "84809fd4-3188-4a11-ba08-d73a04b2a52c",
   "metadata": {},
   "source": [
    "# A Basic Plotting Example #\n",
    "\n",
    "## Really basic ##\n",
    "\n",
    "### Really, really basic ##\n",
    "\n",
    "And I mean it."
   ]
  },
  {
   "cell_type": "code",
   "execution_count": 7,
   "id": "fc75a82c-4786-4731-ad6d-b35c191c733a",
   "metadata": {},
   "outputs": [
    {
     "data": {
      "text/plain": [
       "array([-4.        , -3.83673469, -3.67346939, -3.51020408, -3.34693878,\n",
       "       -3.18367347, -3.02040816, -2.85714286, -2.69387755, -2.53061224,\n",
       "       -2.36734694, -2.20408163, -2.04081633, -1.87755102, -1.71428571,\n",
       "       -1.55102041, -1.3877551 , -1.2244898 , -1.06122449, -0.89795918,\n",
       "       -0.73469388, -0.57142857, -0.40816327, -0.24489796, -0.08163265,\n",
       "        0.08163265,  0.24489796,  0.40816327,  0.57142857,  0.73469388,\n",
       "        0.89795918,  1.06122449,  1.2244898 ,  1.3877551 ,  1.55102041,\n",
       "        1.71428571,  1.87755102,  2.04081633,  2.20408163,  2.36734694,\n",
       "        2.53061224,  2.69387755,  2.85714286,  3.02040816,  3.18367347,\n",
       "        3.34693878,  3.51020408,  3.67346939,  3.83673469,  4.        ])"
      ]
     },
     "execution_count": 7,
     "metadata": {},
     "output_type": "execute_result"
    }
   ],
   "source": [
    "np.linspace(-4,4, 50)"
   ]
  },
  {
   "cell_type": "code",
   "execution_count": 8,
   "id": "fec344d3-9398-4c92-9e61-981fd239fa20",
   "metadata": {},
   "outputs": [],
   "source": [
    "myx = np.linspace(-4,4, 50)"
   ]
  },
  {
   "cell_type": "code",
   "execution_count": 9,
   "id": "e31b101e-43f5-49ea-80c2-7b6fbe8214a7",
   "metadata": {},
   "outputs": [
    {
     "data": {
      "text/plain": [
       "array([-4.        , -3.83673469, -3.67346939, -3.51020408, -3.34693878,\n",
       "       -3.18367347, -3.02040816, -2.85714286, -2.69387755, -2.53061224,\n",
       "       -2.36734694, -2.20408163, -2.04081633, -1.87755102, -1.71428571,\n",
       "       -1.55102041, -1.3877551 , -1.2244898 , -1.06122449, -0.89795918,\n",
       "       -0.73469388, -0.57142857, -0.40816327, -0.24489796, -0.08163265,\n",
       "        0.08163265,  0.24489796,  0.40816327,  0.57142857,  0.73469388,\n",
       "        0.89795918,  1.06122449,  1.2244898 ,  1.3877551 ,  1.55102041,\n",
       "        1.71428571,  1.87755102,  2.04081633,  2.20408163,  2.36734694,\n",
       "        2.53061224,  2.69387755,  2.85714286,  3.02040816,  3.18367347,\n",
       "        3.34693878,  3.51020408,  3.67346939,  3.83673469,  4.        ])"
      ]
     },
     "execution_count": 9,
     "metadata": {},
     "output_type": "execute_result"
    }
   ],
   "source": [
    "myx"
   ]
  },
  {
   "cell_type": "code",
   "execution_count": 10,
   "id": "a4587b33-8fa2-4a60-9a97-d439b33da978",
   "metadata": {},
   "outputs": [
    {
     "ename": "TypeError",
     "evalue": "ufunc 'bitwise_xor' not supported for the input types, and the inputs could not be safely coerced to any supported types according to the casting rule ''safe''",
     "output_type": "error",
     "traceback": [
      "\u001b[0;31m---------------------------------------------------------------------------\u001b[0m",
      "\u001b[0;31mTypeError\u001b[0m                                 Traceback (most recent call last)",
      "Cell \u001b[0;32mIn [10], line 1\u001b[0m\n\u001b[0;32m----> 1\u001b[0m \u001b[43mmyx\u001b[49m\u001b[38;5;241;43m^\u001b[39;49m\u001b[38;5;241;43m2\u001b[39;49m\n",
      "\u001b[0;31mTypeError\u001b[0m: ufunc 'bitwise_xor' not supported for the input types, and the inputs could not be safely coerced to any supported types according to the casting rule ''safe''"
     ]
    }
   ],
   "source": [
    "myx^2"
   ]
  },
  {
   "cell_type": "code",
   "execution_count": 11,
   "id": "147c384b-8ded-493a-9cc8-2919b3d7df90",
   "metadata": {},
   "outputs": [
    {
     "data": {
      "text/plain": [
       "array([1.60000000e+01, 1.47205331e+01, 1.34943773e+01, 1.23215327e+01,\n",
       "       1.12019992e+01, 1.01357768e+01, 9.12286547e+00, 8.16326531e+00,\n",
       "       7.25697626e+00, 6.40399833e+00, 5.60433153e+00, 4.85797584e+00,\n",
       "       4.16493128e+00, 3.52519783e+00, 2.93877551e+00, 2.40566431e+00,\n",
       "       1.92586422e+00, 1.49937526e+00, 1.12619742e+00, 8.06330696e-01,\n",
       "       5.39775094e-01, 3.26530612e-01, 1.66597251e-01, 5.99750104e-02,\n",
       "       6.66389005e-03, 6.66389005e-03, 5.99750104e-02, 1.66597251e-01,\n",
       "       3.26530612e-01, 5.39775094e-01, 8.06330696e-01, 1.12619742e+00,\n",
       "       1.49937526e+00, 1.92586422e+00, 2.40566431e+00, 2.93877551e+00,\n",
       "       3.52519783e+00, 4.16493128e+00, 4.85797584e+00, 5.60433153e+00,\n",
       "       6.40399833e+00, 7.25697626e+00, 8.16326531e+00, 9.12286547e+00,\n",
       "       1.01357768e+01, 1.12019992e+01, 1.23215327e+01, 1.34943773e+01,\n",
       "       1.47205331e+01, 1.60000000e+01])"
      ]
     },
     "execution_count": 11,
     "metadata": {},
     "output_type": "execute_result"
    }
   ],
   "source": [
    "myx**2"
   ]
  },
  {
   "cell_type": "code",
   "execution_count": 12,
   "id": "6ac2cf6b-f942-4993-b281-56be199e6add",
   "metadata": {},
   "outputs": [],
   "source": [
    "myy = myx**2"
   ]
  },
  {
   "cell_type": "code",
   "execution_count": 13,
   "id": "a8a577fb-ce76-4a5c-96f4-8ed09e0098d5",
   "metadata": {},
   "outputs": [
    {
     "data": {
      "text/plain": [
       "array([1.60000000e+01, 1.47205331e+01, 1.34943773e+01, 1.23215327e+01,\n",
       "       1.12019992e+01, 1.01357768e+01, 9.12286547e+00, 8.16326531e+00,\n",
       "       7.25697626e+00, 6.40399833e+00, 5.60433153e+00, 4.85797584e+00,\n",
       "       4.16493128e+00, 3.52519783e+00, 2.93877551e+00, 2.40566431e+00,\n",
       "       1.92586422e+00, 1.49937526e+00, 1.12619742e+00, 8.06330696e-01,\n",
       "       5.39775094e-01, 3.26530612e-01, 1.66597251e-01, 5.99750104e-02,\n",
       "       6.66389005e-03, 6.66389005e-03, 5.99750104e-02, 1.66597251e-01,\n",
       "       3.26530612e-01, 5.39775094e-01, 8.06330696e-01, 1.12619742e+00,\n",
       "       1.49937526e+00, 1.92586422e+00, 2.40566431e+00, 2.93877551e+00,\n",
       "       3.52519783e+00, 4.16493128e+00, 4.85797584e+00, 5.60433153e+00,\n",
       "       6.40399833e+00, 7.25697626e+00, 8.16326531e+00, 9.12286547e+00,\n",
       "       1.01357768e+01, 1.12019992e+01, 1.23215327e+01, 1.34943773e+01,\n",
       "       1.47205331e+01, 1.60000000e+01])"
      ]
     },
     "execution_count": 13,
     "metadata": {},
     "output_type": "execute_result"
    }
   ],
   "source": [
    "myy"
   ]
  },
  {
   "cell_type": "code",
   "execution_count": 14,
   "id": "3d3d8952-d599-4b54-bb99-7225f606284e",
   "metadata": {},
   "outputs": [
    {
     "data": {
      "text/plain": [
       "[<matplotlib.lines.Line2D at 0x7fab43765dd0>]"
      ]
     },
     "execution_count": 14,
     "metadata": {},
     "output_type": "execute_result"
    },
    {
     "data": {
      "image/png": "[encoded data removed]",
      "text/plain": [
       "<Figure size 432x288 with 1 Axes>"
      ]
     },
     "metadata": {
      "needs_background": "light"
     },
     "output_type": "display_data"
    }
   ],
   "source": [
    "plt.plot(myx, myy)"
   ]
  },
  {
   "cell_type": "code",
   "execution_count": 15,
   "id": "267122b9-f9b4-47c2-9350-bbabe3cea77c",
   "metadata": {},
   "outputs": [
    {
     "data": {
      "image/png": "[encoded data removed]",
      "text/plain": [
       "<Figure size 432x288 with 1 Axes>"
      ]
     },
     "metadata": {
      "needs_background": "light"
     },
     "output_type": "display_data"
    }
   ],
   "source": [
    "plt.plot(myx, myy)\n",
    "plt.show()"
   ]
  },
  {
   "cell_type": "code",
   "execution_count": null,
   "id": "ff691abe-b7ff-4cd1-b187-11753da1eea2",
   "metadata": {},
   "outputs": [],
   "source": []
  }
 ],
 "metadata": {
  "kernelspec": {
   "display_name": "Python 3",
   "language": "python",
   "name": "python3"
  },
  "language_info": {
   "codemirror_mode": {
    "name": "ipython",
    "version": 3
   },
   "file_extension": ".py",
   "mimetype": "text/x-python",
   "name": "python",
   "nbconvert_exporter": "python",
   "pygments_lexer": "ipython3",
   "version": "3.11.6"
  }
 },
 "nbformat": 4,
 "nbformat_minor": 5
}
