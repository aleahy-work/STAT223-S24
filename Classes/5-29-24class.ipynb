{
 "cells": [
  {
   "cell_type": "markdown",
   "id": "b7d61e95-49a2-46ae-934b-247574feebca",
   "metadata": {},
   "source": [
    "# 5/29/24 Class Notes #"
   ]
  },
  {
   "cell_type": "markdown",
   "id": "3afdafce-20cc-40f3-ae56-6c2466c3da5c",
   "metadata": {},
   "source": [
    "# Some Additional Machine Learning Ideas #"
   ]
  },
  {
   "cell_type": "markdown",
   "id": "f1e872f7-29bc-4aa9-97af-1d2115d39cc5",
   "metadata": {},
   "source": [
    "**Idea:** We now know most of the major classifiers (namely?).  We will just talk about ways that you can extend these ideas (e.g., to images):\n",
    "\n",
    "0. Creating categorical data from continuous data\n",
    "1. Algorithmic Regression algorithms\n",
    "2. Hyperparameter tuning\n",
    "4. Normalizing data (primarily for nearest neighbord (and logistic, naive Bayes)\n",
    "5. Ensemble methods"
   ]
  },
  {
   "cell_type": "markdown",
   "id": "9e04af38-a824-40fe-a385-0d41c2091237",
   "metadata": {
    "jp-MarkdownHeadingCollapsed": true
   },
   "source": [
    "# Creating Categorical Data #\n",
    "\n",
    "You can do this with numpy or pandas"
   ]
  },
  {
   "cell_type": "code",
   "execution_count": 5,
   "id": "ef18300b-4cd7-4874-b0b6-a7cd7c9989d8",
   "metadata": {
    "tags": []
   },
   "outputs": [
    {
     "data": {
      "text/html": [
       "<div>\n",
       "<style scoped>\n",
       "    .dataframe tbody tr th:only-of-type {\n",
       "        vertical-align: middle;\n",
       "    }\n",
       "\n",
       "    .dataframe tbody tr th {\n",
       "        vertical-align: top;\n",
       "    }\n",
       "\n",
       "    .dataframe thead th {\n",
       "        text-align: right;\n",
       "    }\n",
       "</style>\n",
       "<table border=\"1\" class=\"dataframe\">\n",
       "  <thead>\n",
       "    <tr style=\"text-align: right;\">\n",
       "      <th></th>\n",
       "      <th>AGE</th>\n",
       "      <th>GENDER</th>\n",
       "      <th>PULSE</th>\n",
       "      <th>SYSTOLIC</th>\n",
       "      <th>DIASTOLIC</th>\n",
       "      <th>HDL</th>\n",
       "      <th>LDL</th>\n",
       "      <th>WHITE</th>\n",
       "      <th>RED</th>\n",
       "      <th>PLATE</th>\n",
       "      <th>WEIGHT</th>\n",
       "      <th>HEIGHT</th>\n",
       "      <th>WAIST</th>\n",
       "      <th>ARM CIRC</th>\n",
       "      <th>BMI</th>\n",
       "    </tr>\n",
       "  </thead>\n",
       "  <tbody>\n",
       "    <tr>\n",
       "      <th>0</th>\n",
       "      <td>43</td>\n",
       "      <td>0</td>\n",
       "      <td>80</td>\n",
       "      <td>100</td>\n",
       "      <td>70</td>\n",
       "      <td>73</td>\n",
       "      <td>68</td>\n",
       "      <td>8.7</td>\n",
       "      <td>4.80</td>\n",
       "      <td>319</td>\n",
       "      <td>98.6</td>\n",
       "      <td>172.0</td>\n",
       "      <td>120.4</td>\n",
       "      <td>40.7</td>\n",
       "      <td>33.3</td>\n",
       "    </tr>\n",
       "    <tr>\n",
       "      <th>1</th>\n",
       "      <td>57</td>\n",
       "      <td>1</td>\n",
       "      <td>84</td>\n",
       "      <td>112</td>\n",
       "      <td>70</td>\n",
       "      <td>35</td>\n",
       "      <td>116</td>\n",
       "      <td>4.9</td>\n",
       "      <td>4.73</td>\n",
       "      <td>187</td>\n",
       "      <td>96.9</td>\n",
       "      <td>186.0</td>\n",
       "      <td>107.8</td>\n",
       "      <td>37.0</td>\n",
       "      <td>28.0</td>\n",
       "    </tr>\n",
       "    <tr>\n",
       "      <th>2</th>\n",
       "      <td>38</td>\n",
       "      <td>0</td>\n",
       "      <td>94</td>\n",
       "      <td>134</td>\n",
       "      <td>94</td>\n",
       "      <td>36</td>\n",
       "      <td>223</td>\n",
       "      <td>6.9</td>\n",
       "      <td>4.47</td>\n",
       "      <td>297</td>\n",
       "      <td>108.2</td>\n",
       "      <td>154.4</td>\n",
       "      <td>120.3</td>\n",
       "      <td>44.3</td>\n",
       "      <td>45.4</td>\n",
       "    </tr>\n",
       "    <tr>\n",
       "      <th>3</th>\n",
       "      <td>80</td>\n",
       "      <td>1</td>\n",
       "      <td>74</td>\n",
       "      <td>126</td>\n",
       "      <td>64</td>\n",
       "      <td>37</td>\n",
       "      <td>83</td>\n",
       "      <td>7.5</td>\n",
       "      <td>4.32</td>\n",
       "      <td>170</td>\n",
       "      <td>73.1</td>\n",
       "      <td>160.5</td>\n",
       "      <td>97.2</td>\n",
       "      <td>30.3</td>\n",
       "      <td>28.4</td>\n",
       "    </tr>\n",
       "    <tr>\n",
       "      <th>4</th>\n",
       "      <td>34</td>\n",
       "      <td>1</td>\n",
       "      <td>50</td>\n",
       "      <td>114</td>\n",
       "      <td>68</td>\n",
       "      <td>50</td>\n",
       "      <td>104</td>\n",
       "      <td>6.1</td>\n",
       "      <td>4.95</td>\n",
       "      <td>140</td>\n",
       "      <td>83.1</td>\n",
       "      <td>179.0</td>\n",
       "      <td>95.1</td>\n",
       "      <td>34.0</td>\n",
       "      <td>25.9</td>\n",
       "    </tr>\n",
       "  </tbody>\n",
       "</table>\n",
       "</div>"
      ],
      "text/plain": [
       "   AGE  GENDER  PULSE  SYSTOLIC  DIASTOLIC  HDL  LDL  WHITE   RED  PLATE  \\\n",
       "0   43       0     80       100         70   73   68    8.7  4.80    319   \n",
       "1   57       1     84       112         70   35  116    4.9  4.73    187   \n",
       "2   38       0     94       134         94   36  223    6.9  4.47    297   \n",
       "3   80       1     74       126         64   37   83    7.5  4.32    170   \n",
       "4   34       1     50       114         68   50  104    6.1  4.95    140   \n",
       "\n",
       "   WEIGHT  HEIGHT  WAIST  ARM CIRC   BMI  \n",
       "0    98.6   172.0  120.4      40.7  33.3  \n",
       "1    96.9   186.0  107.8      37.0  28.0  \n",
       "2   108.2   154.4  120.3      44.3  45.4  \n",
       "3    73.1   160.5   97.2      30.3  28.4  \n",
       "4    83.1   179.0   95.1      34.0  25.9  "
      ]
     },
     "execution_count": 5,
     "metadata": {},
     "output_type": "execute_result"
    }
   ],
   "source": [
    "import pandas as pd\n",
    "bodydata = pd.read_csv(\"https://raw.githubusercontent.com/aleahy-work/STAT223-S24/main/Data/bodydata.csv\")\n",
    "bodydata.head(5)"
   ]
  },
  {
   "cell_type": "code",
   "execution_count": 31,
   "id": "0d259594-8151-4646-b15b-716e86f75e64",
   "metadata": {
    "tags": []
   },
   "outputs": [
    {
     "data": {
      "text/plain": [
       "count    300.000000\n",
       "mean      28.912333\n",
       "std        6.746703\n",
       "min       15.900000\n",
       "25%       24.500000\n",
       "50%       28.000000\n",
       "75%       31.975000\n",
       "max       59.000000\n",
       "Name: BMI, dtype: float64"
      ]
     },
     "execution_count": 31,
     "metadata": {},
     "output_type": "execute_result"
    }
   ],
   "source": [
    "bodydata['BMI'].describe()"
   ]
  },
  {
   "cell_type": "code",
   "execution_count": 32,
   "id": "2b56d9ab-309e-4569-a454-4f789a0bc0ab",
   "metadata": {
    "tags": []
   },
   "outputs": [],
   "source": [
    "bodydata['obese'] = pd.cut(bodydata['BMI'], bins=[0,30,100], labels=[0,1])"
   ]
  },
  {
   "cell_type": "code",
   "execution_count": 33,
   "id": "aec3d797-a1e0-474a-b700-040ced61e85e",
   "metadata": {
    "tags": []
   },
   "outputs": [
    {
     "data": {
      "text/html": [
       "<div>\n",
       "<style scoped>\n",
       "    .dataframe tbody tr th:only-of-type {\n",
       "        vertical-align: middle;\n",
       "    }\n",
       "\n",
       "    .dataframe tbody tr th {\n",
       "        vertical-align: top;\n",
       "    }\n",
       "\n",
       "    .dataframe thead th {\n",
       "        text-align: right;\n",
       "    }\n",
       "</style>\n",
       "<table border=\"1\" class=\"dataframe\">\n",
       "  <thead>\n",
       "    <tr style=\"text-align: right;\">\n",
       "      <th></th>\n",
       "      <th>AGE</th>\n",
       "      <th>GENDER</th>\n",
       "      <th>PULSE</th>\n",
       "      <th>SYSTOLIC</th>\n",
       "      <th>DIASTOLIC</th>\n",
       "      <th>HDL</th>\n",
       "      <th>LDL</th>\n",
       "      <th>WHITE</th>\n",
       "      <th>RED</th>\n",
       "      <th>PLATE</th>\n",
       "      <th>WEIGHT</th>\n",
       "      <th>HEIGHT</th>\n",
       "      <th>WAIST</th>\n",
       "      <th>ARM CIRC</th>\n",
       "      <th>BMI</th>\n",
       "      <th>obese</th>\n",
       "    </tr>\n",
       "  </thead>\n",
       "  <tbody>\n",
       "    <tr>\n",
       "      <th>0</th>\n",
       "      <td>43</td>\n",
       "      <td>0</td>\n",
       "      <td>80</td>\n",
       "      <td>100</td>\n",
       "      <td>70</td>\n",
       "      <td>73</td>\n",
       "      <td>68</td>\n",
       "      <td>8.7</td>\n",
       "      <td>4.80</td>\n",
       "      <td>319</td>\n",
       "      <td>98.6</td>\n",
       "      <td>172.0</td>\n",
       "      <td>120.4</td>\n",
       "      <td>40.7</td>\n",
       "      <td>33.3</td>\n",
       "      <td>1</td>\n",
       "    </tr>\n",
       "    <tr>\n",
       "      <th>1</th>\n",
       "      <td>57</td>\n",
       "      <td>1</td>\n",
       "      <td>84</td>\n",
       "      <td>112</td>\n",
       "      <td>70</td>\n",
       "      <td>35</td>\n",
       "      <td>116</td>\n",
       "      <td>4.9</td>\n",
       "      <td>4.73</td>\n",
       "      <td>187</td>\n",
       "      <td>96.9</td>\n",
       "      <td>186.0</td>\n",
       "      <td>107.8</td>\n",
       "      <td>37.0</td>\n",
       "      <td>28.0</td>\n",
       "      <td>0</td>\n",
       "    </tr>\n",
       "    <tr>\n",
       "      <th>2</th>\n",
       "      <td>38</td>\n",
       "      <td>0</td>\n",
       "      <td>94</td>\n",
       "      <td>134</td>\n",
       "      <td>94</td>\n",
       "      <td>36</td>\n",
       "      <td>223</td>\n",
       "      <td>6.9</td>\n",
       "      <td>4.47</td>\n",
       "      <td>297</td>\n",
       "      <td>108.2</td>\n",
       "      <td>154.4</td>\n",
       "      <td>120.3</td>\n",
       "      <td>44.3</td>\n",
       "      <td>45.4</td>\n",
       "      <td>1</td>\n",
       "    </tr>\n",
       "    <tr>\n",
       "      <th>3</th>\n",
       "      <td>80</td>\n",
       "      <td>1</td>\n",
       "      <td>74</td>\n",
       "      <td>126</td>\n",
       "      <td>64</td>\n",
       "      <td>37</td>\n",
       "      <td>83</td>\n",
       "      <td>7.5</td>\n",
       "      <td>4.32</td>\n",
       "      <td>170</td>\n",
       "      <td>73.1</td>\n",
       "      <td>160.5</td>\n",
       "      <td>97.2</td>\n",
       "      <td>30.3</td>\n",
       "      <td>28.4</td>\n",
       "      <td>0</td>\n",
       "    </tr>\n",
       "    <tr>\n",
       "      <th>4</th>\n",
       "      <td>34</td>\n",
       "      <td>1</td>\n",
       "      <td>50</td>\n",
       "      <td>114</td>\n",
       "      <td>68</td>\n",
       "      <td>50</td>\n",
       "      <td>104</td>\n",
       "      <td>6.1</td>\n",
       "      <td>4.95</td>\n",
       "      <td>140</td>\n",
       "      <td>83.1</td>\n",
       "      <td>179.0</td>\n",
       "      <td>95.1</td>\n",
       "      <td>34.0</td>\n",
       "      <td>25.9</td>\n",
       "      <td>0</td>\n",
       "    </tr>\n",
       "  </tbody>\n",
       "</table>\n",
       "</div>"
      ],
      "text/plain": [
       "   AGE  GENDER  PULSE  SYSTOLIC  DIASTOLIC  HDL  LDL  WHITE   RED  PLATE  \\\n",
       "0   43       0     80       100         70   73   68    8.7  4.80    319   \n",
       "1   57       1     84       112         70   35  116    4.9  4.73    187   \n",
       "2   38       0     94       134         94   36  223    6.9  4.47    297   \n",
       "3   80       1     74       126         64   37   83    7.5  4.32    170   \n",
       "4   34       1     50       114         68   50  104    6.1  4.95    140   \n",
       "\n",
       "   WEIGHT  HEIGHT  WAIST  ARM CIRC   BMI obese  \n",
       "0    98.6   172.0  120.4      40.7  33.3     1  \n",
       "1    96.9   186.0  107.8      37.0  28.0     0  \n",
       "2   108.2   154.4  120.3      44.3  45.4     1  \n",
       "3    73.1   160.5   97.2      30.3  28.4     0  \n",
       "4    83.1   179.0   95.1      34.0  25.9     0  "
      ]
     },
     "execution_count": 33,
     "metadata": {},
     "output_type": "execute_result"
    }
   ],
   "source": [
    "bodydata.head(5)"
   ]
  },
  {
   "cell_type": "code",
   "execution_count": 34,
   "id": "e9379c0b-b1ab-4aa0-b0dc-2df05cc959f9",
   "metadata": {
    "tags": []
   },
   "outputs": [],
   "source": [
    "neigh = KNeighborsClassifier(n_neighbors=3)"
   ]
  },
  {
   "cell_type": "code",
   "execution_count": 35,
   "id": "79e07e65-6858-405a-9e59-d1ca9d1f2998",
   "metadata": {
    "tags": []
   },
   "outputs": [],
   "source": [
    "train_X, test_X, train_y, test_y = train_test_split(bodydata[['GENDER','WAIST']], np.ravel(bodydata[['obese']]), test_size=0.25)"
   ]
  },
  {
   "cell_type": "code",
   "execution_count": 36,
   "id": "9bb4beaf-6278-4c39-b398-3c1da199ba63",
   "metadata": {
    "tags": []
   },
   "outputs": [
    {
     "data": {
      "text/html": [
       "<style>#sk-container-id-3 {color: black;}#sk-container-id-3 pre{padding: 0;}#sk-container-id-3 div.sk-toggleable {background-color: white;}#sk-container-id-3 label.sk-toggleable__label {cursor: pointer;display: block;width: 100%;margin-bottom: 0;padding: 0.3em;box-sizing: border-box;text-align: center;}#sk-container-id-3 label.sk-toggleable__label-arrow:before {content: \"▸\";float: left;margin-right: 0.25em;color: #696969;}#sk-container-id-3 label.sk-toggleable__label-arrow:hover:before {color: black;}#sk-container-id-3 div.sk-estimator:hover label.sk-toggleable__label-arrow:before {color: black;}#sk-container-id-3 div.sk-toggleable__content {max-height: 0;max-width: 0;overflow: hidden;text-align: left;background-color: #f0f8ff;}#sk-container-id-3 div.sk-toggleable__content pre {margin: 0.2em;color: black;border-radius: 0.25em;background-color: #f0f8ff;}#sk-container-id-3 input.sk-toggleable__control:checked~div.sk-toggleable__content {max-height: 200px;max-width: 100%;overflow: auto;}#sk-container-id-3 input.sk-toggleable__control:checked~label.sk-toggleable__label-arrow:before {content: \"▾\";}#sk-container-id-3 div.sk-estimator input.sk-toggleable__control:checked~label.sk-toggleable__label {background-color: #d4ebff;}#sk-container-id-3 div.sk-label input.sk-toggleable__control:checked~label.sk-toggleable__label {background-color: #d4ebff;}#sk-container-id-3 input.sk-hidden--visually {border: 0;clip: rect(1px 1px 1px 1px);clip: rect(1px, 1px, 1px, 1px);height: 1px;margin: -1px;overflow: hidden;padding: 0;position: absolute;width: 1px;}#sk-container-id-3 div.sk-estimator {font-family: monospace;background-color: #f0f8ff;border: 1px dotted black;border-radius: 0.25em;box-sizing: border-box;margin-bottom: 0.5em;}#sk-container-id-3 div.sk-estimator:hover {background-color: #d4ebff;}#sk-container-id-3 div.sk-parallel-item::after {content: \"\";width: 100%;border-bottom: 1px solid gray;flex-grow: 1;}#sk-container-id-3 div.sk-label:hover label.sk-toggleable__label {background-color: #d4ebff;}#sk-container-id-3 div.sk-serial::before {content: \"\";position: absolute;border-left: 1px solid gray;box-sizing: border-box;top: 0;bottom: 0;left: 50%;z-index: 0;}#sk-container-id-3 div.sk-serial {display: flex;flex-direction: column;align-items: center;background-color: white;padding-right: 0.2em;padding-left: 0.2em;position: relative;}#sk-container-id-3 div.sk-item {position: relative;z-index: 1;}#sk-container-id-3 div.sk-parallel {display: flex;align-items: stretch;justify-content: center;background-color: white;position: relative;}#sk-container-id-3 div.sk-item::before, #sk-container-id-3 div.sk-parallel-item::before {content: \"\";position: absolute;border-left: 1px solid gray;box-sizing: border-box;top: 0;bottom: 0;left: 50%;z-index: -1;}#sk-container-id-3 div.sk-parallel-item {display: flex;flex-direction: column;z-index: 1;position: relative;background-color: white;}#sk-container-id-3 div.sk-parallel-item:first-child::after {align-self: flex-end;width: 50%;}#sk-container-id-3 div.sk-parallel-item:last-child::after {align-self: flex-start;width: 50%;}#sk-container-id-3 div.sk-parallel-item:only-child::after {width: 0;}#sk-container-id-3 div.sk-dashed-wrapped {border: 1px dashed gray;margin: 0 0.4em 0.5em 0.4em;box-sizing: border-box;padding-bottom: 0.4em;background-color: white;}#sk-container-id-3 div.sk-label label {font-family: monospace;font-weight: bold;display: inline-block;line-height: 1.2em;}#sk-container-id-3 div.sk-label-container {text-align: center;}#sk-container-id-3 div.sk-container {/* jupyter's `normalize.less` sets `[hidden] { display: none; }` but bootstrap.min.css set `[hidden] { display: none !important; }` so we also need the `!important` here to be able to override the default hidden behavior on the sphinx rendered scikit-learn.org. See: https://github.com/scikit-learn/scikit-learn/issues/21755 */display: inline-block !important;position: relative;}#sk-container-id-3 div.sk-text-repr-fallback {display: none;}</style><div id=\"sk-container-id-3\" class=\"sk-top-container\"><div class=\"sk-text-repr-fallback\"><pre>KNeighborsClassifier(n_neighbors=3)</pre><b>In a Jupyter environment, please rerun this cell to show the HTML representation or trust the notebook. <br />On GitHub, the HTML representation is unable to render, please try loading this page with nbviewer.org.</b></div><div class=\"sk-container\" hidden><div class=\"sk-item\"><div class=\"sk-estimator sk-toggleable\"><input class=\"sk-toggleable__control sk-hidden--visually\" id=\"sk-estimator-id-3\" type=\"checkbox\" checked><label for=\"sk-estimator-id-3\" class=\"sk-toggleable__label sk-toggleable__label-arrow\">KNeighborsClassifier</label><div class=\"sk-toggleable__content\"><pre>KNeighborsClassifier(n_neighbors=3)</pre></div></div></div></div></div>"
      ],
      "text/plain": [
       "KNeighborsClassifier(n_neighbors=3)"
      ]
     },
     "execution_count": 36,
     "metadata": {},
     "output_type": "execute_result"
    }
   ],
   "source": [
    "neigh.fit(train_X, train_y)"
   ]
  },
  {
   "cell_type": "code",
   "execution_count": 37,
   "id": "e848ff7d-2c1a-459d-aaee-ad776d710b32",
   "metadata": {
    "tags": []
   },
   "outputs": [],
   "source": [
    "predicted = neigh.predict(test_X)"
   ]
  },
  {
   "cell_type": "code",
   "execution_count": 38,
   "id": "9ecd0564-de25-46db-b347-4ac42d2aa463",
   "metadata": {
    "jupyter": {
     "source_hidden": true
    },
    "tags": []
   },
   "outputs": [
    {
     "data": {
      "text/plain": [
       "array([[42,  3],\n",
       "       [ 7, 23]])"
      ]
     },
     "execution_count": 38,
     "metadata": {},
     "output_type": "execute_result"
    }
   ],
   "source": [
    "confusion_matrix(predicted, test_y)"
   ]
  },
  {
   "cell_type": "markdown",
   "id": "255cc200-bb07-4da3-8c69-322cdb2ab877",
   "metadata": {
    "jp-MarkdownHeadingCollapsed": true
   },
   "source": [
    "# Algorithmic Regression #\n",
    "\n",
    "k-NN also yields a [regression algorithm](https://scikit-learn.org/stable/modules/neighbors.html#regression) in which \"the label assigned to a query point is computed based on the mean of the labels of its nearest neighbors\".  The SKLearn command is [KNeighborsRegressor](https://scikit-learn.org/stable/modules/generated/sklearn.neighbors.KNeighborsRegressor.html). \n",
    "\n",
    "There is also [decision tree regression](https://scikit-learn.org/stable/auto_examples/tree/plot_tree_regression.html) using [DecisionTreeRegressor](https://scikit-learn.org/stable/modules/generated/sklearn.tree.DecisionTreeRegressor.html) in which you (1) divide each interval obtained in each variable and then (2) choose your decision to minimize the SSE--that is, the squared difference between the average of the values in the subinterval and the actual values.\n"
   ]
  },
  {
   "cell_type": "code",
   "execution_count": 14,
   "id": "b856fcbd-ec67-4937-a413-46c4229cadce",
   "metadata": {},
   "outputs": [],
   "source": [
    "import pandas as pd\n",
    "mydata = pd.read_csv(\"https://raw.githubusercontent.com/aleahy-work/STAT223-S24/main/Data/bodydata.csv\")\n"
   ]
  },
  {
   "cell_type": "code",
   "execution_count": 15,
   "id": "a2e02541-7d88-4aa0-ba45-9260323b1ac1",
   "metadata": {},
   "outputs": [
    {
     "data": {
      "text/html": [
       "<div>\n",
       "<style scoped>\n",
       "    .dataframe tbody tr th:only-of-type {\n",
       "        vertical-align: middle;\n",
       "    }\n",
       "\n",
       "    .dataframe tbody tr th {\n",
       "        vertical-align: top;\n",
       "    }\n",
       "\n",
       "    .dataframe thead th {\n",
       "        text-align: right;\n",
       "    }\n",
       "</style>\n",
       "<table border=\"1\" class=\"dataframe\">\n",
       "  <thead>\n",
       "    <tr style=\"text-align: right;\">\n",
       "      <th></th>\n",
       "      <th>AGE</th>\n",
       "      <th>GENDER</th>\n",
       "      <th>PULSE</th>\n",
       "      <th>SYSTOLIC</th>\n",
       "      <th>DIASTOLIC</th>\n",
       "      <th>HDL</th>\n",
       "      <th>LDL</th>\n",
       "      <th>WHITE</th>\n",
       "      <th>RED</th>\n",
       "      <th>PLATE</th>\n",
       "      <th>WEIGHT</th>\n",
       "      <th>HEIGHT</th>\n",
       "      <th>WAIST</th>\n",
       "      <th>ARM CIRC</th>\n",
       "      <th>BMI</th>\n",
       "    </tr>\n",
       "  </thead>\n",
       "  <tbody>\n",
       "    <tr>\n",
       "      <th>0</th>\n",
       "      <td>43</td>\n",
       "      <td>0</td>\n",
       "      <td>80</td>\n",
       "      <td>100</td>\n",
       "      <td>70</td>\n",
       "      <td>73</td>\n",
       "      <td>68</td>\n",
       "      <td>8.7</td>\n",
       "      <td>4.80</td>\n",
       "      <td>319</td>\n",
       "      <td>98.6</td>\n",
       "      <td>172.0</td>\n",
       "      <td>120.4</td>\n",
       "      <td>40.7</td>\n",
       "      <td>33.3</td>\n",
       "    </tr>\n",
       "    <tr>\n",
       "      <th>1</th>\n",
       "      <td>57</td>\n",
       "      <td>1</td>\n",
       "      <td>84</td>\n",
       "      <td>112</td>\n",
       "      <td>70</td>\n",
       "      <td>35</td>\n",
       "      <td>116</td>\n",
       "      <td>4.9</td>\n",
       "      <td>4.73</td>\n",
       "      <td>187</td>\n",
       "      <td>96.9</td>\n",
       "      <td>186.0</td>\n",
       "      <td>107.8</td>\n",
       "      <td>37.0</td>\n",
       "      <td>28.0</td>\n",
       "    </tr>\n",
       "    <tr>\n",
       "      <th>2</th>\n",
       "      <td>38</td>\n",
       "      <td>0</td>\n",
       "      <td>94</td>\n",
       "      <td>134</td>\n",
       "      <td>94</td>\n",
       "      <td>36</td>\n",
       "      <td>223</td>\n",
       "      <td>6.9</td>\n",
       "      <td>4.47</td>\n",
       "      <td>297</td>\n",
       "      <td>108.2</td>\n",
       "      <td>154.4</td>\n",
       "      <td>120.3</td>\n",
       "      <td>44.3</td>\n",
       "      <td>45.4</td>\n",
       "    </tr>\n",
       "    <tr>\n",
       "      <th>3</th>\n",
       "      <td>80</td>\n",
       "      <td>1</td>\n",
       "      <td>74</td>\n",
       "      <td>126</td>\n",
       "      <td>64</td>\n",
       "      <td>37</td>\n",
       "      <td>83</td>\n",
       "      <td>7.5</td>\n",
       "      <td>4.32</td>\n",
       "      <td>170</td>\n",
       "      <td>73.1</td>\n",
       "      <td>160.5</td>\n",
       "      <td>97.2</td>\n",
       "      <td>30.3</td>\n",
       "      <td>28.4</td>\n",
       "    </tr>\n",
       "    <tr>\n",
       "      <th>4</th>\n",
       "      <td>34</td>\n",
       "      <td>1</td>\n",
       "      <td>50</td>\n",
       "      <td>114</td>\n",
       "      <td>68</td>\n",
       "      <td>50</td>\n",
       "      <td>104</td>\n",
       "      <td>6.1</td>\n",
       "      <td>4.95</td>\n",
       "      <td>140</td>\n",
       "      <td>83.1</td>\n",
       "      <td>179.0</td>\n",
       "      <td>95.1</td>\n",
       "      <td>34.0</td>\n",
       "      <td>25.9</td>\n",
       "    </tr>\n",
       "  </tbody>\n",
       "</table>\n",
       "</div>"
      ],
      "text/plain": [
       "   AGE  GENDER  PULSE  SYSTOLIC  DIASTOLIC  HDL  LDL  WHITE   RED  PLATE  \\\n",
       "0   43       0     80       100         70   73   68    8.7  4.80    319   \n",
       "1   57       1     84       112         70   35  116    4.9  4.73    187   \n",
       "2   38       0     94       134         94   36  223    6.9  4.47    297   \n",
       "3   80       1     74       126         64   37   83    7.5  4.32    170   \n",
       "4   34       1     50       114         68   50  104    6.1  4.95    140   \n",
       "\n",
       "   WEIGHT  HEIGHT  WAIST  ARM CIRC   BMI  \n",
       "0    98.6   172.0  120.4      40.7  33.3  \n",
       "1    96.9   186.0  107.8      37.0  28.0  \n",
       "2   108.2   154.4  120.3      44.3  45.4  \n",
       "3    73.1   160.5   97.2      30.3  28.4  \n",
       "4    83.1   179.0   95.1      34.0  25.9  "
      ]
     },
     "execution_count": 15,
     "metadata": {},
     "output_type": "execute_result"
    }
   ],
   "source": [
    "mydata.head(5)"
   ]
  },
  {
   "cell_type": "code",
   "execution_count": 18,
   "id": "39db429c-ffef-418f-82be-a727c8997c73",
   "metadata": {},
   "outputs": [],
   "source": [
    "from sklearn.model_selection import train_test_split"
   ]
  },
  {
   "cell_type": "code",
   "execution_count": 16,
   "id": "c5534ec6-8a36-43f8-a4d7-fd4570e12182",
   "metadata": {},
   "outputs": [],
   "source": [
    "from sklearn.neighbors import KNeighborsRegressor"
   ]
  },
  {
   "cell_type": "code",
   "execution_count": 17,
   "id": "ddf5f971-bf5b-4f62-b7cf-a46650a17e32",
   "metadata": {},
   "outputs": [],
   "source": [
    "myregress = KNeighborsRegressor(n_neighbors = 3)"
   ]
  },
  {
   "cell_type": "code",
   "execution_count": 21,
   "id": "6e2c1e20-ea87-48cf-adab-f0925ee74a9e",
   "metadata": {},
   "outputs": [],
   "source": [
    "train_X, test_X, train_y, test_y = train_test_split(mydata[['WEIGHT','HEIGHT']], mydata['WAIST'], test_size=0.3)"
   ]
  },
  {
   "cell_type": "code",
   "execution_count": 22,
   "id": "044dc084-e494-45aa-82b9-ba9a3396e855",
   "metadata": {},
   "outputs": [
    {
     "data": {
      "text/html": [
       "<style>#sk-container-id-1 {color: black;}#sk-container-id-1 pre{padding: 0;}#sk-container-id-1 div.sk-toggleable {background-color: white;}#sk-container-id-1 label.sk-toggleable__label {cursor: pointer;display: block;width: 100%;margin-bottom: 0;padding: 0.3em;box-sizing: border-box;text-align: center;}#sk-container-id-1 label.sk-toggleable__label-arrow:before {content: \"▸\";float: left;margin-right: 0.25em;color: #696969;}#sk-container-id-1 label.sk-toggleable__label-arrow:hover:before {color: black;}#sk-container-id-1 div.sk-estimator:hover label.sk-toggleable__label-arrow:before {color: black;}#sk-container-id-1 div.sk-toggleable__content {max-height: 0;max-width: 0;overflow: hidden;text-align: left;background-color: #f0f8ff;}#sk-container-id-1 div.sk-toggleable__content pre {margin: 0.2em;color: black;border-radius: 0.25em;background-color: #f0f8ff;}#sk-container-id-1 input.sk-toggleable__control:checked~div.sk-toggleable__content {max-height: 200px;max-width: 100%;overflow: auto;}#sk-container-id-1 input.sk-toggleable__control:checked~label.sk-toggleable__label-arrow:before {content: \"▾\";}#sk-container-id-1 div.sk-estimator input.sk-toggleable__control:checked~label.sk-toggleable__label {background-color: #d4ebff;}#sk-container-id-1 div.sk-label input.sk-toggleable__control:checked~label.sk-toggleable__label {background-color: #d4ebff;}#sk-container-id-1 input.sk-hidden--visually {border: 0;clip: rect(1px 1px 1px 1px);clip: rect(1px, 1px, 1px, 1px);height: 1px;margin: -1px;overflow: hidden;padding: 0;position: absolute;width: 1px;}#sk-container-id-1 div.sk-estimator {font-family: monospace;background-color: #f0f8ff;border: 1px dotted black;border-radius: 0.25em;box-sizing: border-box;margin-bottom: 0.5em;}#sk-container-id-1 div.sk-estimator:hover {background-color: #d4ebff;}#sk-container-id-1 div.sk-parallel-item::after {content: \"\";width: 100%;border-bottom: 1px solid gray;flex-grow: 1;}#sk-container-id-1 div.sk-label:hover label.sk-toggleable__label {background-color: #d4ebff;}#sk-container-id-1 div.sk-serial::before {content: \"\";position: absolute;border-left: 1px solid gray;box-sizing: border-box;top: 0;bottom: 0;left: 50%;z-index: 0;}#sk-container-id-1 div.sk-serial {display: flex;flex-direction: column;align-items: center;background-color: white;padding-right: 0.2em;padding-left: 0.2em;position: relative;}#sk-container-id-1 div.sk-item {position: relative;z-index: 1;}#sk-container-id-1 div.sk-parallel {display: flex;align-items: stretch;justify-content: center;background-color: white;position: relative;}#sk-container-id-1 div.sk-item::before, #sk-container-id-1 div.sk-parallel-item::before {content: \"\";position: absolute;border-left: 1px solid gray;box-sizing: border-box;top: 0;bottom: 0;left: 50%;z-index: -1;}#sk-container-id-1 div.sk-parallel-item {display: flex;flex-direction: column;z-index: 1;position: relative;background-color: white;}#sk-container-id-1 div.sk-parallel-item:first-child::after {align-self: flex-end;width: 50%;}#sk-container-id-1 div.sk-parallel-item:last-child::after {align-self: flex-start;width: 50%;}#sk-container-id-1 div.sk-parallel-item:only-child::after {width: 0;}#sk-container-id-1 div.sk-dashed-wrapped {border: 1px dashed gray;margin: 0 0.4em 0.5em 0.4em;box-sizing: border-box;padding-bottom: 0.4em;background-color: white;}#sk-container-id-1 div.sk-label label {font-family: monospace;font-weight: bold;display: inline-block;line-height: 1.2em;}#sk-container-id-1 div.sk-label-container {text-align: center;}#sk-container-id-1 div.sk-container {/* jupyter's `normalize.less` sets `[hidden] { display: none; }` but bootstrap.min.css set `[hidden] { display: none !important; }` so we also need the `!important` here to be able to override the default hidden behavior on the sphinx rendered scikit-learn.org. See: https://github.com/scikit-learn/scikit-learn/issues/21755 */display: inline-block !important;position: relative;}#sk-container-id-1 div.sk-text-repr-fallback {display: none;}</style><div id=\"sk-container-id-1\" class=\"sk-top-container\"><div class=\"sk-text-repr-fallback\"><pre>KNeighborsRegressor(n_neighbors=3)</pre><b>In a Jupyter environment, please rerun this cell to show the HTML representation or trust the notebook. <br />On GitHub, the HTML representation is unable to render, please try loading this page with nbviewer.org.</b></div><div class=\"sk-container\" hidden><div class=\"sk-item\"><div class=\"sk-estimator sk-toggleable\"><input class=\"sk-toggleable__control sk-hidden--visually\" id=\"sk-estimator-id-1\" type=\"checkbox\" checked><label for=\"sk-estimator-id-1\" class=\"sk-toggleable__label sk-toggleable__label-arrow\">KNeighborsRegressor</label><div class=\"sk-toggleable__content\"><pre>KNeighborsRegressor(n_neighbors=3)</pre></div></div></div></div></div>"
      ],
      "text/plain": [
       "KNeighborsRegressor(n_neighbors=3)"
      ]
     },
     "execution_count": 22,
     "metadata": {},
     "output_type": "execute_result"
    }
   ],
   "source": [
    "myregress.fit(train_X, train_y)"
   ]
  },
  {
   "cell_type": "code",
   "execution_count": 24,
   "id": "3a50758a-5c1b-4b79-8a7f-15da162506b2",
   "metadata": {},
   "outputs": [],
   "source": [
    "mypredict = myregress.predict(test_X)"
   ]
  },
  {
   "cell_type": "code",
   "execution_count": 27,
   "id": "62cbe72a-0b8b-481b-8108-720c5eb6dd18",
   "metadata": {},
   "outputs": [],
   "source": [
    "from sklearn.metrics import mean_squared_error"
   ]
  },
  {
   "cell_type": "code",
   "execution_count": 28,
   "id": "d8d01ab1-ae21-471b-bf25-f20e9bb397d1",
   "metadata": {},
   "outputs": [
    {
     "data": {
      "text/plain": [
       "54.73248148148146"
      ]
     },
     "execution_count": 28,
     "metadata": {},
     "output_type": "execute_result"
    }
   ],
   "source": [
    "mean_squared_error(mypredict, test_y)"
   ]
  },
  {
   "cell_type": "code",
   "execution_count": 32,
   "id": "2220b6c7-440e-48f0-963a-9e3dcc58f102",
   "metadata": {},
   "outputs": [],
   "source": [
    "myregress2 = KNeighborsRegressor(n_neighbors = 5)\n",
    "myregress2.fit(train_X, train_y)\n",
    "mypredict2 =  myregress2.predict(test_X)"
   ]
  },
  {
   "cell_type": "code",
   "execution_count": 33,
   "id": "bfe2d4b9-402f-4b53-a70e-991ea016204c",
   "metadata": {},
   "outputs": [
    {
     "data": {
      "text/plain": [
       "52.9986088888889"
      ]
     },
     "execution_count": 33,
     "metadata": {},
     "output_type": "execute_result"
    }
   ],
   "source": [
    "mean_squared_error(mypredict2, test_y)"
   ]
  },
  {
   "cell_type": "markdown",
   "id": "91c674e7-8e84-4c17-b1ed-24f228d6cb99",
   "metadata": {},
   "source": [
    "# Hyperparameter Tuning ##\n",
    "\n",
    "Models are build from *parameters* and *hyperparameters*.  The model finds the *parameters* using some sort of algorithm.  You get the **choose** the *hyperparameters*.  You can do this by hand (see, e.g., the homework) or you can do this using [GridSearchCV](https://scikit-learn.org/stable/modules/generated/sklearn.model_selection.GridSearchCV.html). "
   ]
  },
  {
   "cell_type": "code",
   "execution_count": null,
   "id": "87c4c933-1bdc-4180-ae13-eab8cd005c63",
   "metadata": {},
   "outputs": [],
   "source": []
  },
  {
   "cell_type": "code",
   "execution_count": 13,
   "id": "47ea40ee-1d7a-4243-b45b-1a0144a0ebfa",
   "metadata": {},
   "outputs": [],
   "source": [
    "from sklearn.model_selection import GridSearchCV"
   ]
  },
  {
   "cell_type": "markdown",
   "id": "cceb069c-8331-4501-9831-cd5e645c15ad",
   "metadata": {},
   "source": [
    "### Example ###"
   ]
  },
  {
   "cell_type": "code",
   "execution_count": 2,
   "id": "18e57962-ab19-41f0-ba35-2a34d629a32b",
   "metadata": {},
   "outputs": [
    {
     "name": "stdout",
     "output_type": "stream",
     "text": [
      "0.9800000000000001\n",
      "{'n_neighbors': 13, 'weights': 'uniform'}\n",
      "KNeighborsClassifier(n_neighbors=13)\n"
     ]
    }
   ],
   "source": [
    "from sklearn.model_selection import GridSearchCV\n",
    "\n",
    "from sklearn.datasets import load_iris\n",
    "from sklearn.neighbors import KNeighborsClassifier\n",
    "\n",
    "iris = load_iris()\n",
    "\n",
    "X = iris.data\n",
    "y = iris.target\n",
    "\n",
    "k_range = list(range(1,31))\n",
    "weight_options = [\"uniform\", \"distance\"]\n",
    "\n",
    "param_grid = dict(n_neighbors = k_range, weights = weight_options)\n",
    "#print (param_grid)\n",
    "knn = KNeighborsClassifier()\n",
    "\n",
    "grid = GridSearchCV(knn, param_grid, cv = 10, scoring = 'accuracy')\n",
    "grid.fit(X,y)\n",
    "\n",
    "#print(grid.grid_scores_)\n",
    "'''\n",
    "print(grid.grid_scores_[0].parameters)\n",
    "print(grid.grid_scores_[0].cv_validation_scores)\n",
    "print(grid.grid_scores_[0].mean_validation_score)\n",
    "'''\n",
    "\n",
    "print (grid.best_score_)\n",
    "print (grid.best_params_)\n",
    "print (grid.best_estimator_)"
   ]
  },
  {
   "cell_type": "markdown",
   "id": "c1f0c6d8-4ad1-4960-b5ef-c7580034828c",
   "metadata": {},
   "source": [
    "### Example 2: (This won't work--missing data, etc) ###"
   ]
  },
  {
   "cell_type": "code",
   "execution_count": 62,
   "id": "fdd740b7-f310-4992-a0d0-3407afd5a9cf",
   "metadata": {},
   "outputs": [],
   "source": [
    "params = {\n",
    "    'max_depth': [2, 3, 5, 10, 20],\n",
    "    'min_samples_leaf': [5, 10, 20, 50, 100],\n",
    "    'criterion': [\"gini\", \"entropy\"]\n",
    "}"
   ]
  },
  {
   "cell_type": "code",
   "execution_count": 63,
   "id": "1c90d273-78b5-4d8c-bf69-bd42b165ac24",
   "metadata": {},
   "outputs": [],
   "source": [
    "grid_search = GridSearchCV(estimator=mydt, \n",
    "                           param_grid=params, \n",
    "                           cv=4, n_jobs=-1, verbose=1, scoring = \"accuracy\")"
   ]
  },
  {
   "cell_type": "code",
   "execution_count": 65,
   "id": "9cef29fd-bbde-4216-bcdd-038a5ad3d515",
   "metadata": {},
   "outputs": [
    {
     "name": "stdout",
     "output_type": "stream",
     "text": [
      "Fitting 4 folds for each of 50 candidates, totalling 200 fits\n"
     ]
    },
    {
     "data": {
      "text/html": [
       "<style>#sk-container-id-3 {color: black;background-color: white;}#sk-container-id-3 pre{padding: 0;}#sk-container-id-3 div.sk-toggleable {background-color: white;}#sk-container-id-3 label.sk-toggleable__label {cursor: pointer;display: block;width: 100%;margin-bottom: 0;padding: 0.3em;box-sizing: border-box;text-align: center;}#sk-container-id-3 label.sk-toggleable__label-arrow:before {content: \"▸\";float: left;margin-right: 0.25em;color: #696969;}#sk-container-id-3 label.sk-toggleable__label-arrow:hover:before {color: black;}#sk-container-id-3 div.sk-estimator:hover label.sk-toggleable__label-arrow:before {color: black;}#sk-container-id-3 div.sk-toggleable__content {max-height: 0;max-width: 0;overflow: hidden;text-align: left;background-color: #f0f8ff;}#sk-container-id-3 div.sk-toggleable__content pre {margin: 0.2em;color: black;border-radius: 0.25em;background-color: #f0f8ff;}#sk-container-id-3 input.sk-toggleable__control:checked~div.sk-toggleable__content {max-height: 200px;max-width: 100%;overflow: auto;}#sk-container-id-3 input.sk-toggleable__control:checked~label.sk-toggleable__label-arrow:before {content: \"▾\";}#sk-container-id-3 div.sk-estimator input.sk-toggleable__control:checked~label.sk-toggleable__label {background-color: #d4ebff;}#sk-container-id-3 div.sk-label input.sk-toggleable__control:checked~label.sk-toggleable__label {background-color: #d4ebff;}#sk-container-id-3 input.sk-hidden--visually {border: 0;clip: rect(1px 1px 1px 1px);clip: rect(1px, 1px, 1px, 1px);height: 1px;margin: -1px;overflow: hidden;padding: 0;position: absolute;width: 1px;}#sk-container-id-3 div.sk-estimator {font-family: monospace;background-color: #f0f8ff;border: 1px dotted black;border-radius: 0.25em;box-sizing: border-box;margin-bottom: 0.5em;}#sk-container-id-3 div.sk-estimator:hover {background-color: #d4ebff;}#sk-container-id-3 div.sk-parallel-item::after {content: \"\";width: 100%;border-bottom: 1px solid gray;flex-grow: 1;}#sk-container-id-3 div.sk-label:hover label.sk-toggleable__label {background-color: #d4ebff;}#sk-container-id-3 div.sk-serial::before {content: \"\";position: absolute;border-left: 1px solid gray;box-sizing: border-box;top: 0;bottom: 0;left: 50%;z-index: 0;}#sk-container-id-3 div.sk-serial {display: flex;flex-direction: column;align-items: center;background-color: white;padding-right: 0.2em;padding-left: 0.2em;position: relative;}#sk-container-id-3 div.sk-item {position: relative;z-index: 1;}#sk-container-id-3 div.sk-parallel {display: flex;align-items: stretch;justify-content: center;background-color: white;position: relative;}#sk-container-id-3 div.sk-item::before, #sk-container-id-3 div.sk-parallel-item::before {content: \"\";position: absolute;border-left: 1px solid gray;box-sizing: border-box;top: 0;bottom: 0;left: 50%;z-index: -1;}#sk-container-id-3 div.sk-parallel-item {display: flex;flex-direction: column;z-index: 1;position: relative;background-color: white;}#sk-container-id-3 div.sk-parallel-item:first-child::after {align-self: flex-end;width: 50%;}#sk-container-id-3 div.sk-parallel-item:last-child::after {align-self: flex-start;width: 50%;}#sk-container-id-3 div.sk-parallel-item:only-child::after {width: 0;}#sk-container-id-3 div.sk-dashed-wrapped {border: 1px dashed gray;margin: 0 0.4em 0.5em 0.4em;box-sizing: border-box;padding-bottom: 0.4em;background-color: white;}#sk-container-id-3 div.sk-label label {font-family: monospace;font-weight: bold;display: inline-block;line-height: 1.2em;}#sk-container-id-3 div.sk-label-container {text-align: center;}#sk-container-id-3 div.sk-container {/* jupyter's `normalize.less` sets `[hidden] { display: none; }` but bootstrap.min.css set `[hidden] { display: none !important; }` so we also need the `!important` here to be able to override the default hidden behavior on the sphinx rendered scikit-learn.org. See: https://github.com/scikit-learn/scikit-learn/issues/21755 */display: inline-block !important;position: relative;}#sk-container-id-3 div.sk-text-repr-fallback {display: none;}</style><div id=\"sk-container-id-3\" class=\"sk-top-container\"><div class=\"sk-text-repr-fallback\"><pre>GridSearchCV(cv=4, estimator=DecisionTreeClassifier(max_depth=3), n_jobs=-1,\n",
       "             param_grid={&#x27;criterion&#x27;: [&#x27;gini&#x27;, &#x27;entropy&#x27;],\n",
       "                         &#x27;max_depth&#x27;: [2, 3, 5, 10, 20],\n",
       "                         &#x27;min_samples_leaf&#x27;: [5, 10, 20, 50, 100]},\n",
       "             scoring=&#x27;accuracy&#x27;, verbose=1)</pre><b>In a Jupyter environment, please rerun this cell to show the HTML representation or trust the notebook. <br />On GitHub, the HTML representation is unable to render, please try loading this page with nbviewer.org.</b></div><div class=\"sk-container\" hidden><div class=\"sk-item sk-dashed-wrapped\"><div class=\"sk-label-container\"><div class=\"sk-label sk-toggleable\"><input class=\"sk-toggleable__control sk-hidden--visually\" id=\"sk-estimator-id-3\" type=\"checkbox\" ><label for=\"sk-estimator-id-3\" class=\"sk-toggleable__label sk-toggleable__label-arrow\">GridSearchCV</label><div class=\"sk-toggleable__content\"><pre>GridSearchCV(cv=4, estimator=DecisionTreeClassifier(max_depth=3), n_jobs=-1,\n",
       "             param_grid={&#x27;criterion&#x27;: [&#x27;gini&#x27;, &#x27;entropy&#x27;],\n",
       "                         &#x27;max_depth&#x27;: [2, 3, 5, 10, 20],\n",
       "                         &#x27;min_samples_leaf&#x27;: [5, 10, 20, 50, 100]},\n",
       "             scoring=&#x27;accuracy&#x27;, verbose=1)</pre></div></div></div><div class=\"sk-parallel\"><div class=\"sk-parallel-item\"><div class=\"sk-item\"><div class=\"sk-label-container\"><div class=\"sk-label sk-toggleable\"><input class=\"sk-toggleable__control sk-hidden--visually\" id=\"sk-estimator-id-4\" type=\"checkbox\" ><label for=\"sk-estimator-id-4\" class=\"sk-toggleable__label sk-toggleable__label-arrow\">estimator: DecisionTreeClassifier</label><div class=\"sk-toggleable__content\"><pre>DecisionTreeClassifier(max_depth=3)</pre></div></div></div><div class=\"sk-serial\"><div class=\"sk-item\"><div class=\"sk-estimator sk-toggleable\"><input class=\"sk-toggleable__control sk-hidden--visually\" id=\"sk-estimator-id-5\" type=\"checkbox\" ><label for=\"sk-estimator-id-5\" class=\"sk-toggleable__label sk-toggleable__label-arrow\">DecisionTreeClassifier</label><div class=\"sk-toggleable__content\"><pre>DecisionTreeClassifier(max_depth=3)</pre></div></div></div></div></div></div></div></div></div></div>"
      ],
      "text/plain": [
       "GridSearchCV(cv=4, estimator=DecisionTreeClassifier(max_depth=3), n_jobs=-1,\n",
       "             param_grid={'criterion': ['gini', 'entropy'],\n",
       "                         'max_depth': [2, 3, 5, 10, 20],\n",
       "                         'min_samples_leaf': [5, 10, 20, 50, 100]},\n",
       "             scoring='accuracy', verbose=1)"
      ]
     },
     "execution_count": 65,
     "metadata": {},
     "output_type": "execute_result"
    }
   ],
   "source": [
    "grid_search.fit(train_X, train_y)"
   ]
  },
  {
   "cell_type": "code",
   "execution_count": 66,
   "id": "edc47f32-b293-43b4-aa8c-8acf17c58ae9",
   "metadata": {},
   "outputs": [
    {
     "data": {
      "text/html": [
       "<div>\n",
       "<style scoped>\n",
       "    .dataframe tbody tr th:only-of-type {\n",
       "        vertical-align: middle;\n",
       "    }\n",
       "\n",
       "    .dataframe tbody tr th {\n",
       "        vertical-align: top;\n",
       "    }\n",
       "\n",
       "    .dataframe thead th {\n",
       "        text-align: right;\n",
       "    }\n",
       "</style>\n",
       "<table border=\"1\" class=\"dataframe\">\n",
       "  <thead>\n",
       "    <tr style=\"text-align: right;\">\n",
       "      <th></th>\n",
       "      <th>mean_fit_time</th>\n",
       "      <th>std_fit_time</th>\n",
       "      <th>mean_score_time</th>\n",
       "      <th>std_score_time</th>\n",
       "      <th>param_criterion</th>\n",
       "      <th>param_max_depth</th>\n",
       "      <th>param_min_samples_leaf</th>\n",
       "      <th>params</th>\n",
       "      <th>split0_test_score</th>\n",
       "      <th>split1_test_score</th>\n",
       "      <th>split2_test_score</th>\n",
       "      <th>split3_test_score</th>\n",
       "      <th>mean_test_score</th>\n",
       "      <th>std_test_score</th>\n",
       "      <th>rank_test_score</th>\n",
       "    </tr>\n",
       "  </thead>\n",
       "  <tbody>\n",
       "    <tr>\n",
       "      <th>0</th>\n",
       "      <td>0.007603</td>\n",
       "      <td>0.000353</td>\n",
       "      <td>0.005333</td>\n",
       "      <td>0.000149</td>\n",
       "      <td>gini</td>\n",
       "      <td>2</td>\n",
       "      <td>5</td>\n",
       "      <td>{'criterion': 'gini', 'max_depth': 2, 'min_sam...</td>\n",
       "      <td>0.904762</td>\n",
       "      <td>0.887097</td>\n",
       "      <td>0.919355</td>\n",
       "      <td>0.870968</td>\n",
       "      <td>0.895545</td>\n",
       "      <td>0.018216</td>\n",
       "      <td>9</td>\n",
       "    </tr>\n",
       "    <tr>\n",
       "      <th>1</th>\n",
       "      <td>0.006712</td>\n",
       "      <td>0.000786</td>\n",
       "      <td>0.004670</td>\n",
       "      <td>0.000653</td>\n",
       "      <td>gini</td>\n",
       "      <td>2</td>\n",
       "      <td>10</td>\n",
       "      <td>{'criterion': 'gini', 'max_depth': 2, 'min_sam...</td>\n",
       "      <td>0.904762</td>\n",
       "      <td>0.887097</td>\n",
       "      <td>0.919355</td>\n",
       "      <td>0.870968</td>\n",
       "      <td>0.895545</td>\n",
       "      <td>0.018216</td>\n",
       "      <td>9</td>\n",
       "    </tr>\n",
       "    <tr>\n",
       "      <th>2</th>\n",
       "      <td>0.008071</td>\n",
       "      <td>0.001245</td>\n",
       "      <td>0.004973</td>\n",
       "      <td>0.000710</td>\n",
       "      <td>gini</td>\n",
       "      <td>2</td>\n",
       "      <td>20</td>\n",
       "      <td>{'criterion': 'gini', 'max_depth': 2, 'min_sam...</td>\n",
       "      <td>0.904762</td>\n",
       "      <td>0.887097</td>\n",
       "      <td>0.919355</td>\n",
       "      <td>0.870968</td>\n",
       "      <td>0.895545</td>\n",
       "      <td>0.018216</td>\n",
       "      <td>9</td>\n",
       "    </tr>\n",
       "    <tr>\n",
       "      <th>3</th>\n",
       "      <td>0.008057</td>\n",
       "      <td>0.001061</td>\n",
       "      <td>0.004890</td>\n",
       "      <td>0.000510</td>\n",
       "      <td>gini</td>\n",
       "      <td>2</td>\n",
       "      <td>50</td>\n",
       "      <td>{'criterion': 'gini', 'max_depth': 2, 'min_sam...</td>\n",
       "      <td>0.841270</td>\n",
       "      <td>0.870968</td>\n",
       "      <td>0.903226</td>\n",
       "      <td>0.838710</td>\n",
       "      <td>0.863543</td>\n",
       "      <td>0.026185</td>\n",
       "      <td>31</td>\n",
       "    </tr>\n",
       "    <tr>\n",
       "      <th>4</th>\n",
       "      <td>0.006089</td>\n",
       "      <td>0.000454</td>\n",
       "      <td>0.004777</td>\n",
       "      <td>0.000293</td>\n",
       "      <td>gini</td>\n",
       "      <td>2</td>\n",
       "      <td>100</td>\n",
       "      <td>{'criterion': 'gini', 'max_depth': 2, 'min_sam...</td>\n",
       "      <td>0.428571</td>\n",
       "      <td>0.451613</td>\n",
       "      <td>0.451613</td>\n",
       "      <td>0.435484</td>\n",
       "      <td>0.441820</td>\n",
       "      <td>0.010093</td>\n",
       "      <td>41</td>\n",
       "    </tr>\n",
       "  </tbody>\n",
       "</table>\n",
       "</div>"
      ],
      "text/plain": [
       "   mean_fit_time  std_fit_time  mean_score_time  std_score_time  \\\n",
       "0       0.007603      0.000353         0.005333        0.000149   \n",
       "1       0.006712      0.000786         0.004670        0.000653   \n",
       "2       0.008071      0.001245         0.004973        0.000710   \n",
       "3       0.008057      0.001061         0.004890        0.000510   \n",
       "4       0.006089      0.000454         0.004777        0.000293   \n",
       "\n",
       "  param_criterion param_max_depth param_min_samples_leaf  \\\n",
       "0            gini               2                      5   \n",
       "1            gini               2                     10   \n",
       "2            gini               2                     20   \n",
       "3            gini               2                     50   \n",
       "4            gini               2                    100   \n",
       "\n",
       "                                              params  split0_test_score  \\\n",
       "0  {'criterion': 'gini', 'max_depth': 2, 'min_sam...           0.904762   \n",
       "1  {'criterion': 'gini', 'max_depth': 2, 'min_sam...           0.904762   \n",
       "2  {'criterion': 'gini', 'max_depth': 2, 'min_sam...           0.904762   \n",
       "3  {'criterion': 'gini', 'max_depth': 2, 'min_sam...           0.841270   \n",
       "4  {'criterion': 'gini', 'max_depth': 2, 'min_sam...           0.428571   \n",
       "\n",
       "   split1_test_score  split2_test_score  split3_test_score  mean_test_score  \\\n",
       "0           0.887097           0.919355           0.870968         0.895545   \n",
       "1           0.887097           0.919355           0.870968         0.895545   \n",
       "2           0.887097           0.919355           0.870968         0.895545   \n",
       "3           0.870968           0.903226           0.838710         0.863543   \n",
       "4           0.451613           0.451613           0.435484         0.441820   \n",
       "\n",
       "   std_test_score  rank_test_score  \n",
       "0        0.018216                9  \n",
       "1        0.018216                9  \n",
       "2        0.018216                9  \n",
       "3        0.026185               31  \n",
       "4        0.010093               41  "
      ]
     },
     "execution_count": 66,
     "metadata": {},
     "output_type": "execute_result"
    }
   ],
   "source": [
    "score_df = pd.DataFrame(grid_search.cv_results_)\n",
    "score_df.head()"
   ]
  },
  {
   "cell_type": "markdown",
   "id": "5101dbc3-8e3b-40e7-b21e-7c7406659620",
   "metadata": {
    "jp-MarkdownHeadingCollapsed": true
   },
   "source": [
    "#  Normalizing Data #\n",
    "\n",
    "Quantitative data needs to be normalized for some algorithms to work.  We mentioned two ways to do this: (1) the standard scale and the (2) max/min scale. **Question:** Which to use?  Watch for outliers . . .  \n",
    "\n",
    "You can do this by hand or you can do it with SKLearn, using [MaxMinScaler](https://scikit-learn.org/stable/modules/generated/sklearn.preprocessing.MinMaxScaler.html) and [StandardScaler](https://scikit-learn.org/stable/modules/generated/sklearn.preprocessing.StandardScaler.html)"
   ]
  },
  {
   "cell_type": "code",
   "execution_count": 85,
   "id": "4554149d-0157-4fad-a70e-2f0860917bd6",
   "metadata": {
    "tags": []
   },
   "outputs": [
    {
     "data": {
      "text/plain": [
       "(array([13., 46., 85., 69., 53., 18.,  8.,  7.,  0.,  1.]),\n",
       " array([ 64.4 ,  75.01,  85.62,  96.23, 106.84, 117.45, 128.06, 138.67,\n",
       "        149.28, 159.89, 170.5 ]),\n",
       " <BarContainer object of 10 artists>)"
      ]
     },
     "execution_count": 85,
     "metadata": {},
     "output_type": "execute_result"
    },
    {
     "data": {
      "image/png": "[encoded data removed]",
      "text/plain": [
       "<Figure size 432x288 with 1 Axes>"
      ]
     },
     "metadata": {
      "needs_background": "light"
     },
     "output_type": "display_data"
    }
   ],
   "source": [
    "plt.hist(bodydata.WAIST)"
   ]
  },
  {
   "cell_type": "markdown",
   "id": "d9f7df6d-42a1-405c-b4be-fa5d0204f77a",
   "metadata": {},
   "source": [
    "## Use the Min/Max Scale ##"
   ]
  },
  {
   "cell_type": "code",
   "execution_count": 92,
   "id": "f411dafb-4011-48e6-9b88-faaf1ce6bb94",
   "metadata": {
    "tags": []
   },
   "outputs": [],
   "source": [
    "bodydata['normwaist2'] = (bodydata['WAIST'].max() - bodydata['WAIST'])/(bodydata['WAIST'].max() - bodydata['WAIST'].min())"
   ]
  },
  {
   "cell_type": "code",
   "execution_count": 93,
   "id": "e495678c-5346-4f14-8db4-40fb2f3cd9a2",
   "metadata": {
    "tags": []
   },
   "outputs": [
    {
     "data": {
      "text/html": [
       "<div>\n",
       "<style scoped>\n",
       "    .dataframe tbody tr th:only-of-type {\n",
       "        vertical-align: middle;\n",
       "    }\n",
       "\n",
       "    .dataframe tbody tr th {\n",
       "        vertical-align: top;\n",
       "    }\n",
       "\n",
       "    .dataframe thead th {\n",
       "        text-align: right;\n",
       "    }\n",
       "</style>\n",
       "<table border=\"1\" class=\"dataframe\">\n",
       "  <thead>\n",
       "    <tr style=\"text-align: right;\">\n",
       "      <th></th>\n",
       "      <th>AGE</th>\n",
       "      <th>GENDER</th>\n",
       "      <th>PULSE</th>\n",
       "      <th>SYSTOLIC</th>\n",
       "      <th>DIASTOLIC</th>\n",
       "      <th>HDL</th>\n",
       "      <th>LDL</th>\n",
       "      <th>WHITE</th>\n",
       "      <th>RED</th>\n",
       "      <th>PLATE</th>\n",
       "      <th>WEIGHT</th>\n",
       "      <th>HEIGHT</th>\n",
       "      <th>WAIST</th>\n",
       "      <th>ARM CIRC</th>\n",
       "      <th>BMI</th>\n",
       "      <th>obese</th>\n",
       "      <th>normwaist</th>\n",
       "      <th>normwaist2</th>\n",
       "    </tr>\n",
       "  </thead>\n",
       "  <tbody>\n",
       "    <tr>\n",
       "      <th>0</th>\n",
       "      <td>43</td>\n",
       "      <td>0</td>\n",
       "      <td>80</td>\n",
       "      <td>100</td>\n",
       "      <td>70</td>\n",
       "      <td>73</td>\n",
       "      <td>68</td>\n",
       "      <td>8.7</td>\n",
       "      <td>4.80</td>\n",
       "      <td>319</td>\n",
       "      <td>98.6</td>\n",
       "      <td>172.0</td>\n",
       "      <td>120.4</td>\n",
       "      <td>40.7</td>\n",
       "      <td>33.3</td>\n",
       "      <td>1</td>\n",
       "      <td>1.287931</td>\n",
       "      <td>0.472196</td>\n",
       "    </tr>\n",
       "    <tr>\n",
       "      <th>1</th>\n",
       "      <td>57</td>\n",
       "      <td>1</td>\n",
       "      <td>84</td>\n",
       "      <td>112</td>\n",
       "      <td>70</td>\n",
       "      <td>35</td>\n",
       "      <td>116</td>\n",
       "      <td>4.9</td>\n",
       "      <td>4.73</td>\n",
       "      <td>187</td>\n",
       "      <td>96.9</td>\n",
       "      <td>186.0</td>\n",
       "      <td>107.8</td>\n",
       "      <td>37.0</td>\n",
       "      <td>28.0</td>\n",
       "      <td>0</td>\n",
       "      <td>0.523244</td>\n",
       "      <td>0.590952</td>\n",
       "    </tr>\n",
       "    <tr>\n",
       "      <th>2</th>\n",
       "      <td>38</td>\n",
       "      <td>0</td>\n",
       "      <td>94</td>\n",
       "      <td>134</td>\n",
       "      <td>94</td>\n",
       "      <td>36</td>\n",
       "      <td>223</td>\n",
       "      <td>6.9</td>\n",
       "      <td>4.47</td>\n",
       "      <td>297</td>\n",
       "      <td>108.2</td>\n",
       "      <td>154.4</td>\n",
       "      <td>120.3</td>\n",
       "      <td>44.3</td>\n",
       "      <td>45.4</td>\n",
       "      <td>1</td>\n",
       "      <td>1.281862</td>\n",
       "      <td>0.473139</td>\n",
       "    </tr>\n",
       "    <tr>\n",
       "      <th>3</th>\n",
       "      <td>80</td>\n",
       "      <td>1</td>\n",
       "      <td>74</td>\n",
       "      <td>126</td>\n",
       "      <td>64</td>\n",
       "      <td>37</td>\n",
       "      <td>83</td>\n",
       "      <td>7.5</td>\n",
       "      <td>4.32</td>\n",
       "      <td>170</td>\n",
       "      <td>73.1</td>\n",
       "      <td>160.5</td>\n",
       "      <td>97.2</td>\n",
       "      <td>30.3</td>\n",
       "      <td>28.4</td>\n",
       "      <td>0</td>\n",
       "      <td>-0.120064</td>\n",
       "      <td>0.690858</td>\n",
       "    </tr>\n",
       "    <tr>\n",
       "      <th>4</th>\n",
       "      <td>34</td>\n",
       "      <td>1</td>\n",
       "      <td>50</td>\n",
       "      <td>114</td>\n",
       "      <td>68</td>\n",
       "      <td>50</td>\n",
       "      <td>104</td>\n",
       "      <td>6.1</td>\n",
       "      <td>4.95</td>\n",
       "      <td>140</td>\n",
       "      <td>83.1</td>\n",
       "      <td>179.0</td>\n",
       "      <td>95.1</td>\n",
       "      <td>34.0</td>\n",
       "      <td>25.9</td>\n",
       "      <td>0</td>\n",
       "      <td>-0.247512</td>\n",
       "      <td>0.710650</td>\n",
       "    </tr>\n",
       "  </tbody>\n",
       "</table>\n",
       "</div>"
      ],
      "text/plain": [
       "   AGE  GENDER  PULSE  SYSTOLIC  DIASTOLIC  HDL  LDL  WHITE   RED  PLATE  \\\n",
       "0   43       0     80       100         70   73   68    8.7  4.80    319   \n",
       "1   57       1     84       112         70   35  116    4.9  4.73    187   \n",
       "2   38       0     94       134         94   36  223    6.9  4.47    297   \n",
       "3   80       1     74       126         64   37   83    7.5  4.32    170   \n",
       "4   34       1     50       114         68   50  104    6.1  4.95    140   \n",
       "\n",
       "   WEIGHT  HEIGHT  WAIST  ARM CIRC   BMI obese  normwaist  normwaist2  \n",
       "0    98.6   172.0  120.4      40.7  33.3     1   1.287931    0.472196  \n",
       "1    96.9   186.0  107.8      37.0  28.0     0   0.523244    0.590952  \n",
       "2   108.2   154.4  120.3      44.3  45.4     1   1.281862    0.473139  \n",
       "3    73.1   160.5   97.2      30.3  28.4     0  -0.120064    0.690858  \n",
       "4    83.1   179.0   95.1      34.0  25.9     0  -0.247512    0.710650  "
      ]
     },
     "execution_count": 93,
     "metadata": {},
     "output_type": "execute_result"
    }
   ],
   "source": [
    "bodydata.head(5)"
   ]
  },
  {
   "cell_type": "code",
   "execution_count": 94,
   "id": "2704225d-2a1f-4b21-94c4-93c19c2cbe15",
   "metadata": {
    "tags": []
   },
   "outputs": [
    {
     "data": {
      "text/plain": [
       "(array([ 1.,  0.,  7.,  8., 18., 53., 69., 85., 46., 13.]),\n",
       " array([0. , 0.1, 0.2, 0.3, 0.4, 0.5, 0.6, 0.7, 0.8, 0.9, 1. ]),\n",
       " <BarContainer object of 10 artists>)"
      ]
     },
     "execution_count": 94,
     "metadata": {},
     "output_type": "execute_result"
    },
    {
     "data": {
      "image/png": "[encoded data removed]",
      "text/plain": [
       "<Figure size 432x288 with 1 Axes>"
      ]
     },
     "metadata": {
      "needs_background": "light"
     },
     "output_type": "display_data"
    }
   ],
   "source": [
    "plt.hist(bodydata.normwaist2)"
   ]
  },
  {
   "cell_type": "markdown",
   "id": "00dc1432-95df-4a0d-89ac-7338cf6c2ea4",
   "metadata": {},
   "source": [
    "**Question:** When in the process to do this?"
   ]
  },
  {
   "cell_type": "code",
   "execution_count": 13,
   "id": "a009badb-0511-4eb6-921c-3a5a52d2f2d5",
   "metadata": {},
   "outputs": [],
   "source": [
    "from sklearn.preprocessing import MinMaxScaler"
   ]
  },
  {
   "cell_type": "code",
   "execution_count": null,
   "id": "3c0c3668-5bb0-426b-9c47-a60f2c61d0c7",
   "metadata": {},
   "outputs": [],
   "source": []
  },
  {
   "cell_type": "code",
   "execution_count": null,
   "id": "32560688-582b-4d80-a6df-e644c55c326c",
   "metadata": {},
   "outputs": [],
   "source": []
  },
  {
   "cell_type": "markdown",
   "id": "76989053-e5b0-4511-b603-70abb5a31f8e",
   "metadata": {},
   "source": [
    "## Use the Standard Scale ##"
   ]
  },
  {
   "cell_type": "code",
   "execution_count": 86,
   "id": "a8f15184-8be5-47f5-9687-a4616d22ee36",
   "metadata": {
    "tags": []
   },
   "outputs": [],
   "source": [
    "bodydata['normwaist'] = (bodydata['WAIST'] - bodydata['WAIST'].mean())/bodydata['WAIST'].std()"
   ]
  },
  {
   "cell_type": "code",
   "execution_count": 87,
   "id": "7d52ecf7-c5a5-4b8f-822c-6d42f14f23b2",
   "metadata": {
    "scrolled": true,
    "tags": []
   },
   "outputs": [
    {
     "data": {
      "text/html": [
       "<div>\n",
       "<style scoped>\n",
       "    .dataframe tbody tr th:only-of-type {\n",
       "        vertical-align: middle;\n",
       "    }\n",
       "\n",
       "    .dataframe tbody tr th {\n",
       "        vertical-align: top;\n",
       "    }\n",
       "\n",
       "    .dataframe thead th {\n",
       "        text-align: right;\n",
       "    }\n",
       "</style>\n",
       "<table border=\"1\" class=\"dataframe\">\n",
       "  <thead>\n",
       "    <tr style=\"text-align: right;\">\n",
       "      <th></th>\n",
       "      <th>AGE</th>\n",
       "      <th>GENDER</th>\n",
       "      <th>PULSE</th>\n",
       "      <th>SYSTOLIC</th>\n",
       "      <th>DIASTOLIC</th>\n",
       "      <th>HDL</th>\n",
       "      <th>LDL</th>\n",
       "      <th>WHITE</th>\n",
       "      <th>RED</th>\n",
       "      <th>PLATE</th>\n",
       "      <th>WEIGHT</th>\n",
       "      <th>HEIGHT</th>\n",
       "      <th>WAIST</th>\n",
       "      <th>ARM CIRC</th>\n",
       "      <th>BMI</th>\n",
       "      <th>obese</th>\n",
       "      <th>normwaist</th>\n",
       "    </tr>\n",
       "  </thead>\n",
       "  <tbody>\n",
       "    <tr>\n",
       "      <th>0</th>\n",
       "      <td>43</td>\n",
       "      <td>0</td>\n",
       "      <td>80</td>\n",
       "      <td>100</td>\n",
       "      <td>70</td>\n",
       "      <td>73</td>\n",
       "      <td>68</td>\n",
       "      <td>8.7</td>\n",
       "      <td>4.80</td>\n",
       "      <td>319</td>\n",
       "      <td>98.6</td>\n",
       "      <td>172.0</td>\n",
       "      <td>120.4</td>\n",
       "      <td>40.7</td>\n",
       "      <td>33.3</td>\n",
       "      <td>1</td>\n",
       "      <td>1.287931</td>\n",
       "    </tr>\n",
       "    <tr>\n",
       "      <th>1</th>\n",
       "      <td>57</td>\n",
       "      <td>1</td>\n",
       "      <td>84</td>\n",
       "      <td>112</td>\n",
       "      <td>70</td>\n",
       "      <td>35</td>\n",
       "      <td>116</td>\n",
       "      <td>4.9</td>\n",
       "      <td>4.73</td>\n",
       "      <td>187</td>\n",
       "      <td>96.9</td>\n",
       "      <td>186.0</td>\n",
       "      <td>107.8</td>\n",
       "      <td>37.0</td>\n",
       "      <td>28.0</td>\n",
       "      <td>0</td>\n",
       "      <td>0.523244</td>\n",
       "    </tr>\n",
       "    <tr>\n",
       "      <th>2</th>\n",
       "      <td>38</td>\n",
       "      <td>0</td>\n",
       "      <td>94</td>\n",
       "      <td>134</td>\n",
       "      <td>94</td>\n",
       "      <td>36</td>\n",
       "      <td>223</td>\n",
       "      <td>6.9</td>\n",
       "      <td>4.47</td>\n",
       "      <td>297</td>\n",
       "      <td>108.2</td>\n",
       "      <td>154.4</td>\n",
       "      <td>120.3</td>\n",
       "      <td>44.3</td>\n",
       "      <td>45.4</td>\n",
       "      <td>1</td>\n",
       "      <td>1.281862</td>\n",
       "    </tr>\n",
       "    <tr>\n",
       "      <th>3</th>\n",
       "      <td>80</td>\n",
       "      <td>1</td>\n",
       "      <td>74</td>\n",
       "      <td>126</td>\n",
       "      <td>64</td>\n",
       "      <td>37</td>\n",
       "      <td>83</td>\n",
       "      <td>7.5</td>\n",
       "      <td>4.32</td>\n",
       "      <td>170</td>\n",
       "      <td>73.1</td>\n",
       "      <td>160.5</td>\n",
       "      <td>97.2</td>\n",
       "      <td>30.3</td>\n",
       "      <td>28.4</td>\n",
       "      <td>0</td>\n",
       "      <td>-0.120064</td>\n",
       "    </tr>\n",
       "    <tr>\n",
       "      <th>4</th>\n",
       "      <td>34</td>\n",
       "      <td>1</td>\n",
       "      <td>50</td>\n",
       "      <td>114</td>\n",
       "      <td>68</td>\n",
       "      <td>50</td>\n",
       "      <td>104</td>\n",
       "      <td>6.1</td>\n",
       "      <td>4.95</td>\n",
       "      <td>140</td>\n",
       "      <td>83.1</td>\n",
       "      <td>179.0</td>\n",
       "      <td>95.1</td>\n",
       "      <td>34.0</td>\n",
       "      <td>25.9</td>\n",
       "      <td>0</td>\n",
       "      <td>-0.247512</td>\n",
       "    </tr>\n",
       "  </tbody>\n",
       "</table>\n",
       "</div>"
      ],
      "text/plain": [
       "   AGE  GENDER  PULSE  SYSTOLIC  DIASTOLIC  HDL  LDL  WHITE   RED  PLATE  \\\n",
       "0   43       0     80       100         70   73   68    8.7  4.80    319   \n",
       "1   57       1     84       112         70   35  116    4.9  4.73    187   \n",
       "2   38       0     94       134         94   36  223    6.9  4.47    297   \n",
       "3   80       1     74       126         64   37   83    7.5  4.32    170   \n",
       "4   34       1     50       114         68   50  104    6.1  4.95    140   \n",
       "\n",
       "   WEIGHT  HEIGHT  WAIST  ARM CIRC   BMI obese  normwaist  \n",
       "0    98.6   172.0  120.4      40.7  33.3     1   1.287931  \n",
       "1    96.9   186.0  107.8      37.0  28.0     0   0.523244  \n",
       "2   108.2   154.4  120.3      44.3  45.4     1   1.281862  \n",
       "3    73.1   160.5   97.2      30.3  28.4     0  -0.120064  \n",
       "4    83.1   179.0   95.1      34.0  25.9     0  -0.247512  "
      ]
     },
     "execution_count": 87,
     "metadata": {},
     "output_type": "execute_result"
    }
   ],
   "source": [
    "bodydata.head(5)"
   ]
  },
  {
   "cell_type": "markdown",
   "id": "0969e29b-94a9-49f6-9dab-6c1e162bca49",
   "metadata": {},
   "source": [
    "## StandardScaler ##"
   ]
  },
  {
   "cell_type": "code",
   "execution_count": 6,
   "id": "36f64176-20da-4624-8f80-7db8cffc4b30",
   "metadata": {},
   "outputs": [],
   "source": [
    "from sklearn.preprocessing import StandardScaler"
   ]
  },
  {
   "cell_type": "code",
   "execution_count": 9,
   "id": "fc8eaa67-bd85-49fe-8e3c-2e1a3ed8a395",
   "metadata": {},
   "outputs": [],
   "source": [
    "mystscaler = StandardScaler()"
   ]
  },
  {
   "cell_type": "code",
   "execution_count": 7,
   "id": "df30a7d4-0120-4182-812c-01e896f74e2f",
   "metadata": {},
   "outputs": [
    {
     "data": {
      "text/html": [
       "<div>\n",
       "<style scoped>\n",
       "    .dataframe tbody tr th:only-of-type {\n",
       "        vertical-align: middle;\n",
       "    }\n",
       "\n",
       "    .dataframe tbody tr th {\n",
       "        vertical-align: top;\n",
       "    }\n",
       "\n",
       "    .dataframe thead th {\n",
       "        text-align: right;\n",
       "    }\n",
       "</style>\n",
       "<table border=\"1\" class=\"dataframe\">\n",
       "  <thead>\n",
       "    <tr style=\"text-align: right;\">\n",
       "      <th></th>\n",
       "      <th>AGE</th>\n",
       "      <th>GENDER</th>\n",
       "      <th>PULSE</th>\n",
       "      <th>SYSTOLIC</th>\n",
       "      <th>DIASTOLIC</th>\n",
       "      <th>HDL</th>\n",
       "      <th>LDL</th>\n",
       "      <th>WHITE</th>\n",
       "      <th>RED</th>\n",
       "      <th>PLATE</th>\n",
       "      <th>WEIGHT</th>\n",
       "      <th>HEIGHT</th>\n",
       "      <th>WAIST</th>\n",
       "      <th>ARM CIRC</th>\n",
       "      <th>BMI</th>\n",
       "    </tr>\n",
       "  </thead>\n",
       "  <tbody>\n",
       "    <tr>\n",
       "      <th>0</th>\n",
       "      <td>43</td>\n",
       "      <td>0</td>\n",
       "      <td>80</td>\n",
       "      <td>100</td>\n",
       "      <td>70</td>\n",
       "      <td>73</td>\n",
       "      <td>68</td>\n",
       "      <td>8.7</td>\n",
       "      <td>4.80</td>\n",
       "      <td>319</td>\n",
       "      <td>98.6</td>\n",
       "      <td>172.0</td>\n",
       "      <td>120.4</td>\n",
       "      <td>40.7</td>\n",
       "      <td>33.3</td>\n",
       "    </tr>\n",
       "    <tr>\n",
       "      <th>1</th>\n",
       "      <td>57</td>\n",
       "      <td>1</td>\n",
       "      <td>84</td>\n",
       "      <td>112</td>\n",
       "      <td>70</td>\n",
       "      <td>35</td>\n",
       "      <td>116</td>\n",
       "      <td>4.9</td>\n",
       "      <td>4.73</td>\n",
       "      <td>187</td>\n",
       "      <td>96.9</td>\n",
       "      <td>186.0</td>\n",
       "      <td>107.8</td>\n",
       "      <td>37.0</td>\n",
       "      <td>28.0</td>\n",
       "    </tr>\n",
       "    <tr>\n",
       "      <th>2</th>\n",
       "      <td>38</td>\n",
       "      <td>0</td>\n",
       "      <td>94</td>\n",
       "      <td>134</td>\n",
       "      <td>94</td>\n",
       "      <td>36</td>\n",
       "      <td>223</td>\n",
       "      <td>6.9</td>\n",
       "      <td>4.47</td>\n",
       "      <td>297</td>\n",
       "      <td>108.2</td>\n",
       "      <td>154.4</td>\n",
       "      <td>120.3</td>\n",
       "      <td>44.3</td>\n",
       "      <td>45.4</td>\n",
       "    </tr>\n",
       "    <tr>\n",
       "      <th>3</th>\n",
       "      <td>80</td>\n",
       "      <td>1</td>\n",
       "      <td>74</td>\n",
       "      <td>126</td>\n",
       "      <td>64</td>\n",
       "      <td>37</td>\n",
       "      <td>83</td>\n",
       "      <td>7.5</td>\n",
       "      <td>4.32</td>\n",
       "      <td>170</td>\n",
       "      <td>73.1</td>\n",
       "      <td>160.5</td>\n",
       "      <td>97.2</td>\n",
       "      <td>30.3</td>\n",
       "      <td>28.4</td>\n",
       "    </tr>\n",
       "    <tr>\n",
       "      <th>4</th>\n",
       "      <td>34</td>\n",
       "      <td>1</td>\n",
       "      <td>50</td>\n",
       "      <td>114</td>\n",
       "      <td>68</td>\n",
       "      <td>50</td>\n",
       "      <td>104</td>\n",
       "      <td>6.1</td>\n",
       "      <td>4.95</td>\n",
       "      <td>140</td>\n",
       "      <td>83.1</td>\n",
       "      <td>179.0</td>\n",
       "      <td>95.1</td>\n",
       "      <td>34.0</td>\n",
       "      <td>25.9</td>\n",
       "    </tr>\n",
       "  </tbody>\n",
       "</table>\n",
       "</div>"
      ],
      "text/plain": [
       "   AGE  GENDER  PULSE  SYSTOLIC  DIASTOLIC  HDL  LDL  WHITE   RED  PLATE  \\\n",
       "0   43       0     80       100         70   73   68    8.7  4.80    319   \n",
       "1   57       1     84       112         70   35  116    4.9  4.73    187   \n",
       "2   38       0     94       134         94   36  223    6.9  4.47    297   \n",
       "3   80       1     74       126         64   37   83    7.5  4.32    170   \n",
       "4   34       1     50       114         68   50  104    6.1  4.95    140   \n",
       "\n",
       "   WEIGHT  HEIGHT  WAIST  ARM CIRC   BMI  \n",
       "0    98.6   172.0  120.4      40.7  33.3  \n",
       "1    96.9   186.0  107.8      37.0  28.0  \n",
       "2   108.2   154.4  120.3      44.3  45.4  \n",
       "3    73.1   160.5   97.2      30.3  28.4  \n",
       "4    83.1   179.0   95.1      34.0  25.9  "
      ]
     },
     "execution_count": 7,
     "metadata": {},
     "output_type": "execute_result"
    }
   ],
   "source": [
    "mydata.head(5)"
   ]
  },
  {
   "cell_type": "code",
   "execution_count": 8,
   "id": "7e3883a1-0ffa-4d16-b353-0f708ffb5f16",
   "metadata": {},
   "outputs": [],
   "source": [
    "myxvars = mydata[['WEIGHT','HEIGHT','WAIST']]"
   ]
  },
  {
   "cell_type": "code",
   "execution_count": 35,
   "id": "a4774fff-06e7-4824-bff1-c0cbaa47dc23",
   "metadata": {},
   "outputs": [],
   "source": [
    "mynewX = mystscaler.fit_transform(myxvars)"
   ]
  }
 ],
 "metadata": {
  "kernelspec": {
   "display_name": "Python 3",
   "language": "python",
   "name": "python3"
  },
  "language_info": {
   "codemirror_mode": {
    "name": "ipython",
    "version": 3
   },
   "file_extension": ".py",
   "mimetype": "text/x-python",
   "name": "python",
   "nbconvert_exporter": "python",
   "pygments_lexer": "ipython3",
   "version": "3.11.6"
  }
 },
 "nbformat": 4,
 "nbformat_minor": 5
}
