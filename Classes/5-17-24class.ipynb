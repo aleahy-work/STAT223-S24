{
 "cells": [
  {
   "cell_type": "markdown",
   "id": "0525a80b-b35b-44f5-bedc-2930fa8b27e0",
   "metadata": {},
   "source": [
    "# Class Notes for 5/17 #"
   ]
  },
  {
   "cell_type": "markdown",
   "id": "38430610-4511-40de-ab80-79ac6a0011e2",
   "metadata": {},
   "source": [
    "## Working with Seaborn ##\n",
    "\n",
    "The seaborn library is very analogous to ggplot.  It operates at a higher level and allows you to produce elegant graphics with little effort.  It is described [at its homepage](https://seaborn.pydata.org/) and can be installed with 'pip install seaborn'. \n",
    "\n",
    "Additional information can be found [on this page](https://seaborn.pydata.org/tutorial.html). "
   ]
  },
  {
   "cell_type": "code",
   "execution_count": 22,
   "id": "8aa66001-073c-49d0-b921-08d5c3247992",
   "metadata": {},
   "outputs": [],
   "source": [
    "import seaborn as sns\n",
    "import pandas as pd"
   ]
  },
  {
   "cell_type": "code",
   "execution_count": 23,
   "id": "995671a6-5e3d-4f06-adff-d702a4ad11d3",
   "metadata": {},
   "outputs": [],
   "source": [
    "mydata = pd.read_csv(\"https://raw.githubusercontent.com/aleahy-work/STAT223-S24/main/Data/firstdaydata.csv\")"
   ]
  },
  {
   "cell_type": "code",
   "execution_count": 24,
   "id": "78adbf96-31ee-407e-951e-2e763193b8a6",
   "metadata": {},
   "outputs": [
    {
     "data": {
      "text/html": [
       "<div>\n",
       "<style scoped>\n",
       "    .dataframe tbody tr th:only-of-type {\n",
       "        vertical-align: middle;\n",
       "    }\n",
       "\n",
       "    .dataframe tbody tr th {\n",
       "        vertical-align: top;\n",
       "    }\n",
       "\n",
       "    .dataframe thead th {\n",
       "        text-align: right;\n",
       "    }\n",
       "</style>\n",
       "<table border=\"1\" class=\"dataframe\">\n",
       "  <thead>\n",
       "    <tr style=\"text-align: right;\">\n",
       "      <th></th>\n",
       "      <th>randnum</th>\n",
       "      <th>diehard</th>\n",
       "      <th>earlobes</th>\n",
       "      <th>hitchthumb</th>\n",
       "      <th>age</th>\n",
       "      <th>siblings</th>\n",
       "      <th>pizzatop</th>\n",
       "      <th>knoxyear</th>\n",
       "      <th>eyecolor</th>\n",
       "      <th>cellphone</th>\n",
       "      <th>hand</th>\n",
       "      <th>gender</th>\n",
       "      <th>height</th>\n",
       "      <th>wingspan</th>\n",
       "      <th>cubit</th>\n",
       "      <th>handspan</th>\n",
       "    </tr>\n",
       "  </thead>\n",
       "  <tbody>\n",
       "    <tr>\n",
       "      <th>0</th>\n",
       "      <td>7</td>\n",
       "      <td>Yes</td>\n",
       "      <td>Detached</td>\n",
       "      <td>Hitchhikers thumb</td>\n",
       "      <td>19</td>\n",
       "      <td>1</td>\n",
       "      <td>Pepperoni</td>\n",
       "      <td>Sophomore</td>\n",
       "      <td>Brown</td>\n",
       "      <td>Android</td>\n",
       "      <td>Right</td>\n",
       "      <td>Female</td>\n",
       "      <td>66.0</td>\n",
       "      <td>67.1</td>\n",
       "      <td>17.5</td>\n",
       "      <td>7.5</td>\n",
       "    </tr>\n",
       "    <tr>\n",
       "      <th>1</th>\n",
       "      <td>7</td>\n",
       "      <td>Yes</td>\n",
       "      <td>Attached</td>\n",
       "      <td>Hitchhikers thumb</td>\n",
       "      <td>21</td>\n",
       "      <td>0</td>\n",
       "      <td>Cheese</td>\n",
       "      <td>Senior and beyond</td>\n",
       "      <td>Brown</td>\n",
       "      <td>Android</td>\n",
       "      <td>Left</td>\n",
       "      <td>Female</td>\n",
       "      <td>64.5</td>\n",
       "      <td>68.0</td>\n",
       "      <td>18.0</td>\n",
       "      <td>6.5</td>\n",
       "    </tr>\n",
       "    <tr>\n",
       "      <th>2</th>\n",
       "      <td>9</td>\n",
       "      <td>No</td>\n",
       "      <td>Detached</td>\n",
       "      <td>No hitchhikers thumb</td>\n",
       "      <td>19</td>\n",
       "      <td>2</td>\n",
       "      <td>Cheese</td>\n",
       "      <td>Sophomore</td>\n",
       "      <td>Brown</td>\n",
       "      <td>Android</td>\n",
       "      <td>Right</td>\n",
       "      <td>Male</td>\n",
       "      <td>73.0</td>\n",
       "      <td>71.0</td>\n",
       "      <td>18.5</td>\n",
       "      <td>7.5</td>\n",
       "    </tr>\n",
       "    <tr>\n",
       "      <th>3</th>\n",
       "      <td>3</td>\n",
       "      <td>No</td>\n",
       "      <td>Detached</td>\n",
       "      <td>No hitchhikers thumb</td>\n",
       "      <td>19</td>\n",
       "      <td>0</td>\n",
       "      <td>Cheese</td>\n",
       "      <td>Sophomore</td>\n",
       "      <td>Other</td>\n",
       "      <td>Android</td>\n",
       "      <td>Right</td>\n",
       "      <td>Male</td>\n",
       "      <td>67.0</td>\n",
       "      <td>69.1</td>\n",
       "      <td>18.4</td>\n",
       "      <td>7.9</td>\n",
       "    </tr>\n",
       "    <tr>\n",
       "      <th>4</th>\n",
       "      <td>4</td>\n",
       "      <td>Yes</td>\n",
       "      <td>Detached</td>\n",
       "      <td>No hitchhikers thumb</td>\n",
       "      <td>20</td>\n",
       "      <td>1</td>\n",
       "      <td>Sausage</td>\n",
       "      <td>Junior</td>\n",
       "      <td>Brown</td>\n",
       "      <td>Android</td>\n",
       "      <td>Right</td>\n",
       "      <td>Female</td>\n",
       "      <td>64.8</td>\n",
       "      <td>61.2</td>\n",
       "      <td>16.0</td>\n",
       "      <td>6.6</td>\n",
       "    </tr>\n",
       "  </tbody>\n",
       "</table>\n",
       "</div>"
      ],
      "text/plain": [
       "   randnum diehard  earlobes            hitchthumb  age  siblings   pizzatop  \\\n",
       "0        7     Yes  Detached     Hitchhikers thumb   19         1  Pepperoni   \n",
       "1        7     Yes  Attached     Hitchhikers thumb   21         0     Cheese   \n",
       "2        9      No  Detached  No hitchhikers thumb   19         2     Cheese   \n",
       "3        3      No  Detached  No hitchhikers thumb   19         0     Cheese   \n",
       "4        4     Yes  Detached  No hitchhikers thumb   20         1    Sausage   \n",
       "\n",
       "            knoxyear eyecolor cellphone   hand  gender  height  wingspan  \\\n",
       "0          Sophomore    Brown   Android  Right  Female    66.0      67.1   \n",
       "1  Senior and beyond    Brown   Android   Left  Female    64.5      68.0   \n",
       "2          Sophomore    Brown   Android  Right    Male    73.0      71.0   \n",
       "3          Sophomore    Other   Android  Right    Male    67.0      69.1   \n",
       "4             Junior    Brown   Android  Right  Female    64.8      61.2   \n",
       "\n",
       "   cubit  handspan  \n",
       "0   17.5       7.5  \n",
       "1   18.0       6.5  \n",
       "2   18.5       7.5  \n",
       "3   18.4       7.9  \n",
       "4   16.0       6.6  "
      ]
     },
     "execution_count": 24,
     "metadata": {},
     "output_type": "execute_result"
    }
   ],
   "source": [
    "mydata.head(5)"
   ]
  },
  {
   "cell_type": "code",
   "execution_count": 25,
   "id": "e60c7b55-9d82-4ebd-9b74-68a34fe9c5da",
   "metadata": {},
   "outputs": [
    {
     "data": {
      "text/plain": [
       "<AxesSubplot: xlabel='wingspan', ylabel='height'>"
      ]
     },
     "execution_count": 25,
     "metadata": {},
     "output_type": "execute_result"
    },
    {
     "data": {
      "image/png": "[encoded data removed]",
      "text/plain": [
       "<Figure size 432x288 with 1 Axes>"
      ]
     },
     "metadata": {
      "needs_background": "light"
     },
     "output_type": "display_data"
    }
   ],
   "source": [
    "sns.scatterplot(data=mydata, x=\"wingspan\",y=\"height\", hue=\"gender\")"
   ]
  },
  {
   "cell_type": "code",
   "execution_count": 26,
   "id": "5df1f835-6265-4afb-8516-da8987a1d528",
   "metadata": {},
   "outputs": [
    {
     "data": {
      "text/plain": [
       "<AxesSubplot: xlabel='wingspan', ylabel='gender'>"
      ]
     },
     "execution_count": 26,
     "metadata": {},
     "output_type": "execute_result"
    },
    {
     "data": {
      "image/png": "[encoded data removed]",
      "text/plain": [
       "<Figure size 432x288 with 1 Axes>"
      ]
     },
     "metadata": {
      "needs_background": "light"
     },
     "output_type": "display_data"
    }
   ],
   "source": [
    "sns.scatterplot(data=mydata,x=\"wingspan\",y=\"gender\")"
   ]
  },
  {
   "cell_type": "code",
   "execution_count": 27,
   "id": "48b5239e-97a8-4608-92ba-297a633c8dd7",
   "metadata": {},
   "outputs": [
    {
     "data": {
      "text/plain": [
       "<AxesSubplot: xlabel='wingspan', ylabel='Count'>"
      ]
     },
     "execution_count": 27,
     "metadata": {},
     "output_type": "execute_result"
    },
    {
     "data": {
      "image/png": "[encoded data removed]",
      "text/plain": [
       "<Figure size 432x288 with 1 Axes>"
      ]
     },
     "metadata": {
      "needs_background": "light"
     },
     "output_type": "display_data"
    }
   ],
   "source": [
    "sns.histplot(data=mydata, x=\"wingspan\")"
   ]
  },
  {
   "cell_type": "code",
   "execution_count": 28,
   "id": "05bac734-0c7b-47bf-8651-a849ed8b1e7a",
   "metadata": {},
   "outputs": [
    {
     "data": {
      "text/plain": [
       "<AxesSubplot: xlabel='wingspan', ylabel='Count'>"
      ]
     },
     "execution_count": 28,
     "metadata": {},
     "output_type": "execute_result"
    },
    {
     "data": {
      "image/png": "[encoded data removed]",
      "text/plain": [
       "<Figure size 432x288 with 1 Axes>"
      ]
     },
     "metadata": {
      "needs_background": "light"
     },
     "output_type": "display_data"
    }
   ],
   "source": [
    "sns.histplot(data=mydata, x=\"wingspan\", hue=\"gender\")"
   ]
  },
  {
   "cell_type": "markdown",
   "id": "daf40890-6c2e-49e3-84fb-953d171e716c",
   "metadata": {},
   "source": [
    "# A Classification Problem #\n",
    "\n",
    "**Example:** The [iris dataset](https://archive.ics.uci.edu/dataset/53/iris) is well-known in data science. The goal below is to classify the type of iris on the basis of the four quantative variables--pedal and sepal length and width. "
   ]
  },
  {
   "cell_type": "markdown",
   "id": "6bbee013-65ce-4e9c-984b-53a125854eb4",
   "metadata": {},
   "source": [
    "## Loading the data ##"
   ]
  },
  {
   "cell_type": "code",
   "execution_count": 30,
   "id": "7398bea3-867a-40d5-972a-49dfb068dec8",
   "metadata": {},
   "outputs": [],
   "source": [
    "from sklearn.datasets import load_iris\n",
    "from sklearn.model_selection import train_test_split\n",
    "from sklearn.naive_bayes import GaussianNB"
   ]
  },
  {
   "cell_type": "code",
   "execution_count": 31,
   "id": "d83a5f07-24c6-4acc-ab1d-3de9a7814443",
   "metadata": {},
   "outputs": [],
   "source": [
    "X, y = load_iris(return_X_y=True)"
   ]
  },
  {
   "cell_type": "code",
   "execution_count": 32,
   "id": "42e338a3-7a34-4022-9da7-87a2e905472d",
   "metadata": {},
   "outputs": [
    {
     "data": {
      "text/plain": [
       "array([[5.1, 3.5, 1.4, 0.2],\n",
       "       [4.9, 3. , 1.4, 0.2],\n",
       "       [4.7, 3.2, 1.3, 0.2],\n",
       "       [4.6, 3.1, 1.5, 0.2],\n",
       "       [5. , 3.6, 1.4, 0.2],\n",
       "       [5.4, 3.9, 1.7, 0.4],\n",
       "       [4.6, 3.4, 1.4, 0.3],\n",
       "       [5. , 3.4, 1.5, 0.2],\n",
       "       [4.4, 2.9, 1.4, 0.2],\n",
       "       [4.9, 3.1, 1.5, 0.1],\n",
       "       [5.4, 3.7, 1.5, 0.2],\n",
       "       [4.8, 3.4, 1.6, 0.2],\n",
       "       [4.8, 3. , 1.4, 0.1],\n",
       "       [4.3, 3. , 1.1, 0.1],\n",
       "       [5.8, 4. , 1.2, 0.2],\n",
       "       [5.7, 4.4, 1.5, 0.4],\n",
       "       [5.4, 3.9, 1.3, 0.4],\n",
       "       [5.1, 3.5, 1.4, 0.3],\n",
       "       [5.7, 3.8, 1.7, 0.3],\n",
       "       [5.1, 3.8, 1.5, 0.3],\n",
       "       [5.4, 3.4, 1.7, 0.2],\n",
       "       [5.1, 3.7, 1.5, 0.4],\n",
       "       [4.6, 3.6, 1. , 0.2],\n",
       "       [5.1, 3.3, 1.7, 0.5],\n",
       "       [4.8, 3.4, 1.9, 0.2],\n",
       "       [5. , 3. , 1.6, 0.2],\n",
       "       [5. , 3.4, 1.6, 0.4],\n",
       "       [5.2, 3.5, 1.5, 0.2],\n",
       "       [5.2, 3.4, 1.4, 0.2],\n",
       "       [4.7, 3.2, 1.6, 0.2],\n",
       "       [4.8, 3.1, 1.6, 0.2],\n",
       "       [5.4, 3.4, 1.5, 0.4],\n",
       "       [5.2, 4.1, 1.5, 0.1],\n",
       "       [5.5, 4.2, 1.4, 0.2],\n",
       "       [4.9, 3.1, 1.5, 0.2],\n",
       "       [5. , 3.2, 1.2, 0.2],\n",
       "       [5.5, 3.5, 1.3, 0.2],\n",
       "       [4.9, 3.6, 1.4, 0.1],\n",
       "       [4.4, 3. , 1.3, 0.2],\n",
       "       [5.1, 3.4, 1.5, 0.2],\n",
       "       [5. , 3.5, 1.3, 0.3],\n",
       "       [4.5, 2.3, 1.3, 0.3],\n",
       "       [4.4, 3.2, 1.3, 0.2],\n",
       "       [5. , 3.5, 1.6, 0.6],\n",
       "       [5.1, 3.8, 1.9, 0.4],\n",
       "       [4.8, 3. , 1.4, 0.3],\n",
       "       [5.1, 3.8, 1.6, 0.2],\n",
       "       [4.6, 3.2, 1.4, 0.2],\n",
       "       [5.3, 3.7, 1.5, 0.2],\n",
       "       [5. , 3.3, 1.4, 0.2],\n",
       "       [7. , 3.2, 4.7, 1.4],\n",
       "       [6.4, 3.2, 4.5, 1.5],\n",
       "       [6.9, 3.1, 4.9, 1.5],\n",
       "       [5.5, 2.3, 4. , 1.3],\n",
       "       [6.5, 2.8, 4.6, 1.5],\n",
       "       [5.7, 2.8, 4.5, 1.3],\n",
       "       [6.3, 3.3, 4.7, 1.6],\n",
       "       [4.9, 2.4, 3.3, 1. ],\n",
       "       [6.6, 2.9, 4.6, 1.3],\n",
       "       [5.2, 2.7, 3.9, 1.4],\n",
       "       [5. , 2. , 3.5, 1. ],\n",
       "       [5.9, 3. , 4.2, 1.5],\n",
       "       [6. , 2.2, 4. , 1. ],\n",
       "       [6.1, 2.9, 4.7, 1.4],\n",
       "       [5.6, 2.9, 3.6, 1.3],\n",
       "       [6.7, 3.1, 4.4, 1.4],\n",
       "       [5.6, 3. , 4.5, 1.5],\n",
       "       [5.8, 2.7, 4.1, 1. ],\n",
       "       [6.2, 2.2, 4.5, 1.5],\n",
       "       [5.6, 2.5, 3.9, 1.1],\n",
       "       [5.9, 3.2, 4.8, 1.8],\n",
       "       [6.1, 2.8, 4. , 1.3],\n",
       "       [6.3, 2.5, 4.9, 1.5],\n",
       "       [6.1, 2.8, 4.7, 1.2],\n",
       "       [6.4, 2.9, 4.3, 1.3],\n",
       "       [6.6, 3. , 4.4, 1.4],\n",
       "       [6.8, 2.8, 4.8, 1.4],\n",
       "       [6.7, 3. , 5. , 1.7],\n",
       "       [6. , 2.9, 4.5, 1.5],\n",
       "       [5.7, 2.6, 3.5, 1. ],\n",
       "       [5.5, 2.4, 3.8, 1.1],\n",
       "       [5.5, 2.4, 3.7, 1. ],\n",
       "       [5.8, 2.7, 3.9, 1.2],\n",
       "       [6. , 2.7, 5.1, 1.6],\n",
       "       [5.4, 3. , 4.5, 1.5],\n",
       "       [6. , 3.4, 4.5, 1.6],\n",
       "       [6.7, 3.1, 4.7, 1.5],\n",
       "       [6.3, 2.3, 4.4, 1.3],\n",
       "       [5.6, 3. , 4.1, 1.3],\n",
       "       [5.5, 2.5, 4. , 1.3],\n",
       "       [5.5, 2.6, 4.4, 1.2],\n",
       "       [6.1, 3. , 4.6, 1.4],\n",
       "       [5.8, 2.6, 4. , 1.2],\n",
       "       [5. , 2.3, 3.3, 1. ],\n",
       "       [5.6, 2.7, 4.2, 1.3],\n",
       "       [5.7, 3. , 4.2, 1.2],\n",
       "       [5.7, 2.9, 4.2, 1.3],\n",
       "       [6.2, 2.9, 4.3, 1.3],\n",
       "       [5.1, 2.5, 3. , 1.1],\n",
       "       [5.7, 2.8, 4.1, 1.3],\n",
       "       [6.3, 3.3, 6. , 2.5],\n",
       "       [5.8, 2.7, 5.1, 1.9],\n",
       "       [7.1, 3. , 5.9, 2.1],\n",
       "       [6.3, 2.9, 5.6, 1.8],\n",
       "       [6.5, 3. , 5.8, 2.2],\n",
       "       [7.6, 3. , 6.6, 2.1],\n",
       "       [4.9, 2.5, 4.5, 1.7],\n",
       "       [7.3, 2.9, 6.3, 1.8],\n",
       "       [6.7, 2.5, 5.8, 1.8],\n",
       "       [7.2, 3.6, 6.1, 2.5],\n",
       "       [6.5, 3.2, 5.1, 2. ],\n",
       "       [6.4, 2.7, 5.3, 1.9],\n",
       "       [6.8, 3. , 5.5, 2.1],\n",
       "       [5.7, 2.5, 5. , 2. ],\n",
       "       [5.8, 2.8, 5.1, 2.4],\n",
       "       [6.4, 3.2, 5.3, 2.3],\n",
       "       [6.5, 3. , 5.5, 1.8],\n",
       "       [7.7, 3.8, 6.7, 2.2],\n",
       "       [7.7, 2.6, 6.9, 2.3],\n",
       "       [6. , 2.2, 5. , 1.5],\n",
       "       [6.9, 3.2, 5.7, 2.3],\n",
       "       [5.6, 2.8, 4.9, 2. ],\n",
       "       [7.7, 2.8, 6.7, 2. ],\n",
       "       [6.3, 2.7, 4.9, 1.8],\n",
       "       [6.7, 3.3, 5.7, 2.1],\n",
       "       [7.2, 3.2, 6. , 1.8],\n",
       "       [6.2, 2.8, 4.8, 1.8],\n",
       "       [6.1, 3. , 4.9, 1.8],\n",
       "       [6.4, 2.8, 5.6, 2.1],\n",
       "       [7.2, 3. , 5.8, 1.6],\n",
       "       [7.4, 2.8, 6.1, 1.9],\n",
       "       [7.9, 3.8, 6.4, 2. ],\n",
       "       [6.4, 2.8, 5.6, 2.2],\n",
       "       [6.3, 2.8, 5.1, 1.5],\n",
       "       [6.1, 2.6, 5.6, 1.4],\n",
       "       [7.7, 3. , 6.1, 2.3],\n",
       "       [6.3, 3.4, 5.6, 2.4],\n",
       "       [6.4, 3.1, 5.5, 1.8],\n",
       "       [6. , 3. , 4.8, 1.8],\n",
       "       [6.9, 3.1, 5.4, 2.1],\n",
       "       [6.7, 3.1, 5.6, 2.4],\n",
       "       [6.9, 3.1, 5.1, 2.3],\n",
       "       [5.8, 2.7, 5.1, 1.9],\n",
       "       [6.8, 3.2, 5.9, 2.3],\n",
       "       [6.7, 3.3, 5.7, 2.5],\n",
       "       [6.7, 3. , 5.2, 2.3],\n",
       "       [6.3, 2.5, 5. , 1.9],\n",
       "       [6.5, 3. , 5.2, 2. ],\n",
       "       [6.2, 3.4, 5.4, 2.3],\n",
       "       [5.9, 3. , 5.1, 1.8]])"
      ]
     },
     "execution_count": 32,
     "metadata": {},
     "output_type": "execute_result"
    }
   ],
   "source": [
    "X"
   ]
  },
  {
   "cell_type": "code",
   "execution_count": 33,
   "id": "c00e6cff-1107-4255-bd1b-2f9b12e82699",
   "metadata": {
    "scrolled": true
   },
   "outputs": [
    {
     "data": {
      "text/plain": [
       "array([0, 0, 0, 0, 0, 0, 0, 0, 0, 0, 0, 0, 0, 0, 0, 0, 0, 0, 0, 0, 0, 0,\n",
       "       0, 0, 0, 0, 0, 0, 0, 0, 0, 0, 0, 0, 0, 0, 0, 0, 0, 0, 0, 0, 0, 0,\n",
       "       0, 0, 0, 0, 0, 0, 1, 1, 1, 1, 1, 1, 1, 1, 1, 1, 1, 1, 1, 1, 1, 1,\n",
       "       1, 1, 1, 1, 1, 1, 1, 1, 1, 1, 1, 1, 1, 1, 1, 1, 1, 1, 1, 1, 1, 1,\n",
       "       1, 1, 1, 1, 1, 1, 1, 1, 1, 1, 1, 1, 2, 2, 2, 2, 2, 2, 2, 2, 2, 2,\n",
       "       2, 2, 2, 2, 2, 2, 2, 2, 2, 2, 2, 2, 2, 2, 2, 2, 2, 2, 2, 2, 2, 2,\n",
       "       2, 2, 2, 2, 2, 2, 2, 2, 2, 2, 2, 2, 2, 2, 2, 2, 2, 2])"
      ]
     },
     "execution_count": 33,
     "metadata": {},
     "output_type": "execute_result"
    }
   ],
   "source": [
    "y"
   ]
  },
  {
   "cell_type": "code",
   "execution_count": 34,
   "id": "0adce1c5-8017-4ba9-998f-0d7aad16df0c",
   "metadata": {},
   "outputs": [
    {
     "name": "stdout",
     "output_type": "stream",
     "text": [
      "(150, 4)\n",
      "(150,)\n"
     ]
    }
   ],
   "source": [
    "print(X.shape)\n",
    "print(y.shape)"
   ]
  },
  {
   "cell_type": "markdown",
   "id": "62e087c7-2ed4-47a1-bd3b-175f989b5436",
   "metadata": {},
   "source": [
    "## The Train-Test Split ##"
   ]
  },
  {
   "cell_type": "markdown",
   "id": "daa86bbb-942b-4551-9af7-de37939310f0",
   "metadata": {},
   "source": [
    "The [train_test_split function](https://scikit-learn.org/stable/modules/generated/sklearn.model_selection.train_test_split.html) is very important in SKLearn."
   ]
  },
  {
   "cell_type": "code",
   "execution_count": 35,
   "id": "40b5c84a-27a4-4fe6-8d1b-f2041c178984",
   "metadata": {},
   "outputs": [],
   "source": [
    "X_train, X_test, y_train, y_test = train_test_split(X, y, test_size=0.5, random_state=0)"
   ]
  },
  {
   "cell_type": "code",
   "execution_count": 36,
   "id": "67f6dfd0-6578-46c8-8438-502c9562ddd7",
   "metadata": {},
   "outputs": [
    {
     "name": "stdout",
     "output_type": "stream",
     "text": [
      "(75, 4)\n",
      "(75,)\n",
      "(75, 4)\n",
      "(75,)\n"
     ]
    }
   ],
   "source": [
    "print(X_train.shape)\n",
    "print(y_train.shape)\n",
    "print(X_test.shape)\n",
    "print(y_test.shape)"
   ]
  },
  {
   "cell_type": "markdown",
   "id": "95841aeb-c8a1-4ec9-8da8-7386a96a7002",
   "metadata": {},
   "source": [
    "## Naive Bayes Gaussian Classifier ##\n",
    "\n",
    "For this data set we use the *Gaussian* naive Bayes classifier because the input variables are continuous. See [this page](https://scikit-learn.org/stable/modules/generated/sklearn.naive_bayes.GaussianNB.html).\n"
   ]
  },
  {
   "cell_type": "code",
   "execution_count": 37,
   "id": "b8d36299-0d1e-45b9-9de5-63e4b4ffe6eb",
   "metadata": {},
   "outputs": [],
   "source": [
    "gnb = GaussianNB()"
   ]
  },
  {
   "cell_type": "code",
   "execution_count": 38,
   "id": "f0ed77b0-9e2f-4983-b6e2-58c993458966",
   "metadata": {},
   "outputs": [],
   "source": [
    "mymodel = gnb.fit(X_train, y_train)"
   ]
  },
  {
   "cell_type": "code",
   "execution_count": 39,
   "id": "f60945d5-a46d-4f64-a9c0-945353875a09",
   "metadata": {},
   "outputs": [],
   "source": [
    "y_pred = mymodel.predict(X_test)"
   ]
  },
  {
   "cell_type": "code",
   "execution_count": 40,
   "id": "712c13a0-dee3-4863-bc50-4ec995cfa17e",
   "metadata": {},
   "outputs": [
    {
     "data": {
      "text/plain": [
       "array([2, 1, 0, 2, 0, 2, 0, 1, 1, 1, 1, 1, 1, 1, 1, 0, 1, 1, 0, 0, 2, 1,\n",
       "       0, 0, 2, 0, 0, 1, 1, 0, 2, 1, 0, 2, 2, 1, 0, 1, 1, 1, 2, 0, 2, 0,\n",
       "       0, 1, 2, 2, 1, 2, 1, 2, 1, 1, 2, 1, 1, 2, 1, 2, 1, 0, 2, 1, 1, 1,\n",
       "       1, 2, 0, 0, 2, 1, 0, 0, 1])"
      ]
     },
     "execution_count": 40,
     "metadata": {},
     "output_type": "execute_result"
    }
   ],
   "source": [
    "y_pred"
   ]
  },
  {
   "cell_type": "markdown",
   "id": "036358f8-6f17-474f-84f9-7faeec528832",
   "metadata": {},
   "source": [
    "## Accuracy Measures ##\n",
    "\n",
    "For categorical data, you can't use SSE.  (Why not?)  You also have to avoid the problem of overfitting.  (Why?) Therefore, you set up a train-test split and then measure the model performance in some way.  There are [many ways to measure model performance](https://www.edlitera.com/en/blog/posts/evaluating-classification-models) (see also [this page](https://medium.com/@shaileydash/understanding-the-roc-and-auc-intuitively-31ca96445c02)) and SKLearn has [many many ways to find and display most of them](https://scikit-learn.org/stable/modules/classes.html#module-sklearn.metrics).  Here are some approaches:\n",
    "\n",
    "+ Accuracy: the proportion of correctly classified examples over the whole set of examples.\n",
    "+ Confusion matrix: shows what got misclassified where\n",
    "\n",
    "For *binary classification* there are even more ways:\n",
    "\n",
    "+ TP, TN, FP, FN\n",
    "+ Precision: the number of true positives divided by the sum of true and false positives.\n",
    "+ Sensitivity/Recall (TPR): the number of true positives divided by the sum of true positives and false negatives\n",
    "+ Specificity/Selectivity: the proportion of true negative cases which were correctly identified as such\n",
    "+ Fall-out (FPR): the proportion of actual negative cases that were incorrectly classified as positive\n",
    "+ (etc--see the link above)"
   ]
  },
  {
   "cell_type": "code",
   "execution_count": 17,
   "id": "a92e837f-202b-4792-9bb1-3431adce05f8",
   "metadata": {},
   "outputs": [],
   "source": [
    "from sklearn.metrics import accuracy_score"
   ]
  },
  {
   "cell_type": "code",
   "execution_count": 18,
   "id": "1f664ec2-81a2-4e8a-9c85-5a985c7aa571",
   "metadata": {},
   "outputs": [
    {
     "data": {
      "text/plain": [
       "0.9466666666666667"
      ]
     },
     "execution_count": 18,
     "metadata": {},
     "output_type": "execute_result"
    }
   ],
   "source": [
    "accuracy_score(y_test, y_pred)"
   ]
  },
  {
   "cell_type": "code",
   "execution_count": 19,
   "id": "b8ad0601-0fff-4886-9834-ad8f33cfe289",
   "metadata": {},
   "outputs": [],
   "source": [
    "from sklearn.metrics import confusion_matrix"
   ]
  },
  {
   "cell_type": "code",
   "execution_count": 20,
   "id": "372b9ea8-e355-44a5-bd92-f9afce1caace",
   "metadata": {},
   "outputs": [
    {
     "data": {
      "text/plain": [
       "array([[21,  0,  0],\n",
       "       [ 0, 30,  0],\n",
       "       [ 0,  4, 20]])"
      ]
     },
     "execution_count": 20,
     "metadata": {},
     "output_type": "execute_result"
    }
   ],
   "source": [
    "confusion_matrix(y_test, y_pred)"
   ]
  },
  {
   "cell_type": "markdown",
   "id": "0cf5a813-731b-4eec-9982-ca0d737f1f36",
   "metadata": {},
   "source": [
    "## Logistic Regression Classifier ##\n",
    "\n",
    "The discussion is [at this URL](https://scikit-learn.org/stable/modules/generated/sklearn.linear_model.LogisticRegression.html)"
   ]
  },
  {
   "cell_type": "code",
   "execution_count": 44,
   "id": "17bb4f77-eded-40c5-b0c4-bdc9b7a96df4",
   "metadata": {},
   "outputs": [],
   "source": [
    "from sklearn.linear_model import LogisticRegression"
   ]
  },
  {
   "cell_type": "code",
   "execution_count": 23,
   "id": "5b342634-522d-4a6f-81d0-d951ff41e6e3",
   "metadata": {},
   "outputs": [],
   "source": [
    "mylogmodel = LogisticRegression()"
   ]
  },
  {
   "cell_type": "code",
   "execution_count": 25,
   "id": "47bf56d1-c45b-4c15-9a28-fd795ef83889",
   "metadata": {},
   "outputs": [],
   "source": [
    "myfit = mylogmodel.fit(X_train, y_train)"
   ]
  },
  {
   "cell_type": "code",
   "execution_count": 26,
   "id": "5e0bfaa2-72f8-4f3d-bd7b-750830033345",
   "metadata": {},
   "outputs": [],
   "source": [
    "logy_pred = myfit.predict(X_test)"
   ]
  },
  {
   "cell_type": "markdown",
   "id": "70f62464-4c55-4e9e-9a3f-0f8501540de6",
   "metadata": {},
   "source": [
    "**Note:** The LogisticRegression classifier automatically figures out how to deal with multinomial data.  See [the SKLearn documentation](https://scikit-learn.org/stable/modules/generated/sklearn.linear_model.LogisticRegression.html)"
   ]
  },
  {
   "cell_type": "code",
   "execution_count": 27,
   "id": "30eb2219-785b-462a-89e6-4079f54107c5",
   "metadata": {},
   "outputs": [
    {
     "data": {
      "text/plain": [
       "0.9333333333333333"
      ]
     },
     "execution_count": 27,
     "metadata": {},
     "output_type": "execute_result"
    }
   ],
   "source": [
    "accuracy_score(logy_pred, y_test)"
   ]
  },
  {
   "cell_type": "code",
   "execution_count": 28,
   "id": "49617435-8938-449f-bc42-bdee99a13430",
   "metadata": {},
   "outputs": [
    {
     "data": {
      "text/plain": [
       "array([[21,  0,  0],\n",
       "       [ 0, 29,  4],\n",
       "       [ 0,  1, 20]])"
      ]
     },
     "execution_count": 28,
     "metadata": {},
     "output_type": "execute_result"
    }
   ],
   "source": [
    "confusion_matrix(logy_pred, y_test)"
   ]
  },
  {
   "cell_type": "markdown",
   "id": "e2320e67-09f5-422a-ab55-cb9eae79e73f",
   "metadata": {},
   "source": [
    "## A Deeper Understanding of Model Outcomes ##\n",
    "\n",
    "Logistic regression (along with the one vs. rest) predicts probabilities and makes decisions on the basis of highest probabilities. You can also see the probabilities of success for each category for each feature vector using \".predict_proba\".  This allows you to determine 'how close' the decision was for the model. "
   ]
  },
  {
   "cell_type": "code",
   "execution_count": 33,
   "id": "803947ce-88f0-4224-88a0-522a45b6cdbb",
   "metadata": {},
   "outputs": [
    {
     "data": {
      "text/plain": [
       "array([[6.22898993e-04, 1.46906360e-01, 8.52470741e-01],\n",
       "       [1.82444804e-02, 9.60316059e-01, 2.14394608e-02],\n",
       "       [9.87917806e-01, 1.20800336e-02, 2.16046147e-06],\n",
       "       [9.58828281e-06, 4.90681957e-02, 9.50922216e-01],\n",
       "       [9.69142573e-01, 3.08541623e-02, 3.26502440e-06],\n",
       "       [1.50821406e-05, 1.45939581e-02, 9.85390960e-01],\n",
       "       [9.81019072e-01, 1.89791343e-02, 1.79329111e-06],\n",
       "       [5.97745417e-03, 6.43091972e-01, 3.50930573e-01],\n",
       "       [3.41235710e-03, 7.08593527e-01, 2.87994116e-01],\n",
       "       [3.41718117e-02, 9.01726743e-01, 6.41014457e-02],\n",
       "       [4.56607726e-04, 3.54400925e-01, 6.45142467e-01],\n",
       "       [1.35719653e-02, 6.97739888e-01, 2.88688147e-01],\n",
       "       [8.09593151e-03, 7.98768806e-01, 1.93135263e-01],\n",
       "       [6.32827616e-03, 7.41749503e-01, 2.51922221e-01],\n",
       "       [7.87554898e-03, 7.12012548e-01, 2.80111903e-01],\n",
       "       [9.82316148e-01, 1.76823082e-02, 1.54408027e-06],\n",
       "       [1.26895049e-02, 7.46835301e-01, 2.40475194e-01],\n",
       "       [1.84015372e-02, 8.80126810e-01, 1.01471652e-01],\n",
       "       [9.60638837e-01, 3.93583056e-02, 2.85696983e-06],\n",
       "       [9.85139686e-01, 1.48578985e-02, 2.41589951e-06],\n",
       "       [2.82927028e-03, 3.54475167e-01, 6.42695563e-01],\n",
       "       [1.86249918e-02, 7.16333444e-01, 2.65041565e-01],\n",
       "       [9.43792024e-01, 5.61943174e-02, 1.36583151e-05],\n",
       "       [9.66635462e-01, 3.33626527e-02, 1.88501671e-06],\n",
       "       [3.41049361e-03, 5.13071122e-01, 4.83518384e-01],\n",
       "       [9.93128897e-01, 6.87076847e-03, 3.34274775e-07],\n",
       "       [9.57486883e-01, 4.24912996e-02, 2.18176896e-05],\n",
       "       [1.95746273e-02, 8.58174546e-01, 1.22250826e-01],\n",
       "       [1.45359741e-01, 8.49030476e-01, 5.60978332e-03],\n",
       "       [9.60909145e-01, 3.90833788e-02, 7.47627207e-06],\n",
       "       [3.74082031e-04, 1.63630217e-01, 8.35995701e-01],\n",
       "       [2.13009783e-02, 7.10353420e-01, 2.68345602e-01],\n",
       "       [9.69068443e-01, 3.09280230e-02, 3.53357572e-06],\n",
       "       [3.21520148e-03, 4.12391579e-01, 5.84393219e-01],\n",
       "       [9.97256868e-05, 8.94602883e-02, 9.10439986e-01],\n",
       "       [6.45649893e-02, 8.74040725e-01, 6.13942856e-02],\n",
       "       [9.56793096e-01, 4.31954674e-02, 1.14361927e-05],\n",
       "       [1.88829631e-03, 4.78420070e-01, 5.19691634e-01],\n",
       "       [3.03120048e-02, 8.11286880e-01, 1.58401115e-01],\n",
       "       [3.35244663e-02, 9.20735981e-01, 4.57395531e-02],\n",
       "       [1.53796430e-04, 1.11427306e-01, 8.88418897e-01],\n",
       "       [9.77357860e-01, 2.26407834e-02, 1.35618506e-06],\n",
       "       [4.50858017e-04, 1.49030651e-01, 8.50518491e-01],\n",
       "       [9.64058129e-01, 3.59306883e-02, 1.11830939e-05],\n",
       "       [9.72939148e-01, 2.70571729e-02, 3.67912924e-06],\n",
       "       [7.06275967e-02, 9.22546907e-01, 6.82549603e-03],\n",
       "       [3.31088483e-04, 1.78930936e-01, 8.20737976e-01],\n",
       "       [3.81334378e-05, 2.75758451e-02, 9.72386021e-01],\n",
       "       [1.67940819e-03, 6.89187434e-01, 3.09133157e-01],\n",
       "       [7.36782517e-05, 1.64726516e-01, 8.35199805e-01],\n",
       "       [4.21958406e-02, 9.29073648e-01, 2.87305118e-02],\n",
       "       [5.85317665e-06, 2.69068241e-02, 9.73087323e-01],\n",
       "       [8.58826733e-03, 5.38879103e-01, 4.52532630e-01],\n",
       "       [4.78147250e-02, 9.30645091e-01, 2.15401844e-02],\n",
       "       [2.17556012e-03, 4.90043547e-01, 5.07780893e-01],\n",
       "       [1.92139509e-03, 5.10431047e-01, 4.87647558e-01],\n",
       "       [1.45983752e-02, 7.24114104e-01, 2.61287521e-01],\n",
       "       [1.18674577e-03, 4.40238060e-01, 5.58575195e-01],\n",
       "       [5.95423926e-03, 6.71682878e-01, 3.22362882e-01],\n",
       "       [6.66251905e-04, 2.13269764e-01, 7.86063984e-01],\n",
       "       [1.99703688e-02, 5.98778018e-01, 3.81251613e-01],\n",
       "       [9.51524629e-01, 4.84705826e-02, 4.78814630e-06],\n",
       "       [1.40509654e-03, 3.34109554e-01, 6.64485349e-01],\n",
       "       [2.82541425e-02, 8.81897772e-01, 8.98480854e-02],\n",
       "       [1.14709026e-01, 8.53959329e-01, 3.13316445e-02],\n",
       "       [3.48761170e-02, 9.13524516e-01, 5.15993671e-02],\n",
       "       [1.12604364e-02, 7.30181601e-01, 2.58557962e-01],\n",
       "       [3.72210470e-05, 6.54458764e-02, 9.34516903e-01],\n",
       "       [9.74754751e-01, 2.52417808e-02, 3.46811303e-06],\n",
       "       [9.84943006e-01, 1.50565690e-02, 4.24592846e-07],\n",
       "       [4.90629662e-04, 2.62836868e-01, 7.36672502e-01],\n",
       "       [4.02843484e-02, 8.63702590e-01, 9.60130618e-02],\n",
       "       [9.41441355e-01, 5.85497302e-02, 8.91477691e-06],\n",
       "       [9.86565453e-01, 1.34293796e-02, 5.16719728e-06],\n",
       "       [3.03662903e-03, 5.53362722e-01, 4.43600649e-01]])"
      ]
     },
     "execution_count": 33,
     "metadata": {},
     "output_type": "execute_result"
    }
   ],
   "source": [
    "myfit.predict_proba(X_test)"
   ]
  },
  {
   "cell_type": "markdown",
   "id": "d23302d0-95b8-4419-b7a6-826dc3bc4879",
   "metadata": {},
   "source": [
    "## A Simple Example of Logistic Regression ##"
   ]
  },
  {
   "cell_type": "code",
   "execution_count": 41,
   "id": "f100263d-3149-44bb-adec-1a2223dfb37c",
   "metadata": {},
   "outputs": [],
   "source": [
    "mydata = pd.read_csv(\"https://raw.githubusercontent.com/aleahy-work/STAT223-S24/main/Data/firstdaydata.csv\")"
   ]
  },
  {
   "cell_type": "code",
   "execution_count": 42,
   "id": "0aca25fc-a293-4f66-abfe-7e6538c0a11c",
   "metadata": {},
   "outputs": [
    {
     "data": {
      "text/html": [
       "<div>\n",
       "<style scoped>\n",
       "    .dataframe tbody tr th:only-of-type {\n",
       "        vertical-align: middle;\n",
       "    }\n",
       "\n",
       "    .dataframe tbody tr th {\n",
       "        vertical-align: top;\n",
       "    }\n",
       "\n",
       "    .dataframe thead th {\n",
       "        text-align: right;\n",
       "    }\n",
       "</style>\n",
       "<table border=\"1\" class=\"dataframe\">\n",
       "  <thead>\n",
       "    <tr style=\"text-align: right;\">\n",
       "      <th></th>\n",
       "      <th>randnum</th>\n",
       "      <th>diehard</th>\n",
       "      <th>earlobes</th>\n",
       "      <th>hitchthumb</th>\n",
       "      <th>age</th>\n",
       "      <th>siblings</th>\n",
       "      <th>pizzatop</th>\n",
       "      <th>knoxyear</th>\n",
       "      <th>eyecolor</th>\n",
       "      <th>cellphone</th>\n",
       "      <th>hand</th>\n",
       "      <th>gender</th>\n",
       "      <th>height</th>\n",
       "      <th>wingspan</th>\n",
       "      <th>cubit</th>\n",
       "      <th>handspan</th>\n",
       "    </tr>\n",
       "  </thead>\n",
       "  <tbody>\n",
       "    <tr>\n",
       "      <th>0</th>\n",
       "      <td>7</td>\n",
       "      <td>Yes</td>\n",
       "      <td>Detached</td>\n",
       "      <td>Hitchhikers thumb</td>\n",
       "      <td>19</td>\n",
       "      <td>1</td>\n",
       "      <td>Pepperoni</td>\n",
       "      <td>Sophomore</td>\n",
       "      <td>Brown</td>\n",
       "      <td>Android</td>\n",
       "      <td>Right</td>\n",
       "      <td>Female</td>\n",
       "      <td>66.0</td>\n",
       "      <td>67.1</td>\n",
       "      <td>17.5</td>\n",
       "      <td>7.5</td>\n",
       "    </tr>\n",
       "    <tr>\n",
       "      <th>1</th>\n",
       "      <td>7</td>\n",
       "      <td>Yes</td>\n",
       "      <td>Attached</td>\n",
       "      <td>Hitchhikers thumb</td>\n",
       "      <td>21</td>\n",
       "      <td>0</td>\n",
       "      <td>Cheese</td>\n",
       "      <td>Senior and beyond</td>\n",
       "      <td>Brown</td>\n",
       "      <td>Android</td>\n",
       "      <td>Left</td>\n",
       "      <td>Female</td>\n",
       "      <td>64.5</td>\n",
       "      <td>68.0</td>\n",
       "      <td>18.0</td>\n",
       "      <td>6.5</td>\n",
       "    </tr>\n",
       "    <tr>\n",
       "      <th>2</th>\n",
       "      <td>9</td>\n",
       "      <td>No</td>\n",
       "      <td>Detached</td>\n",
       "      <td>No hitchhikers thumb</td>\n",
       "      <td>19</td>\n",
       "      <td>2</td>\n",
       "      <td>Cheese</td>\n",
       "      <td>Sophomore</td>\n",
       "      <td>Brown</td>\n",
       "      <td>Android</td>\n",
       "      <td>Right</td>\n",
       "      <td>Male</td>\n",
       "      <td>73.0</td>\n",
       "      <td>71.0</td>\n",
       "      <td>18.5</td>\n",
       "      <td>7.5</td>\n",
       "    </tr>\n",
       "    <tr>\n",
       "      <th>3</th>\n",
       "      <td>3</td>\n",
       "      <td>No</td>\n",
       "      <td>Detached</td>\n",
       "      <td>No hitchhikers thumb</td>\n",
       "      <td>19</td>\n",
       "      <td>0</td>\n",
       "      <td>Cheese</td>\n",
       "      <td>Sophomore</td>\n",
       "      <td>Other</td>\n",
       "      <td>Android</td>\n",
       "      <td>Right</td>\n",
       "      <td>Male</td>\n",
       "      <td>67.0</td>\n",
       "      <td>69.1</td>\n",
       "      <td>18.4</td>\n",
       "      <td>7.9</td>\n",
       "    </tr>\n",
       "    <tr>\n",
       "      <th>4</th>\n",
       "      <td>4</td>\n",
       "      <td>Yes</td>\n",
       "      <td>Detached</td>\n",
       "      <td>No hitchhikers thumb</td>\n",
       "      <td>20</td>\n",
       "      <td>1</td>\n",
       "      <td>Sausage</td>\n",
       "      <td>Junior</td>\n",
       "      <td>Brown</td>\n",
       "      <td>Android</td>\n",
       "      <td>Right</td>\n",
       "      <td>Female</td>\n",
       "      <td>64.8</td>\n",
       "      <td>61.2</td>\n",
       "      <td>16.0</td>\n",
       "      <td>6.6</td>\n",
       "    </tr>\n",
       "  </tbody>\n",
       "</table>\n",
       "</div>"
      ],
      "text/plain": [
       "   randnum diehard  earlobes            hitchthumb  age  siblings   pizzatop  \\\n",
       "0        7     Yes  Detached     Hitchhikers thumb   19         1  Pepperoni   \n",
       "1        7     Yes  Attached     Hitchhikers thumb   21         0     Cheese   \n",
       "2        9      No  Detached  No hitchhikers thumb   19         2     Cheese   \n",
       "3        3      No  Detached  No hitchhikers thumb   19         0     Cheese   \n",
       "4        4     Yes  Detached  No hitchhikers thumb   20         1    Sausage   \n",
       "\n",
       "            knoxyear eyecolor cellphone   hand  gender  height  wingspan  \\\n",
       "0          Sophomore    Brown   Android  Right  Female    66.0      67.1   \n",
       "1  Senior and beyond    Brown   Android   Left  Female    64.5      68.0   \n",
       "2          Sophomore    Brown   Android  Right    Male    73.0      71.0   \n",
       "3          Sophomore    Other   Android  Right    Male    67.0      69.1   \n",
       "4             Junior    Brown   Android  Right  Female    64.8      61.2   \n",
       "\n",
       "   cubit  handspan  \n",
       "0   17.5       7.5  \n",
       "1   18.0       6.5  \n",
       "2   18.5       7.5  \n",
       "3   18.4       7.9  \n",
       "4   16.0       6.6  "
      ]
     },
     "execution_count": 42,
     "metadata": {},
     "output_type": "execute_result"
    }
   ],
   "source": [
    "mydata.head(5)"
   ]
  },
  {
   "cell_type": "code",
   "execution_count": 45,
   "id": "214d98c4-e7c9-4f33-b0c0-9d6169889ac2",
   "metadata": {},
   "outputs": [],
   "source": [
    "mylogreg = LogisticRegression()"
   ]
  },
  {
   "cell_type": "code",
   "execution_count": 48,
   "id": "f752ce2f-4e48-45b9-a390-604838aad0c2",
   "metadata": {},
   "outputs": [
    {
     "data": {
      "text/plain": [
       "(39,)"
      ]
     },
     "execution_count": 48,
     "metadata": {},
     "output_type": "execute_result"
    }
   ],
   "source": [
    "mydata[\"wingspan\"].shape  # wrong shape!  Need (39,1)"
   ]
  },
  {
   "cell_type": "code",
   "execution_count": 49,
   "id": "39f7440b-fcb3-4b1a-b2b3-e421590a3fbf",
   "metadata": {},
   "outputs": [
    {
     "data": {
      "text/plain": [
       "(39, 1)"
      ]
     },
     "execution_count": 49,
     "metadata": {},
     "output_type": "execute_result"
    }
   ],
   "source": [
    "mydata[\"wingspan\"].values.reshape(39,1).shape"
   ]
  },
  {
   "cell_type": "code",
   "execution_count": 50,
   "id": "a080a0c2-83dd-43e7-b5cf-bfeed2a811b7",
   "metadata": {},
   "outputs": [],
   "source": [
    "myX = mydata[\"wingspan\"].values.reshape(39,1)"
   ]
  },
  {
   "cell_type": "code",
   "execution_count": 52,
   "id": "d77285c7-f3a5-4e09-9ed5-6896dbcc0dde",
   "metadata": {},
   "outputs": [
    {
     "data": {
      "text/plain": [
       "0    Female\n",
       "1    Female\n",
       "2      Male\n",
       "Name: gender, dtype: object"
      ]
     },
     "execution_count": 52,
     "metadata": {},
     "output_type": "execute_result"
    }
   ],
   "source": [
    "mydata[\"gender\"].head(3)"
   ]
  },
  {
   "cell_type": "code",
   "execution_count": 53,
   "id": "b29e828e-e037-425e-9d2b-71a17d835aff",
   "metadata": {},
   "outputs": [
    {
     "data": {
      "text/plain": [
       "(39,)"
      ]
     },
     "execution_count": 53,
     "metadata": {},
     "output_type": "execute_result"
    }
   ],
   "source": [
    "mydata[\"gender\"].shape"
   ]
  },
  {
   "cell_type": "code",
   "execution_count": 54,
   "id": "41fae116-5bb1-454c-83cf-ab762562591a",
   "metadata": {},
   "outputs": [],
   "source": [
    "myy = mydata[\"gender\"]"
   ]
  },
  {
   "cell_type": "code",
   "execution_count": 55,
   "id": "3e0c4ec7-04c4-456d-adfe-ad2dbf90e1b1",
   "metadata": {},
   "outputs": [],
   "source": [
    "mymodel = mylogreg.fit(myX, myy)  "
   ]
  },
  {
   "cell_type": "code",
   "execution_count": 58,
   "id": "2ec1f445-efa1-4030-a437-3527fe1c118a",
   "metadata": {},
   "outputs": [],
   "source": [
    "mypredict = mymodel.predict(myX)  # No time to do a train-test split"
   ]
  },
  {
   "cell_type": "code",
   "execution_count": 60,
   "id": "54c7ee56-9fa3-4ec2-8370-563e7740c9c3",
   "metadata": {},
   "outputs": [],
   "source": [
    "from sklearn.metrics import accuracy_score"
   ]
  },
  {
   "cell_type": "code",
   "execution_count": 61,
   "id": "89ea896e-dc98-404f-ad21-808703282e12",
   "metadata": {},
   "outputs": [
    {
     "data": {
      "text/plain": [
       "0.7948717948717948"
      ]
     },
     "execution_count": 61,
     "metadata": {},
     "output_type": "execute_result"
    }
   ],
   "source": [
    "accuracy_score(mypredict, myy)"
   ]
  },
  {
   "cell_type": "markdown",
   "id": "8ddff845-d537-4ee6-8d92-f24bc6acb263",
   "metadata": {},
   "source": [
    "Wow, that's pretty bad . . . . but the data was kind of sketchy (see the scatterplots above)"
   ]
  },
  {
   "cell_type": "code",
   "execution_count": null,
   "id": "1579ad60-e338-48c7-8d9d-6ae789ad99e6",
   "metadata": {},
   "outputs": [],
   "source": []
  }
 ],
 "metadata": {
  "kernelspec": {
   "display_name": "Python 3",
   "language": "python",
   "name": "python3"
  },
  "language_info": {
   "codemirror_mode": {
    "name": "ipython",
    "version": 3
   },
   "file_extension": ".py",
   "mimetype": "text/x-python",
   "name": "python",
   "nbconvert_exporter": "python",
   "pygments_lexer": "ipython3",
   "version": "3.11.6"
  }
 },
 "nbformat": 4,
 "nbformat_minor": 5
}
