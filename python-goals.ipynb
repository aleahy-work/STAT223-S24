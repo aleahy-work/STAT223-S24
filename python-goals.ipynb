{
 "cells": [
  {
   "cell_type": "markdown",
   "id": "bf5feb3c-fd43-4eb2-9bf5-c476c7ca9c81",
   "metadata": {},
   "source": [
    "# Some Python Learning Goals #\n",
    "\n",
    "Here is a list of some python packages that we have worked with at least briefly, along with some of the function invocations you should from them that you should be familiar with."
   ]
  },
  {
   "cell_type": "markdown",
   "id": "bacc20ad-fbe5-44b5-b330-4819c8d2238b",
   "metadata": {},
   "source": [
    "## pandas ##\n",
    "\n",
    "[pandas](https://pandas.pydata.org/) is the most popular python library for dealing with datasets.  It imitates a lot of the database operations found in R, like importing data, subsetting, and finding basic statistical summaries of data.  You can also do some basic (matplotlib) graphing with pandas."
   ]
  },
  {
   "cell_type": "code",
   "execution_count": 1,
   "id": "b1058237-657e-4fb3-ba37-b975be7553e4",
   "metadata": {},
   "outputs": [],
   "source": [
    "import pandas as pd"
   ]
  },
  {
   "cell_type": "code",
   "execution_count": 4,
   "id": "2e9c2915-e5ae-4ea0-bc93-ddc2f111e126",
   "metadata": {},
   "outputs": [],
   "source": [
    "mydata = pd.read_csv(\"https://raw.githubusercontent.com/aleahy-work/STAT223-S24/main/Data/bodydata.csv\")"
   ]
  },
  {
   "cell_type": "code",
   "execution_count": 5,
   "id": "4203003d-5731-450e-8d89-18db1e6cc368",
   "metadata": {},
   "outputs": [
    {
     "data": {
      "text/html": [
       "<div>\n",
       "<style scoped>\n",
       "    .dataframe tbody tr th:only-of-type {\n",
       "        vertical-align: middle;\n",
       "    }\n",
       "\n",
       "    .dataframe tbody tr th {\n",
       "        vertical-align: top;\n",
       "    }\n",
       "\n",
       "    .dataframe thead th {\n",
       "        text-align: right;\n",
       "    }\n",
       "</style>\n",
       "<table border=\"1\" class=\"dataframe\">\n",
       "  <thead>\n",
       "    <tr style=\"text-align: right;\">\n",
       "      <th></th>\n",
       "      <th>AGE</th>\n",
       "      <th>GENDER</th>\n",
       "      <th>PULSE</th>\n",
       "      <th>SYSTOLIC</th>\n",
       "      <th>DIASTOLIC</th>\n",
       "      <th>HDL</th>\n",
       "      <th>LDL</th>\n",
       "      <th>WHITE</th>\n",
       "      <th>RED</th>\n",
       "      <th>PLATE</th>\n",
       "      <th>WEIGHT</th>\n",
       "      <th>HEIGHT</th>\n",
       "      <th>WAIST</th>\n",
       "      <th>ARM CIRC</th>\n",
       "      <th>BMI</th>\n",
       "    </tr>\n",
       "  </thead>\n",
       "  <tbody>\n",
       "    <tr>\n",
       "      <th>0</th>\n",
       "      <td>43</td>\n",
       "      <td>0</td>\n",
       "      <td>80</td>\n",
       "      <td>100</td>\n",
       "      <td>70</td>\n",
       "      <td>73</td>\n",
       "      <td>68</td>\n",
       "      <td>8.7</td>\n",
       "      <td>4.80</td>\n",
       "      <td>319</td>\n",
       "      <td>98.6</td>\n",
       "      <td>172.0</td>\n",
       "      <td>120.4</td>\n",
       "      <td>40.7</td>\n",
       "      <td>33.3</td>\n",
       "    </tr>\n",
       "    <tr>\n",
       "      <th>1</th>\n",
       "      <td>57</td>\n",
       "      <td>1</td>\n",
       "      <td>84</td>\n",
       "      <td>112</td>\n",
       "      <td>70</td>\n",
       "      <td>35</td>\n",
       "      <td>116</td>\n",
       "      <td>4.9</td>\n",
       "      <td>4.73</td>\n",
       "      <td>187</td>\n",
       "      <td>96.9</td>\n",
       "      <td>186.0</td>\n",
       "      <td>107.8</td>\n",
       "      <td>37.0</td>\n",
       "      <td>28.0</td>\n",
       "    </tr>\n",
       "    <tr>\n",
       "      <th>2</th>\n",
       "      <td>38</td>\n",
       "      <td>0</td>\n",
       "      <td>94</td>\n",
       "      <td>134</td>\n",
       "      <td>94</td>\n",
       "      <td>36</td>\n",
       "      <td>223</td>\n",
       "      <td>6.9</td>\n",
       "      <td>4.47</td>\n",
       "      <td>297</td>\n",
       "      <td>108.2</td>\n",
       "      <td>154.4</td>\n",
       "      <td>120.3</td>\n",
       "      <td>44.3</td>\n",
       "      <td>45.4</td>\n",
       "    </tr>\n",
       "    <tr>\n",
       "      <th>3</th>\n",
       "      <td>80</td>\n",
       "      <td>1</td>\n",
       "      <td>74</td>\n",
       "      <td>126</td>\n",
       "      <td>64</td>\n",
       "      <td>37</td>\n",
       "      <td>83</td>\n",
       "      <td>7.5</td>\n",
       "      <td>4.32</td>\n",
       "      <td>170</td>\n",
       "      <td>73.1</td>\n",
       "      <td>160.5</td>\n",
       "      <td>97.2</td>\n",
       "      <td>30.3</td>\n",
       "      <td>28.4</td>\n",
       "    </tr>\n",
       "    <tr>\n",
       "      <th>4</th>\n",
       "      <td>34</td>\n",
       "      <td>1</td>\n",
       "      <td>50</td>\n",
       "      <td>114</td>\n",
       "      <td>68</td>\n",
       "      <td>50</td>\n",
       "      <td>104</td>\n",
       "      <td>6.1</td>\n",
       "      <td>4.95</td>\n",
       "      <td>140</td>\n",
       "      <td>83.1</td>\n",
       "      <td>179.0</td>\n",
       "      <td>95.1</td>\n",
       "      <td>34.0</td>\n",
       "      <td>25.9</td>\n",
       "    </tr>\n",
       "    <tr>\n",
       "      <th>...</th>\n",
       "      <td>...</td>\n",
       "      <td>...</td>\n",
       "      <td>...</td>\n",
       "      <td>...</td>\n",
       "      <td>...</td>\n",
       "      <td>...</td>\n",
       "      <td>...</td>\n",
       "      <td>...</td>\n",
       "      <td>...</td>\n",
       "      <td>...</td>\n",
       "      <td>...</td>\n",
       "      <td>...</td>\n",
       "      <td>...</td>\n",
       "      <td>...</td>\n",
       "      <td>...</td>\n",
       "    </tr>\n",
       "    <tr>\n",
       "      <th>295</th>\n",
       "      <td>24</td>\n",
       "      <td>1</td>\n",
       "      <td>94</td>\n",
       "      <td>96</td>\n",
       "      <td>62</td>\n",
       "      <td>43</td>\n",
       "      <td>102</td>\n",
       "      <td>7.0</td>\n",
       "      <td>5.29</td>\n",
       "      <td>260</td>\n",
       "      <td>56.3</td>\n",
       "      <td>162.7</td>\n",
       "      <td>78.4</td>\n",
       "      <td>27.9</td>\n",
       "      <td>21.3</td>\n",
       "    </tr>\n",
       "    <tr>\n",
       "      <th>296</th>\n",
       "      <td>50</td>\n",
       "      <td>0</td>\n",
       "      <td>94</td>\n",
       "      <td>132</td>\n",
       "      <td>84</td>\n",
       "      <td>42</td>\n",
       "      <td>69</td>\n",
       "      <td>7.9</td>\n",
       "      <td>4.35</td>\n",
       "      <td>244</td>\n",
       "      <td>103.2</td>\n",
       "      <td>146.7</td>\n",
       "      <td>142.6</td>\n",
       "      <td>39.5</td>\n",
       "      <td>48.0</td>\n",
       "    </tr>\n",
       "    <tr>\n",
       "      <th>297</th>\n",
       "      <td>53</td>\n",
       "      <td>1</td>\n",
       "      <td>86</td>\n",
       "      <td>132</td>\n",
       "      <td>74</td>\n",
       "      <td>42</td>\n",
       "      <td>112</td>\n",
       "      <td>8.4</td>\n",
       "      <td>4.07</td>\n",
       "      <td>75</td>\n",
       "      <td>102.6</td>\n",
       "      <td>181.0</td>\n",
       "      <td>117.7</td>\n",
       "      <td>36.5</td>\n",
       "      <td>31.3</td>\n",
       "    </tr>\n",
       "    <tr>\n",
       "      <th>298</th>\n",
       "      <td>34</td>\n",
       "      <td>0</td>\n",
       "      <td>74</td>\n",
       "      <td>104</td>\n",
       "      <td>54</td>\n",
       "      <td>44</td>\n",
       "      <td>103</td>\n",
       "      <td>7.6</td>\n",
       "      <td>4.36</td>\n",
       "      <td>292</td>\n",
       "      <td>96.1</td>\n",
       "      <td>162.2</td>\n",
       "      <td>109.0</td>\n",
       "      <td>37.0</td>\n",
       "      <td>36.5</td>\n",
       "    </tr>\n",
       "    <tr>\n",
       "      <th>299</th>\n",
       "      <td>31</td>\n",
       "      <td>1</td>\n",
       "      <td>90</td>\n",
       "      <td>104</td>\n",
       "      <td>70</td>\n",
       "      <td>64</td>\n",
       "      <td>112</td>\n",
       "      <td>6.0</td>\n",
       "      <td>5.07</td>\n",
       "      <td>197</td>\n",
       "      <td>56.4</td>\n",
       "      <td>165.4</td>\n",
       "      <td>74.0</td>\n",
       "      <td>26.5</td>\n",
       "      <td>20.6</td>\n",
       "    </tr>\n",
       "  </tbody>\n",
       "</table>\n",
       "<p>300 rows × 15 columns</p>\n",
       "</div>"
      ],
      "text/plain": [
       "     AGE  GENDER  PULSE  SYSTOLIC  DIASTOLIC  HDL  LDL  WHITE   RED  PLATE  \\\n",
       "0     43       0     80       100         70   73   68    8.7  4.80    319   \n",
       "1     57       1     84       112         70   35  116    4.9  4.73    187   \n",
       "2     38       0     94       134         94   36  223    6.9  4.47    297   \n",
       "3     80       1     74       126         64   37   83    7.5  4.32    170   \n",
       "4     34       1     50       114         68   50  104    6.1  4.95    140   \n",
       "..   ...     ...    ...       ...        ...  ...  ...    ...   ...    ...   \n",
       "295   24       1     94        96         62   43  102    7.0  5.29    260   \n",
       "296   50       0     94       132         84   42   69    7.9  4.35    244   \n",
       "297   53       1     86       132         74   42  112    8.4  4.07     75   \n",
       "298   34       0     74       104         54   44  103    7.6  4.36    292   \n",
       "299   31       1     90       104         70   64  112    6.0  5.07    197   \n",
       "\n",
       "     WEIGHT  HEIGHT  WAIST  ARM CIRC   BMI  \n",
       "0      98.6   172.0  120.4      40.7  33.3  \n",
       "1      96.9   186.0  107.8      37.0  28.0  \n",
       "2     108.2   154.4  120.3      44.3  45.4  \n",
       "3      73.1   160.5   97.2      30.3  28.4  \n",
       "4      83.1   179.0   95.1      34.0  25.9  \n",
       "..      ...     ...    ...       ...   ...  \n",
       "295    56.3   162.7   78.4      27.9  21.3  \n",
       "296   103.2   146.7  142.6      39.5  48.0  \n",
       "297   102.6   181.0  117.7      36.5  31.3  \n",
       "298    96.1   162.2  109.0      37.0  36.5  \n",
       "299    56.4   165.4   74.0      26.5  20.6  \n",
       "\n",
       "[300 rows x 15 columns]"
      ]
     },
     "execution_count": 5,
     "metadata": {},
     "output_type": "execute_result"
    }
   ],
   "source": [
    "mydata"
   ]
  },
  {
   "cell_type": "code",
   "execution_count": 6,
   "id": "f3a39453-7572-48eb-8f04-c3b76be1524a",
   "metadata": {},
   "outputs": [
    {
     "data": {
      "text/plain": [
       "Index(['AGE', 'GENDER', 'PULSE', 'SYSTOLIC', 'DIASTOLIC', 'HDL', 'LDL',\n",
       "       'WHITE', 'RED', 'PLATE', 'WEIGHT', 'HEIGHT', 'WAIST', 'ARM CIRC',\n",
       "       'BMI'],\n",
       "      dtype='object')"
      ]
     },
     "execution_count": 6,
     "metadata": {},
     "output_type": "execute_result"
    }
   ],
   "source": [
    "mydata.columns"
   ]
  },
  {
   "cell_type": "code",
   "execution_count": 7,
   "id": "02ed946d-bc79-44cd-8901-5681fab9d49f",
   "metadata": {},
   "outputs": [
    {
     "data": {
      "text/plain": [
       "4500"
      ]
     },
     "execution_count": 7,
     "metadata": {},
     "output_type": "execute_result"
    }
   ],
   "source": [
    "mydata.size"
   ]
  },
  {
   "cell_type": "code",
   "execution_count": 8,
   "id": "7dda3172-dd91-4780-8eef-f48abf85763d",
   "metadata": {},
   "outputs": [
    {
     "data": {
      "text/plain": [
       "(300, 15)"
      ]
     },
     "execution_count": 8,
     "metadata": {},
     "output_type": "execute_result"
    }
   ],
   "source": [
    "mydata.shape"
   ]
  },
  {
   "cell_type": "code",
   "execution_count": 9,
   "id": "c2cd5e87-356b-4da6-8d21-b321ef322db2",
   "metadata": {},
   "outputs": [
    {
     "data": {
      "text/plain": [
       "0      43\n",
       "1      57\n",
       "2      38\n",
       "3      80\n",
       "4      34\n",
       "       ..\n",
       "295    24\n",
       "296    50\n",
       "297    53\n",
       "298    34\n",
       "299    31\n",
       "Name: AGE, Length: 300, dtype: int64"
      ]
     },
     "execution_count": 9,
     "metadata": {},
     "output_type": "execute_result"
    }
   ],
   "source": [
    "mydata['AGE']"
   ]
  },
  {
   "cell_type": "code",
   "execution_count": 16,
   "id": "4e03cb7e-77bd-4006-8a5f-b948dacdeb77",
   "metadata": {},
   "outputs": [
    {
     "data": {
      "text/html": [
       "<div>\n",
       "<style scoped>\n",
       "    .dataframe tbody tr th:only-of-type {\n",
       "        vertical-align: middle;\n",
       "    }\n",
       "\n",
       "    .dataframe tbody tr th {\n",
       "        vertical-align: top;\n",
       "    }\n",
       "\n",
       "    .dataframe thead th {\n",
       "        text-align: right;\n",
       "    }\n",
       "</style>\n",
       "<table border=\"1\" class=\"dataframe\">\n",
       "  <thead>\n",
       "    <tr style=\"text-align: right;\">\n",
       "      <th></th>\n",
       "      <th>AGE</th>\n",
       "      <th>GENDER</th>\n",
       "    </tr>\n",
       "  </thead>\n",
       "  <tbody>\n",
       "    <tr>\n",
       "      <th>0</th>\n",
       "      <td>43</td>\n",
       "      <td>0</td>\n",
       "    </tr>\n",
       "    <tr>\n",
       "      <th>1</th>\n",
       "      <td>57</td>\n",
       "      <td>1</td>\n",
       "    </tr>\n",
       "    <tr>\n",
       "      <th>2</th>\n",
       "      <td>38</td>\n",
       "      <td>0</td>\n",
       "    </tr>\n",
       "    <tr>\n",
       "      <th>3</th>\n",
       "      <td>80</td>\n",
       "      <td>1</td>\n",
       "    </tr>\n",
       "    <tr>\n",
       "      <th>4</th>\n",
       "      <td>34</td>\n",
       "      <td>1</td>\n",
       "    </tr>\n",
       "    <tr>\n",
       "      <th>...</th>\n",
       "      <td>...</td>\n",
       "      <td>...</td>\n",
       "    </tr>\n",
       "    <tr>\n",
       "      <th>295</th>\n",
       "      <td>24</td>\n",
       "      <td>1</td>\n",
       "    </tr>\n",
       "    <tr>\n",
       "      <th>296</th>\n",
       "      <td>50</td>\n",
       "      <td>0</td>\n",
       "    </tr>\n",
       "    <tr>\n",
       "      <th>297</th>\n",
       "      <td>53</td>\n",
       "      <td>1</td>\n",
       "    </tr>\n",
       "    <tr>\n",
       "      <th>298</th>\n",
       "      <td>34</td>\n",
       "      <td>0</td>\n",
       "    </tr>\n",
       "    <tr>\n",
       "      <th>299</th>\n",
       "      <td>31</td>\n",
       "      <td>1</td>\n",
       "    </tr>\n",
       "  </tbody>\n",
       "</table>\n",
       "<p>300 rows × 2 columns</p>\n",
       "</div>"
      ],
      "text/plain": [
       "     AGE  GENDER\n",
       "0     43       0\n",
       "1     57       1\n",
       "2     38       0\n",
       "3     80       1\n",
       "4     34       1\n",
       "..   ...     ...\n",
       "295   24       1\n",
       "296   50       0\n",
       "297   53       1\n",
       "298   34       0\n",
       "299   31       1\n",
       "\n",
       "[300 rows x 2 columns]"
      ]
     },
     "execution_count": 16,
     "metadata": {},
     "output_type": "execute_result"
    }
   ],
   "source": [
    "mydata[['AGE','GENDER']]"
   ]
  },
  {
   "cell_type": "code",
   "execution_count": 17,
   "id": "59a86120-1f71-4039-8f5a-456816d2683a",
   "metadata": {},
   "outputs": [
    {
     "data": {
      "text/plain": [
       "0      43\n",
       "1      57\n",
       "2      38\n",
       "3      80\n",
       "4      34\n",
       "       ..\n",
       "295    24\n",
       "296    50\n",
       "297    53\n",
       "298    34\n",
       "299    31\n",
       "Name: AGE, Length: 300, dtype: int64"
      ]
     },
     "execution_count": 17,
     "metadata": {},
     "output_type": "execute_result"
    }
   ],
   "source": [
    "mydata.AGE"
   ]
  },
  {
   "cell_type": "code",
   "execution_count": 18,
   "id": "e7029f16-6f58-4a56-8eb0-cf6994d71fcc",
   "metadata": {},
   "outputs": [
    {
     "data": {
      "text/plain": [
       "47.04"
      ]
     },
     "execution_count": 18,
     "metadata": {},
     "output_type": "execute_result"
    }
   ],
   "source": [
    "mydata.AGE.mean()"
   ]
  },
  {
   "cell_type": "code",
   "execution_count": 19,
   "id": "2aff2df2-7536-475b-a14b-dbed290a6c5c",
   "metadata": {},
   "outputs": [
    {
     "data": {
      "text/plain": [
       "47.04"
      ]
     },
     "execution_count": 19,
     "metadata": {},
     "output_type": "execute_result"
    }
   ],
   "source": [
    "mydata['AGE'].mean()"
   ]
  },
  {
   "cell_type": "code",
   "execution_count": 21,
   "id": "d69be304-cf82-415f-a8e3-22f4b4609875",
   "metadata": {},
   "outputs": [
    {
     "data": {
      "text/html": [
       "<div>\n",
       "<style scoped>\n",
       "    .dataframe tbody tr th:only-of-type {\n",
       "        vertical-align: middle;\n",
       "    }\n",
       "\n",
       "    .dataframe tbody tr th {\n",
       "        vertical-align: top;\n",
       "    }\n",
       "\n",
       "    .dataframe thead th {\n",
       "        text-align: right;\n",
       "    }\n",
       "</style>\n",
       "<table border=\"1\" class=\"dataframe\">\n",
       "  <thead>\n",
       "    <tr style=\"text-align: right;\">\n",
       "      <th></th>\n",
       "      <th>AGE</th>\n",
       "      <th>GENDER</th>\n",
       "      <th>PULSE</th>\n",
       "      <th>SYSTOLIC</th>\n",
       "      <th>DIASTOLIC</th>\n",
       "      <th>HDL</th>\n",
       "      <th>LDL</th>\n",
       "      <th>WHITE</th>\n",
       "      <th>RED</th>\n",
       "      <th>PLATE</th>\n",
       "      <th>WEIGHT</th>\n",
       "      <th>HEIGHT</th>\n",
       "      <th>WAIST</th>\n",
       "      <th>ARM CIRC</th>\n",
       "      <th>BMI</th>\n",
       "    </tr>\n",
       "  </thead>\n",
       "  <tbody>\n",
       "    <tr>\n",
       "      <th>0</th>\n",
       "      <td>43</td>\n",
       "      <td>0</td>\n",
       "      <td>80</td>\n",
       "      <td>100</td>\n",
       "      <td>70</td>\n",
       "      <td>73</td>\n",
       "      <td>68</td>\n",
       "      <td>8.7</td>\n",
       "      <td>4.80</td>\n",
       "      <td>319</td>\n",
       "      <td>98.6</td>\n",
       "      <td>172.0</td>\n",
       "      <td>120.4</td>\n",
       "      <td>40.7</td>\n",
       "      <td>33.3</td>\n",
       "    </tr>\n",
       "    <tr>\n",
       "      <th>1</th>\n",
       "      <td>57</td>\n",
       "      <td>1</td>\n",
       "      <td>84</td>\n",
       "      <td>112</td>\n",
       "      <td>70</td>\n",
       "      <td>35</td>\n",
       "      <td>116</td>\n",
       "      <td>4.9</td>\n",
       "      <td>4.73</td>\n",
       "      <td>187</td>\n",
       "      <td>96.9</td>\n",
       "      <td>186.0</td>\n",
       "      <td>107.8</td>\n",
       "      <td>37.0</td>\n",
       "      <td>28.0</td>\n",
       "    </tr>\n",
       "    <tr>\n",
       "      <th>2</th>\n",
       "      <td>38</td>\n",
       "      <td>0</td>\n",
       "      <td>94</td>\n",
       "      <td>134</td>\n",
       "      <td>94</td>\n",
       "      <td>36</td>\n",
       "      <td>223</td>\n",
       "      <td>6.9</td>\n",
       "      <td>4.47</td>\n",
       "      <td>297</td>\n",
       "      <td>108.2</td>\n",
       "      <td>154.4</td>\n",
       "      <td>120.3</td>\n",
       "      <td>44.3</td>\n",
       "      <td>45.4</td>\n",
       "    </tr>\n",
       "    <tr>\n",
       "      <th>3</th>\n",
       "      <td>80</td>\n",
       "      <td>1</td>\n",
       "      <td>74</td>\n",
       "      <td>126</td>\n",
       "      <td>64</td>\n",
       "      <td>37</td>\n",
       "      <td>83</td>\n",
       "      <td>7.5</td>\n",
       "      <td>4.32</td>\n",
       "      <td>170</td>\n",
       "      <td>73.1</td>\n",
       "      <td>160.5</td>\n",
       "      <td>97.2</td>\n",
       "      <td>30.3</td>\n",
       "      <td>28.4</td>\n",
       "    </tr>\n",
       "    <tr>\n",
       "      <th>4</th>\n",
       "      <td>34</td>\n",
       "      <td>1</td>\n",
       "      <td>50</td>\n",
       "      <td>114</td>\n",
       "      <td>68</td>\n",
       "      <td>50</td>\n",
       "      <td>104</td>\n",
       "      <td>6.1</td>\n",
       "      <td>4.95</td>\n",
       "      <td>140</td>\n",
       "      <td>83.1</td>\n",
       "      <td>179.0</td>\n",
       "      <td>95.1</td>\n",
       "      <td>34.0</td>\n",
       "      <td>25.9</td>\n",
       "    </tr>\n",
       "  </tbody>\n",
       "</table>\n",
       "</div>"
      ],
      "text/plain": [
       "   AGE  GENDER  PULSE  SYSTOLIC  DIASTOLIC  HDL  LDL  WHITE   RED  PLATE  \\\n",
       "0   43       0     80       100         70   73   68    8.7  4.80    319   \n",
       "1   57       1     84       112         70   35  116    4.9  4.73    187   \n",
       "2   38       0     94       134         94   36  223    6.9  4.47    297   \n",
       "3   80       1     74       126         64   37   83    7.5  4.32    170   \n",
       "4   34       1     50       114         68   50  104    6.1  4.95    140   \n",
       "\n",
       "   WEIGHT  HEIGHT  WAIST  ARM CIRC   BMI  \n",
       "0    98.6   172.0  120.4      40.7  33.3  \n",
       "1    96.9   186.0  107.8      37.0  28.0  \n",
       "2   108.2   154.4  120.3      44.3  45.4  \n",
       "3    73.1   160.5   97.2      30.3  28.4  \n",
       "4    83.1   179.0   95.1      34.0  25.9  "
      ]
     },
     "execution_count": 21,
     "metadata": {},
     "output_type": "execute_result"
    }
   ],
   "source": [
    "mydata.head(5)"
   ]
  },
  {
   "cell_type": "code",
   "execution_count": 29,
   "id": "e0b76bab-4d8f-474d-b1fd-f6559231b457",
   "metadata": {},
   "outputs": [
    {
     "data": {
      "text/plain": [
       "(42, 15)"
      ]
     },
     "execution_count": 29,
     "metadata": {},
     "output_type": "execute_result"
    }
   ],
   "source": [
    "mydata[ (mydata['SYSTOLIC'] > 140) | (mydata['DIASTOLIC'] > 90)].shape"
   ]
  },
  {
   "cell_type": "code",
   "execution_count": null,
   "id": "a649fc28-beaa-498e-b9eb-e4e14bf6d021",
   "metadata": {},
   "outputs": [],
   "source": [
    "mydata[ mydata['SYSTOLIC'] > 140]"
   ]
  },
  {
   "cell_type": "code",
   "execution_count": 30,
   "id": "72542593-257e-4f77-aab9-339236de7924",
   "metadata": {},
   "outputs": [],
   "source": [
    "mynewdata = mydata[ (mydata['SYSTOLIC'] > 140) | (mydata['DIASTOLIC'] > 90)]"
   ]
  },
  {
   "cell_type": "code",
   "execution_count": 33,
   "id": "5e8a93ea-d268-45ba-9fad-e5b201cdfe6a",
   "metadata": {},
   "outputs": [
    {
     "data": {
      "text/plain": [
       "32"
      ]
     },
     "execution_count": 33,
     "metadata": {},
     "output_type": "execute_result"
    }
   ],
   "source": [
    "mynewdata.AGE.min()"
   ]
  },
  {
   "cell_type": "code",
   "execution_count": 34,
   "id": "a8d38b21-7683-45fe-b5ed-797b1f367c8b",
   "metadata": {},
   "outputs": [],
   "source": [
    "myiris= pd.read_csv(\"https://raw.githubusercontent.com/aleahy-work/STAT223-S24/main/Data/iris.csv\")"
   ]
  },
  {
   "cell_type": "code",
   "execution_count": 35,
   "id": "743fc50e-26e0-492e-abc8-d67fc3b0268d",
   "metadata": {},
   "outputs": [
    {
     "data": {
      "text/html": [
       "<div>\n",
       "<style scoped>\n",
       "    .dataframe tbody tr th:only-of-type {\n",
       "        vertical-align: middle;\n",
       "    }\n",
       "\n",
       "    .dataframe tbody tr th {\n",
       "        vertical-align: top;\n",
       "    }\n",
       "\n",
       "    .dataframe thead th {\n",
       "        text-align: right;\n",
       "    }\n",
       "</style>\n",
       "<table border=\"1\" class=\"dataframe\">\n",
       "  <thead>\n",
       "    <tr style=\"text-align: right;\">\n",
       "      <th></th>\n",
       "      <th>sepal.length</th>\n",
       "      <th>sepal.width</th>\n",
       "      <th>petal.length</th>\n",
       "      <th>petal.width</th>\n",
       "      <th>variety</th>\n",
       "    </tr>\n",
       "  </thead>\n",
       "  <tbody>\n",
       "    <tr>\n",
       "      <th>0</th>\n",
       "      <td>5.1</td>\n",
       "      <td>3.5</td>\n",
       "      <td>1.4</td>\n",
       "      <td>0.2</td>\n",
       "      <td>Setosa</td>\n",
       "    </tr>\n",
       "    <tr>\n",
       "      <th>1</th>\n",
       "      <td>4.9</td>\n",
       "      <td>3.0</td>\n",
       "      <td>1.4</td>\n",
       "      <td>0.2</td>\n",
       "      <td>Setosa</td>\n",
       "    </tr>\n",
       "    <tr>\n",
       "      <th>2</th>\n",
       "      <td>4.7</td>\n",
       "      <td>3.2</td>\n",
       "      <td>1.3</td>\n",
       "      <td>0.2</td>\n",
       "      <td>Setosa</td>\n",
       "    </tr>\n",
       "    <tr>\n",
       "      <th>3</th>\n",
       "      <td>4.6</td>\n",
       "      <td>3.1</td>\n",
       "      <td>1.5</td>\n",
       "      <td>0.2</td>\n",
       "      <td>Setosa</td>\n",
       "    </tr>\n",
       "    <tr>\n",
       "      <th>4</th>\n",
       "      <td>5.0</td>\n",
       "      <td>3.6</td>\n",
       "      <td>1.4</td>\n",
       "      <td>0.2</td>\n",
       "      <td>Setosa</td>\n",
       "    </tr>\n",
       "  </tbody>\n",
       "</table>\n",
       "</div>"
      ],
      "text/plain": [
       "   sepal.length  sepal.width  petal.length  petal.width variety\n",
       "0           5.1          3.5           1.4          0.2  Setosa\n",
       "1           4.9          3.0           1.4          0.2  Setosa\n",
       "2           4.7          3.2           1.3          0.2  Setosa\n",
       "3           4.6          3.1           1.5          0.2  Setosa\n",
       "4           5.0          3.6           1.4          0.2  Setosa"
      ]
     },
     "execution_count": 35,
     "metadata": {},
     "output_type": "execute_result"
    }
   ],
   "source": [
    "myiris.head(5)"
   ]
  },
  {
   "cell_type": "code",
   "execution_count": 36,
   "id": "4513011f-a138-4dbc-84da-04a71eb29763",
   "metadata": {},
   "outputs": [
    {
     "data": {
      "text/plain": [
       "Setosa        50\n",
       "Versicolor    50\n",
       "Virginica     50\n",
       "Name: variety, dtype: int64"
      ]
     },
     "execution_count": 36,
     "metadata": {},
     "output_type": "execute_result"
    }
   ],
   "source": [
    "myiris.variety.value_counts()"
   ]
  },
  {
   "cell_type": "code",
   "execution_count": 37,
   "id": "88a143f7-33da-45b5-ad8f-ffd269280000",
   "metadata": {},
   "outputs": [
    {
     "data": {
      "text/plain": [
       "Index(['Setosa', 'Versicolor', 'Virginica'], dtype='object')"
      ]
     },
     "execution_count": 37,
     "metadata": {},
     "output_type": "execute_result"
    }
   ],
   "source": [
    "myiris.variety.value_counts().index"
   ]
  },
  {
   "cell_type": "code",
   "execution_count": 38,
   "id": "07f6d155-8c4b-4501-9f1e-1cebc3b4214f",
   "metadata": {},
   "outputs": [],
   "source": [
    "mydata = pd.read_csv(\"https://raw.githubusercontent.com/aleahy-work/STAT223-S24/main/Data/firstdaydata.csv\")"
   ]
  },
  {
   "cell_type": "code",
   "execution_count": 39,
   "id": "ca5babc7-87c6-4417-8971-3a3ba5e5aaf1",
   "metadata": {},
   "outputs": [
    {
     "data": {
      "text/html": [
       "<div>\n",
       "<style scoped>\n",
       "    .dataframe tbody tr th:only-of-type {\n",
       "        vertical-align: middle;\n",
       "    }\n",
       "\n",
       "    .dataframe tbody tr th {\n",
       "        vertical-align: top;\n",
       "    }\n",
       "\n",
       "    .dataframe thead th {\n",
       "        text-align: right;\n",
       "    }\n",
       "</style>\n",
       "<table border=\"1\" class=\"dataframe\">\n",
       "  <thead>\n",
       "    <tr style=\"text-align: right;\">\n",
       "      <th></th>\n",
       "      <th>randnum</th>\n",
       "      <th>diehard</th>\n",
       "      <th>earlobes</th>\n",
       "      <th>hitchthumb</th>\n",
       "      <th>age</th>\n",
       "      <th>siblings</th>\n",
       "      <th>pizzatop</th>\n",
       "      <th>knoxyear</th>\n",
       "      <th>eyecolor</th>\n",
       "      <th>cellphone</th>\n",
       "      <th>hand</th>\n",
       "      <th>gender</th>\n",
       "      <th>height</th>\n",
       "      <th>wingspan</th>\n",
       "      <th>cubit</th>\n",
       "      <th>handspan</th>\n",
       "    </tr>\n",
       "  </thead>\n",
       "  <tbody>\n",
       "    <tr>\n",
       "      <th>0</th>\n",
       "      <td>7</td>\n",
       "      <td>Yes</td>\n",
       "      <td>Detached</td>\n",
       "      <td>Hitchhikers thumb</td>\n",
       "      <td>19</td>\n",
       "      <td>1</td>\n",
       "      <td>Pepperoni</td>\n",
       "      <td>Sophomore</td>\n",
       "      <td>Brown</td>\n",
       "      <td>Android</td>\n",
       "      <td>Right</td>\n",
       "      <td>Female</td>\n",
       "      <td>66.0</td>\n",
       "      <td>67.1</td>\n",
       "      <td>17.5</td>\n",
       "      <td>7.5</td>\n",
       "    </tr>\n",
       "    <tr>\n",
       "      <th>1</th>\n",
       "      <td>7</td>\n",
       "      <td>Yes</td>\n",
       "      <td>Attached</td>\n",
       "      <td>Hitchhikers thumb</td>\n",
       "      <td>21</td>\n",
       "      <td>0</td>\n",
       "      <td>Cheese</td>\n",
       "      <td>Senior and beyond</td>\n",
       "      <td>Brown</td>\n",
       "      <td>Android</td>\n",
       "      <td>Left</td>\n",
       "      <td>Female</td>\n",
       "      <td>64.5</td>\n",
       "      <td>68.0</td>\n",
       "      <td>18.0</td>\n",
       "      <td>6.5</td>\n",
       "    </tr>\n",
       "    <tr>\n",
       "      <th>2</th>\n",
       "      <td>9</td>\n",
       "      <td>No</td>\n",
       "      <td>Detached</td>\n",
       "      <td>No hitchhikers thumb</td>\n",
       "      <td>19</td>\n",
       "      <td>2</td>\n",
       "      <td>Cheese</td>\n",
       "      <td>Sophomore</td>\n",
       "      <td>Brown</td>\n",
       "      <td>Android</td>\n",
       "      <td>Right</td>\n",
       "      <td>Male</td>\n",
       "      <td>73.0</td>\n",
       "      <td>71.0</td>\n",
       "      <td>18.5</td>\n",
       "      <td>7.5</td>\n",
       "    </tr>\n",
       "    <tr>\n",
       "      <th>3</th>\n",
       "      <td>3</td>\n",
       "      <td>No</td>\n",
       "      <td>Detached</td>\n",
       "      <td>No hitchhikers thumb</td>\n",
       "      <td>19</td>\n",
       "      <td>0</td>\n",
       "      <td>Cheese</td>\n",
       "      <td>Sophomore</td>\n",
       "      <td>Other</td>\n",
       "      <td>Android</td>\n",
       "      <td>Right</td>\n",
       "      <td>Male</td>\n",
       "      <td>67.0</td>\n",
       "      <td>69.1</td>\n",
       "      <td>18.4</td>\n",
       "      <td>7.9</td>\n",
       "    </tr>\n",
       "  </tbody>\n",
       "</table>\n",
       "</div>"
      ],
      "text/plain": [
       "   randnum diehard  earlobes            hitchthumb  age  siblings   pizzatop  \\\n",
       "0        7     Yes  Detached     Hitchhikers thumb   19         1  Pepperoni   \n",
       "1        7     Yes  Attached     Hitchhikers thumb   21         0     Cheese   \n",
       "2        9      No  Detached  No hitchhikers thumb   19         2     Cheese   \n",
       "3        3      No  Detached  No hitchhikers thumb   19         0     Cheese   \n",
       "\n",
       "            knoxyear eyecolor cellphone   hand  gender  height  wingspan  \\\n",
       "0          Sophomore    Brown   Android  Right  Female    66.0      67.1   \n",
       "1  Senior and beyond    Brown   Android   Left  Female    64.5      68.0   \n",
       "2          Sophomore    Brown   Android  Right    Male    73.0      71.0   \n",
       "3          Sophomore    Other   Android  Right    Male    67.0      69.1   \n",
       "\n",
       "   cubit  handspan  \n",
       "0   17.5       7.5  \n",
       "1   18.0       6.5  \n",
       "2   18.5       7.5  \n",
       "3   18.4       7.9  "
      ]
     },
     "execution_count": 39,
     "metadata": {},
     "output_type": "execute_result"
    }
   ],
   "source": [
    "mydata.head(4)"
   ]
  },
  {
   "cell_type": "code",
   "execution_count": 42,
   "id": "7c44041a-567a-4277-ab15-8549f66869c5",
   "metadata": {},
   "outputs": [
    {
     "data": {
      "text/plain": [
       "(39,)"
      ]
     },
     "execution_count": 42,
     "metadata": {},
     "output_type": "execute_result"
    }
   ],
   "source": [
    "mydata['wingspan'].shape  # Note that this is the wrong shape for an input!"
   ]
  },
  {
   "cell_type": "code",
   "execution_count": 44,
   "id": "36b301f6-997a-4236-9c58-5c788b8781c5",
   "metadata": {},
   "outputs": [
    {
     "ename": "AttributeError",
     "evalue": "'Series' object has no attribute 'reshape'",
     "output_type": "error",
     "traceback": [
      "\u001b[0;31m---------------------------------------------------------------------------\u001b[0m",
      "\u001b[0;31mAttributeError\u001b[0m                            Traceback (most recent call last)",
      "Cell \u001b[0;32mIn [44], line 1\u001b[0m\n\u001b[0;32m----> 1\u001b[0m \u001b[43mmydata\u001b[49m\u001b[43m[\u001b[49m\u001b[38;5;124;43m'\u001b[39;49m\u001b[38;5;124;43mwingspan\u001b[39;49m\u001b[38;5;124;43m'\u001b[39;49m\u001b[43m]\u001b[49m\u001b[38;5;241;43m.\u001b[39;49m\u001b[43mreshape\u001b[49m(\u001b[38;5;241m39\u001b[39m,\u001b[38;5;241m1\u001b[39m)\u001b[38;5;241m.\u001b[39mshape\n",
      "File \u001b[0;32m/usr/lib64/python3.11/site-packages/pandas/core/generic.py:5902\u001b[0m, in \u001b[0;36mNDFrame.__getattr__\u001b[0;34m(self, name)\u001b[0m\n\u001b[1;32m   5895\u001b[0m \u001b[38;5;28;01mif\u001b[39;00m (\n\u001b[1;32m   5896\u001b[0m     name \u001b[38;5;129;01mnot\u001b[39;00m \u001b[38;5;129;01min\u001b[39;00m \u001b[38;5;28mself\u001b[39m\u001b[38;5;241m.\u001b[39m_internal_names_set\n\u001b[1;32m   5897\u001b[0m     \u001b[38;5;129;01mand\u001b[39;00m name \u001b[38;5;129;01mnot\u001b[39;00m \u001b[38;5;129;01min\u001b[39;00m \u001b[38;5;28mself\u001b[39m\u001b[38;5;241m.\u001b[39m_metadata\n\u001b[1;32m   5898\u001b[0m     \u001b[38;5;129;01mand\u001b[39;00m name \u001b[38;5;129;01mnot\u001b[39;00m \u001b[38;5;129;01min\u001b[39;00m \u001b[38;5;28mself\u001b[39m\u001b[38;5;241m.\u001b[39m_accessors\n\u001b[1;32m   5899\u001b[0m     \u001b[38;5;129;01mand\u001b[39;00m \u001b[38;5;28mself\u001b[39m\u001b[38;5;241m.\u001b[39m_info_axis\u001b[38;5;241m.\u001b[39m_can_hold_identifiers_and_holds_name(name)\n\u001b[1;32m   5900\u001b[0m ):\n\u001b[1;32m   5901\u001b[0m     \u001b[38;5;28;01mreturn\u001b[39;00m \u001b[38;5;28mself\u001b[39m[name]\n\u001b[0;32m-> 5902\u001b[0m \u001b[38;5;28;01mreturn\u001b[39;00m \u001b[38;5;28;43mobject\u001b[39;49m\u001b[38;5;241;43m.\u001b[39;49m\u001b[38;5;21;43m__getattribute__\u001b[39;49m\u001b[43m(\u001b[49m\u001b[38;5;28;43mself\u001b[39;49m\u001b[43m,\u001b[49m\u001b[43m \u001b[49m\u001b[43mname\u001b[49m\u001b[43m)\u001b[49m\n",
      "\u001b[0;31mAttributeError\u001b[0m: 'Series' object has no attribute 'reshape'"
     ]
    }
   ],
   "source": [
    "mydata['wingspan'].reshape(39,1).shape  # .reshape is essentially a numpy function"
   ]
  },
  {
   "cell_type": "markdown",
   "id": "46ad0d8b-e40c-4674-b16b-ab20ef9c7377",
   "metadata": {},
   "source": [
    "Reshaping is something that numpy does very well, but the problem is that pandas doesn't do this.  SO . . . we take the \"values\" from the series--which is just a numpy array--and use the numpy .reshape to reshape the data to the right size."
   ]
  },
  {
   "cell_type": "code",
   "execution_count": 43,
   "id": "01d46da3-b8ce-4379-a039-dc8710db7c4a",
   "metadata": {},
   "outputs": [
    {
     "data": {
      "text/plain": [
       "array([67.1, 68. , 71. , 69.1, 61.2, 67.5, 71. , 70.1, 61.5, 56. , 65. ,\n",
       "       65. , 74. , 62.3, 71.5, 72.5, 68. , 70. , 65. , 62.8, 74. , 72. ,\n",
       "       68. , 62. , 55.3, 70.5, 71.7, 77.8, 67.9, 63. , 63. , 78. , 64.5,\n",
       "       62. , 59.6, 72. , 63.4, 69.7, 62.5])"
      ]
     },
     "execution_count": 43,
     "metadata": {},
     "output_type": "execute_result"
    }
   ],
   "source": [
    "mydata['wingspan'].values"
   ]
  },
  {
   "cell_type": "code",
   "execution_count": 57,
   "id": "a137efa9-77aa-4c8f-a0d4-36d6ba2a7ed3",
   "metadata": {},
   "outputs": [
    {
     "data": {
      "text/plain": [
       "array([[67.1],\n",
       "       [68. ],\n",
       "       [71. ],\n",
       "       [69.1],\n",
       "       [61.2],\n",
       "       [67.5],\n",
       "       [71. ],\n",
       "       [70.1],\n",
       "       [61.5],\n",
       "       [56. ],\n",
       "       [65. ],\n",
       "       [65. ],\n",
       "       [74. ],\n",
       "       [62.3],\n",
       "       [71.5],\n",
       "       [72.5],\n",
       "       [68. ],\n",
       "       [70. ],\n",
       "       [65. ],\n",
       "       [62.8],\n",
       "       [74. ],\n",
       "       [72. ],\n",
       "       [68. ],\n",
       "       [62. ],\n",
       "       [55.3],\n",
       "       [70.5],\n",
       "       [71.7],\n",
       "       [77.8],\n",
       "       [67.9],\n",
       "       [63. ],\n",
       "       [63. ],\n",
       "       [78. ],\n",
       "       [64.5],\n",
       "       [62. ],\n",
       "       [59.6],\n",
       "       [72. ],\n",
       "       [63.4],\n",
       "       [69.7],\n",
       "       [62.5]])"
      ]
     },
     "execution_count": 57,
     "metadata": {},
     "output_type": "execute_result"
    }
   ],
   "source": [
    "mydata['wingspan'].values.reshape(39,1)"
   ]
  },
  {
   "cell_type": "code",
   "execution_count": 44,
   "id": "77ad2fbd-d3fc-4d10-b346-5b0f15a83a6d",
   "metadata": {},
   "outputs": [],
   "source": [
    "myx = mydata['wingspan'].values.reshape(39,1)  # Now the data is in the right shape, so we give it a name"
   ]
  },
  {
   "cell_type": "code",
   "execution_count": 45,
   "id": "d018ab7f-8e1d-4d2e-a737-2072861d3ab2",
   "metadata": {},
   "outputs": [
    {
     "data": {
      "text/plain": [
       "(39, 1)"
      ]
     },
     "execution_count": 45,
     "metadata": {},
     "output_type": "execute_result"
    }
   ],
   "source": [
    "myx.shape"
   ]
  },
  {
   "cell_type": "code",
   "execution_count": 46,
   "id": "712e9a87-4c85-4ca4-99de-a937d4c605cd",
   "metadata": {},
   "outputs": [
    {
     "data": {
      "text/plain": [
       "array([66. , 64.5, 73. , 67. , 64.8, 70.1, 71. , 71. , 63.5, 58. , 67. ,\n",
       "       65.7, 73. , 62.3, 73. , 71. , 68. , 71.8, 64.5, 66.5, 72. , 74. ,\n",
       "       67. , 64. , 66. , 70.1, 70.4, 75.2, 69.1, 65. , 64. , 74.5, 64.8,\n",
       "       64.5, 68. , 70. , 63.8, 69.4, 64.5])"
      ]
     },
     "execution_count": 46,
     "metadata": {},
     "output_type": "execute_result"
    }
   ],
   "source": [
    "mydata['height'].values"
   ]
  },
  {
   "cell_type": "code",
   "execution_count": 47,
   "id": "398ca2e8-56d5-4119-a50b-cd4475c7f88f",
   "metadata": {},
   "outputs": [
    {
     "data": {
      "text/plain": [
       "(39,)"
      ]
     },
     "execution_count": 47,
     "metadata": {},
     "output_type": "execute_result"
    }
   ],
   "source": [
    "mydata['height'].values.shape  # This is the right shape for an output, so we are fine"
   ]
  },
  {
   "cell_type": "code",
   "execution_count": 48,
   "id": "374f4d62-25a0-4a9d-b9c7-b6dcde679e9c",
   "metadata": {},
   "outputs": [],
   "source": [
    "myy = mydata['height'].values"
   ]
  },
  {
   "cell_type": "markdown",
   "id": "615700d0-38bd-41e9-80f2-bb56feb8d703",
   "metadata": {
    "jp-MarkdownHeadingCollapsed": true
   },
   "source": [
    "## numpy ##\n",
    "\n",
    "[numpy](https://numpy.org/) (\"numerical python\") is a library that provides many different functions for doing numerical computations.  We use it primarily to manipulate numerical arrays, which can be then be used as input to sklearn models.  In some sense, numpy arrays extend the idea of a python list, but they are a completely different data structure and have their own, very lengthy list of methods.  You can also make higher dimensional arrays (e.g., matrices) by putting numpy arrays with numpy arrays. "
   ]
  },
  {
   "cell_type": "code",
   "execution_count": 5,
   "id": "3510cc22-ab4a-447b-9274-f348ccc1be2e",
   "metadata": {},
   "outputs": [],
   "source": [
    "import numpy as np"
   ]
  },
  {
   "cell_type": "code",
   "execution_count": 6,
   "id": "7782b480-d53c-4958-85ff-50ffaa23d5c5",
   "metadata": {},
   "outputs": [],
   "source": [
    "mylist = [1,2,3,4,5]  # This is not a numpy array--it's just a list"
   ]
  },
  {
   "cell_type": "code",
   "execution_count": 8,
   "id": "362b3227-8a27-4094-8df0-f4b3f7c97316",
   "metadata": {},
   "outputs": [
    {
     "data": {
      "text/plain": [
       "5"
      ]
     },
     "execution_count": 8,
     "metadata": {},
     "output_type": "execute_result"
    }
   ],
   "source": [
    "mylist[4]"
   ]
  },
  {
   "cell_type": "code",
   "execution_count": 9,
   "id": "c124d8eb-4037-4c47-9971-00a2c7d093fe",
   "metadata": {},
   "outputs": [],
   "source": [
    "mynp = np.array(mylist)  # This converts a list to a numpy array, which has a LOT of methods"
   ]
  },
  {
   "cell_type": "code",
   "execution_count": 10,
   "id": "0bd997ee-7e86-420b-a963-19d26255368e",
   "metadata": {},
   "outputs": [
    {
     "data": {
      "text/plain": [
       "[1, 2, 3, 4, 5]"
      ]
     },
     "execution_count": 10,
     "metadata": {},
     "output_type": "execute_result"
    }
   ],
   "source": [
    "mylist"
   ]
  },
  {
   "cell_type": "code",
   "execution_count": 11,
   "id": "122b0661-80ed-4243-8f3e-a98406decc3b",
   "metadata": {},
   "outputs": [
    {
     "data": {
      "text/plain": [
       "array([1, 2, 3, 4, 5])"
      ]
     },
     "execution_count": 11,
     "metadata": {},
     "output_type": "execute_result"
    }
   ],
   "source": [
    "mynp"
   ]
  },
  {
   "cell_type": "code",
   "execution_count": 12,
   "id": "32cb6b8f-6e9c-4dc7-85e5-56e91a4649f4",
   "metadata": {},
   "outputs": [
    {
     "data": {
      "text/plain": [
       "dtype('int64')"
      ]
     },
     "execution_count": 12,
     "metadata": {},
     "output_type": "execute_result"
    }
   ],
   "source": [
    "mynp.dtype"
   ]
  },
  {
   "cell_type": "code",
   "execution_count": 13,
   "id": "da6fed9f-bc6a-431a-8290-f49ba4afe891",
   "metadata": {},
   "outputs": [
    {
     "ename": "AttributeError",
     "evalue": "'list' object has no attribute 'dtype'",
     "output_type": "error",
     "traceback": [
      "\u001b[0;31m---------------------------------------------------------------------------\u001b[0m",
      "\u001b[0;31mAttributeError\u001b[0m                            Traceback (most recent call last)",
      "Cell \u001b[0;32mIn [13], line 1\u001b[0m\n\u001b[0;32m----> 1\u001b[0m \u001b[43mmylist\u001b[49m\u001b[38;5;241;43m.\u001b[39;49m\u001b[43mdtype\u001b[49m\n",
      "\u001b[0;31mAttributeError\u001b[0m: 'list' object has no attribute 'dtype'"
     ]
    }
   ],
   "source": [
    "mylist.dtype"
   ]
  },
  {
   "cell_type": "code",
   "execution_count": 16,
   "id": "61efb4bb-49a2-4e28-9b48-e795611ddfec",
   "metadata": {},
   "outputs": [
    {
     "data": {
      "text/plain": [
       "5"
      ]
     },
     "execution_count": 16,
     "metadata": {},
     "output_type": "execute_result"
    }
   ],
   "source": [
    "mynp[4]"
   ]
  },
  {
   "cell_type": "code",
   "execution_count": 17,
   "id": "141a6ff8-1406-4824-beec-e00cb3757341",
   "metadata": {},
   "outputs": [],
   "source": [
    "my2d = np.array([[1,2,3],[4,5,6]])"
   ]
  },
  {
   "cell_type": "code",
   "execution_count": 18,
   "id": "b3e21b3a-b66b-4ebc-a0b8-c05b5a2d30e3",
   "metadata": {},
   "outputs": [
    {
     "data": {
      "text/plain": [
       "1"
      ]
     },
     "execution_count": 18,
     "metadata": {},
     "output_type": "execute_result"
    }
   ],
   "source": [
    "my2d[0,0]"
   ]
  },
  {
   "cell_type": "code",
   "execution_count": 19,
   "id": "9f982bee-c083-4e9f-8f4d-c1bae16358da",
   "metadata": {},
   "outputs": [
    {
     "data": {
      "text/plain": [
       "4"
      ]
     },
     "execution_count": 19,
     "metadata": {},
     "output_type": "execute_result"
    }
   ],
   "source": [
    "my2d[1,0]"
   ]
  },
  {
   "cell_type": "code",
   "execution_count": 20,
   "id": "cde2e826-f1be-473c-87ae-048b91cb962e",
   "metadata": {},
   "outputs": [
    {
     "data": {
      "text/plain": [
       "6"
      ]
     },
     "execution_count": 20,
     "metadata": {},
     "output_type": "execute_result"
    }
   ],
   "source": [
    "my2d[1,2]"
   ]
  },
  {
   "cell_type": "code",
   "execution_count": 21,
   "id": "46491a5d-ee9e-42ca-aa35-409247fc09e6",
   "metadata": {},
   "outputs": [
    {
     "data": {
      "text/plain": [
       "(2, 3)"
      ]
     },
     "execution_count": 21,
     "metadata": {},
     "output_type": "execute_result"
    }
   ],
   "source": [
    "my2d.shape"
   ]
  },
  {
   "cell_type": "markdown",
   "id": "4dfa0f06-1735-4300-a26a-a37b148a060e",
   "metadata": {},
   "source": [
    "# scikit.learn #\n",
    "\n",
    "This is the primary machine learning module for python. It is very extensive, and deals with everything from preprocessing, to model construction, to model evaluation (e.g., accuracy).  It also has built-in datasets that are ready-to-run with sklearn. "
   ]
  },
  {
   "cell_type": "code",
   "execution_count": 28,
   "id": "f82eafe1-cbaf-45a6-a969-1b989dfda615",
   "metadata": {},
   "outputs": [],
   "source": [
    "from sklearn.linear_model import LinearRegression"
   ]
  },
  {
   "cell_type": "code",
   "execution_count": 30,
   "id": "6cafc11c-7b14-41aa-985d-f0ec0e6bdf56",
   "metadata": {},
   "outputs": [],
   "source": [
    "mylm = LinearRegression()"
   ]
  },
  {
   "cell_type": "code",
   "execution_count": 44,
   "id": "5d77f4cb",
   "metadata": {},
   "outputs": [],
   "source": [
    "myx = mydata['wingspan'].values.reshape(39,1)  # Now the data is in the right shape, so we give it a name"
   ]
  },
  {
   "cell_type": "code",
   "execution_count": 45,
   "id": "99e9ad6d",
   "metadata": {},
   "outputs": [
    {
     "data": {
      "text/plain": [
       "(39, 1)"
      ]
     },
     "execution_count": 45,
     "metadata": {},
     "output_type": "execute_result"
    }
   ],
   "source": [
    "myx.shape"
   ]
  },
  {
   "cell_type": "code",
   "execution_count": 47,
   "id": "d85e493f",
   "metadata": {},
   "outputs": [
    {
     "data": {
      "text/plain": [
       "(39,)"
      ]
     },
     "execution_count": 47,
     "metadata": {},
     "output_type": "execute_result"
    }
   ],
   "source": [
    "mydata['height'].values.shape  # This is the right shape for an output, so we are fine"
   ]
  },
  {
   "cell_type": "code",
   "execution_count": 48,
   "id": "831ef86f",
   "metadata": {},
   "outputs": [],
   "source": [
    "myy = mydata['height'].values"
   ]
  },
  {
   "cell_type": "code",
   "execution_count": 50,
   "id": "bb881f01-0894-41eb-9584-85aa9e905284",
   "metadata": {},
   "outputs": [],
   "source": [
    "mymodel = mylm.fit(myx, myy)"
   ]
  },
  {
   "cell_type": "code",
   "execution_count": 52,
   "id": "aca57060-6c0b-499a-a574-4a081152d427",
   "metadata": {},
   "outputs": [
    {
     "data": {
      "text/plain": [
       "array([0.63477313])"
      ]
     },
     "execution_count": 52,
     "metadata": {},
     "output_type": "execute_result"
    }
   ],
   "source": [
    "mymodel.coef_"
   ]
  },
  {
   "cell_type": "code",
   "execution_count": 53,
   "id": "e1e7ce37-4bc5-45c0-b563-0627b6f29184",
   "metadata": {},
   "outputs": [
    {
     "data": {
      "text/plain": [
       "25.32694551620032"
      ]
     },
     "execution_count": 53,
     "metadata": {},
     "output_type": "execute_result"
    }
   ],
   "source": [
    "mymodel.intercept_"
   ]
  },
  {
   "cell_type": "code",
   "execution_count": 54,
   "id": "df0af766-51ef-4a22-95c4-8d7ee09bb39f",
   "metadata": {},
   "outputs": [
    {
     "data": {
      "text/plain": [
       "0.7505320966768354"
      ]
     },
     "execution_count": 54,
     "metadata": {},
     "output_type": "execute_result"
    }
   ],
   "source": [
    "mymodel.score(myx, myy)"
   ]
  },
  {
   "cell_type": "code",
   "execution_count": 58,
   "id": "6343f946-70c6-4a7d-9a1c-2aa9f109a578",
   "metadata": {},
   "outputs": [
    {
     "data": {
      "text/plain": [
       "array([69.76106471])"
      ]
     },
     "execution_count": 58,
     "metadata": {},
     "output_type": "execute_result"
    }
   ],
   "source": [
    "mymodel.predict([[70]])"
   ]
  },
  {
   "cell_type": "code",
   "execution_count": 30,
   "id": "7398bea3-867a-40d5-972a-49dfb068dec8",
   "metadata": {},
   "outputs": [],
   "source": [
    "from sklearn.datasets import load_iris\n",
    "from sklearn.model_selection import train_test_split\n",
    "from sklearn.naive_bayes import GaussianNB"
   ]
  },
  {
   "cell_type": "code",
   "execution_count": 31,
   "id": "d83a5f07-24c6-4acc-ab1d-3de9a7814443",
   "metadata": {},
   "outputs": [],
   "source": [
    "X, y = load_iris(return_X_y=True)"
   ]
  },
  {
   "cell_type": "code",
   "execution_count": 32,
   "id": "42e338a3-7a34-4022-9da7-87a2e905472d",
   "metadata": {},
   "outputs": [
    {
     "data": {
      "text/plain": [
       "array([[5.1, 3.5, 1.4, 0.2],\n",
       "       [4.9, 3. , 1.4, 0.2],\n",
       "       [4.7, 3.2, 1.3, 0.2],\n",
       "       [4.6, 3.1, 1.5, 0.2],\n",
       "       [5. , 3.6, 1.4, 0.2],\n",
       "       [5.4, 3.9, 1.7, 0.4],\n",
       "       [4.6, 3.4, 1.4, 0.3],\n",
       "       [5. , 3.4, 1.5, 0.2],\n",
       "       [4.4, 2.9, 1.4, 0.2],\n",
       "       [4.9, 3.1, 1.5, 0.1],\n",
       "       [5.4, 3.7, 1.5, 0.2],\n",
       "       [4.8, 3.4, 1.6, 0.2],\n",
       "       [4.8, 3. , 1.4, 0.1],\n",
       "       [4.3, 3. , 1.1, 0.1],\n",
       "       [5.8, 4. , 1.2, 0.2],\n",
       "       [5.7, 4.4, 1.5, 0.4],\n",
       "       [5.4, 3.9, 1.3, 0.4],\n",
       "       [5.1, 3.5, 1.4, 0.3],\n",
       "       [5.7, 3.8, 1.7, 0.3],\n",
       "       [5.1, 3.8, 1.5, 0.3],\n",
       "       [5.4, 3.4, 1.7, 0.2],\n",
       "       [5.1, 3.7, 1.5, 0.4],\n",
       "       [4.6, 3.6, 1. , 0.2],\n",
       "       [5.1, 3.3, 1.7, 0.5],\n",
       "       [4.8, 3.4, 1.9, 0.2],\n",
       "       [5. , 3. , 1.6, 0.2],\n",
       "       [5. , 3.4, 1.6, 0.4],\n",
       "       [5.2, 3.5, 1.5, 0.2],\n",
       "       [5.2, 3.4, 1.4, 0.2],\n",
       "       [4.7, 3.2, 1.6, 0.2],\n",
       "       [4.8, 3.1, 1.6, 0.2],\n",
       "       [5.4, 3.4, 1.5, 0.4],\n",
       "       [5.2, 4.1, 1.5, 0.1],\n",
       "       [5.5, 4.2, 1.4, 0.2],\n",
       "       [4.9, 3.1, 1.5, 0.2],\n",
       "       [5. , 3.2, 1.2, 0.2],\n",
       "       [5.5, 3.5, 1.3, 0.2],\n",
       "       [4.9, 3.6, 1.4, 0.1],\n",
       "       [4.4, 3. , 1.3, 0.2],\n",
       "       [5.1, 3.4, 1.5, 0.2],\n",
       "       [5. , 3.5, 1.3, 0.3],\n",
       "       [4.5, 2.3, 1.3, 0.3],\n",
       "       [4.4, 3.2, 1.3, 0.2],\n",
       "       [5. , 3.5, 1.6, 0.6],\n",
       "       [5.1, 3.8, 1.9, 0.4],\n",
       "       [4.8, 3. , 1.4, 0.3],\n",
       "       [5.1, 3.8, 1.6, 0.2],\n",
       "       [4.6, 3.2, 1.4, 0.2],\n",
       "       [5.3, 3.7, 1.5, 0.2],\n",
       "       [5. , 3.3, 1.4, 0.2],\n",
       "       [7. , 3.2, 4.7, 1.4],\n",
       "       [6.4, 3.2, 4.5, 1.5],\n",
       "       [6.9, 3.1, 4.9, 1.5],\n",
       "       [5.5, 2.3, 4. , 1.3],\n",
       "       [6.5, 2.8, 4.6, 1.5],\n",
       "       [5.7, 2.8, 4.5, 1.3],\n",
       "       [6.3, 3.3, 4.7, 1.6],\n",
       "       [4.9, 2.4, 3.3, 1. ],\n",
       "       [6.6, 2.9, 4.6, 1.3],\n",
       "       [5.2, 2.7, 3.9, 1.4],\n",
       "       [5. , 2. , 3.5, 1. ],\n",
       "       [5.9, 3. , 4.2, 1.5],\n",
       "       [6. , 2.2, 4. , 1. ],\n",
       "       [6.1, 2.9, 4.7, 1.4],\n",
       "       [5.6, 2.9, 3.6, 1.3],\n",
       "       [6.7, 3.1, 4.4, 1.4],\n",
       "       [5.6, 3. , 4.5, 1.5],\n",
       "       [5.8, 2.7, 4.1, 1. ],\n",
       "       [6.2, 2.2, 4.5, 1.5],\n",
       "       [5.6, 2.5, 3.9, 1.1],\n",
       "       [5.9, 3.2, 4.8, 1.8],\n",
       "       [6.1, 2.8, 4. , 1.3],\n",
       "       [6.3, 2.5, 4.9, 1.5],\n",
       "       [6.1, 2.8, 4.7, 1.2],\n",
       "       [6.4, 2.9, 4.3, 1.3],\n",
       "       [6.6, 3. , 4.4, 1.4],\n",
       "       [6.8, 2.8, 4.8, 1.4],\n",
       "       [6.7, 3. , 5. , 1.7],\n",
       "       [6. , 2.9, 4.5, 1.5],\n",
       "       [5.7, 2.6, 3.5, 1. ],\n",
       "       [5.5, 2.4, 3.8, 1.1],\n",
       "       [5.5, 2.4, 3.7, 1. ],\n",
       "       [5.8, 2.7, 3.9, 1.2],\n",
       "       [6. , 2.7, 5.1, 1.6],\n",
       "       [5.4, 3. , 4.5, 1.5],\n",
       "       [6. , 3.4, 4.5, 1.6],\n",
       "       [6.7, 3.1, 4.7, 1.5],\n",
       "       [6.3, 2.3, 4.4, 1.3],\n",
       "       [5.6, 3. , 4.1, 1.3],\n",
       "       [5.5, 2.5, 4. , 1.3],\n",
       "       [5.5, 2.6, 4.4, 1.2],\n",
       "       [6.1, 3. , 4.6, 1.4],\n",
       "       [5.8, 2.6, 4. , 1.2],\n",
       "       [5. , 2.3, 3.3, 1. ],\n",
       "       [5.6, 2.7, 4.2, 1.3],\n",
       "       [5.7, 3. , 4.2, 1.2],\n",
       "       [5.7, 2.9, 4.2, 1.3],\n",
       "       [6.2, 2.9, 4.3, 1.3],\n",
       "       [5.1, 2.5, 3. , 1.1],\n",
       "       [5.7, 2.8, 4.1, 1.3],\n",
       "       [6.3, 3.3, 6. , 2.5],\n",
       "       [5.8, 2.7, 5.1, 1.9],\n",
       "       [7.1, 3. , 5.9, 2.1],\n",
       "       [6.3, 2.9, 5.6, 1.8],\n",
       "       [6.5, 3. , 5.8, 2.2],\n",
       "       [7.6, 3. , 6.6, 2.1],\n",
       "       [4.9, 2.5, 4.5, 1.7],\n",
       "       [7.3, 2.9, 6.3, 1.8],\n",
       "       [6.7, 2.5, 5.8, 1.8],\n",
       "       [7.2, 3.6, 6.1, 2.5],\n",
       "       [6.5, 3.2, 5.1, 2. ],\n",
       "       [6.4, 2.7, 5.3, 1.9],\n",
       "       [6.8, 3. , 5.5, 2.1],\n",
       "       [5.7, 2.5, 5. , 2. ],\n",
       "       [5.8, 2.8, 5.1, 2.4],\n",
       "       [6.4, 3.2, 5.3, 2.3],\n",
       "       [6.5, 3. , 5.5, 1.8],\n",
       "       [7.7, 3.8, 6.7, 2.2],\n",
       "       [7.7, 2.6, 6.9, 2.3],\n",
       "       [6. , 2.2, 5. , 1.5],\n",
       "       [6.9, 3.2, 5.7, 2.3],\n",
       "       [5.6, 2.8, 4.9, 2. ],\n",
       "       [7.7, 2.8, 6.7, 2. ],\n",
       "       [6.3, 2.7, 4.9, 1.8],\n",
       "       [6.7, 3.3, 5.7, 2.1],\n",
       "       [7.2, 3.2, 6. , 1.8],\n",
       "       [6.2, 2.8, 4.8, 1.8],\n",
       "       [6.1, 3. , 4.9, 1.8],\n",
       "       [6.4, 2.8, 5.6, 2.1],\n",
       "       [7.2, 3. , 5.8, 1.6],\n",
       "       [7.4, 2.8, 6.1, 1.9],\n",
       "       [7.9, 3.8, 6.4, 2. ],\n",
       "       [6.4, 2.8, 5.6, 2.2],\n",
       "       [6.3, 2.8, 5.1, 1.5],\n",
       "       [6.1, 2.6, 5.6, 1.4],\n",
       "       [7.7, 3. , 6.1, 2.3],\n",
       "       [6.3, 3.4, 5.6, 2.4],\n",
       "       [6.4, 3.1, 5.5, 1.8],\n",
       "       [6. , 3. , 4.8, 1.8],\n",
       "       [6.9, 3.1, 5.4, 2.1],\n",
       "       [6.7, 3.1, 5.6, 2.4],\n",
       "       [6.9, 3.1, 5.1, 2.3],\n",
       "       [5.8, 2.7, 5.1, 1.9],\n",
       "       [6.8, 3.2, 5.9, 2.3],\n",
       "       [6.7, 3.3, 5.7, 2.5],\n",
       "       [6.7, 3. , 5.2, 2.3],\n",
       "       [6.3, 2.5, 5. , 1.9],\n",
       "       [6.5, 3. , 5.2, 2. ],\n",
       "       [6.2, 3.4, 5.4, 2.3],\n",
       "       [5.9, 3. , 5.1, 1.8]])"
      ]
     },
     "execution_count": 32,
     "metadata": {},
     "output_type": "execute_result"
    }
   ],
   "source": [
    "X"
   ]
  },
  {
   "cell_type": "code",
   "execution_count": 33,
   "id": "c00e6cff-1107-4255-bd1b-2f9b12e82699",
   "metadata": {
    "scrolled": true
   },
   "outputs": [
    {
     "data": {
      "text/plain": [
       "array([0, 0, 0, 0, 0, 0, 0, 0, 0, 0, 0, 0, 0, 0, 0, 0, 0, 0, 0, 0, 0, 0,\n",
       "       0, 0, 0, 0, 0, 0, 0, 0, 0, 0, 0, 0, 0, 0, 0, 0, 0, 0, 0, 0, 0, 0,\n",
       "       0, 0, 0, 0, 0, 0, 1, 1, 1, 1, 1, 1, 1, 1, 1, 1, 1, 1, 1, 1, 1, 1,\n",
       "       1, 1, 1, 1, 1, 1, 1, 1, 1, 1, 1, 1, 1, 1, 1, 1, 1, 1, 1, 1, 1, 1,\n",
       "       1, 1, 1, 1, 1, 1, 1, 1, 1, 1, 1, 1, 2, 2, 2, 2, 2, 2, 2, 2, 2, 2,\n",
       "       2, 2, 2, 2, 2, 2, 2, 2, 2, 2, 2, 2, 2, 2, 2, 2, 2, 2, 2, 2, 2, 2,\n",
       "       2, 2, 2, 2, 2, 2, 2, 2, 2, 2, 2, 2, 2, 2, 2, 2, 2, 2])"
      ]
     },
     "execution_count": 33,
     "metadata": {},
     "output_type": "execute_result"
    }
   ],
   "source": [
    "y"
   ]
  },
  {
   "cell_type": "code",
   "execution_count": 34,
   "id": "0adce1c5-8017-4ba9-998f-0d7aad16df0c",
   "metadata": {},
   "outputs": [
    {
     "name": "stdout",
     "output_type": "stream",
     "text": [
      "(150, 4)\n",
      "(150,)\n"
     ]
    }
   ],
   "source": [
    "print(X.shape)  # The right shapes!\n",
    "print(y.shape)"
   ]
  },
  {
   "cell_type": "markdown",
   "id": "3ed5abd5-bc50-40f0-b32c-bd698c817ec9",
   "metadata": {},
   "source": [
    "## The Train-Test Split ##"
   ]
  },
  {
   "cell_type": "markdown",
   "id": "d1532342-9f11-4082-a906-d4dacb33849c",
   "metadata": {},
   "source": [
    "The [train_test_split function](https://scikit-learn.org/stable/modules/generated/sklearn.model_selection.train_test_split.html) is very important in SKLearn."
   ]
  },
  {
   "cell_type": "code",
   "execution_count": 35,
   "id": "40b5c84a-27a4-4fe6-8d1b-f2041c178984",
   "metadata": {},
   "outputs": [],
   "source": [
    "X_train, X_test, y_train, y_test = train_test_split(X, y, test_size=0.5, random_state=0)"
   ]
  },
  {
   "cell_type": "code",
   "execution_count": 36,
   "id": "67f6dfd0-6578-46c8-8438-502c9562ddd7",
   "metadata": {},
   "outputs": [
    {
     "name": "stdout",
     "output_type": "stream",
     "text": [
      "(75, 4)\n",
      "(75,)\n",
      "(75, 4)\n",
      "(75,)\n"
     ]
    }
   ],
   "source": [
    "print(X_train.shape)\n",
    "print(y_train.shape)\n",
    "print(X_test.shape)\n",
    "print(y_test.shape)"
   ]
  },
  {
   "cell_type": "markdown",
   "id": "b004788f-6fb5-410a-888a-cd3f42f88587",
   "metadata": {},
   "source": [
    "## Naive Bayes Gaussian Classifier ##\n",
    "\n",
    "For this data set we use the *Gaussian* naive Bayes classifier because the input variables are continuous. See [this page](https://scikit-learn.org/stable/modules/generated/sklearn.naive_bayes.GaussianNB.html).\n"
   ]
  },
  {
   "cell_type": "code",
   "execution_count": 37,
   "id": "b8d36299-0d1e-45b9-9de5-63e4b4ffe6eb",
   "metadata": {},
   "outputs": [],
   "source": [
    "gnb = GaussianNB()"
   ]
  },
  {
   "cell_type": "code",
   "execution_count": 38,
   "id": "f0ed77b0-9e2f-4983-b6e2-58c993458966",
   "metadata": {},
   "outputs": [],
   "source": [
    "mymodel = gnb.fit(X_train, y_train)"
   ]
  },
  {
   "cell_type": "code",
   "execution_count": 39,
   "id": "f60945d5-a46d-4f64-a9c0-945353875a09",
   "metadata": {},
   "outputs": [],
   "source": [
    "y_pred = mymodel.predict(X_test)"
   ]
  },
  {
   "cell_type": "code",
   "execution_count": 40,
   "id": "712c13a0-dee3-4863-bc50-4ec995cfa17e",
   "metadata": {},
   "outputs": [
    {
     "data": {
      "text/plain": [
       "array([2, 1, 0, 2, 0, 2, 0, 1, 1, 1, 1, 1, 1, 1, 1, 0, 1, 1, 0, 0, 2, 1,\n",
       "       0, 0, 2, 0, 0, 1, 1, 0, 2, 1, 0, 2, 2, 1, 0, 1, 1, 1, 2, 0, 2, 0,\n",
       "       0, 1, 2, 2, 1, 2, 1, 2, 1, 1, 2, 1, 1, 2, 1, 2, 1, 0, 2, 1, 1, 1,\n",
       "       1, 2, 0, 0, 2, 1, 0, 0, 1])"
      ]
     },
     "execution_count": 40,
     "metadata": {},
     "output_type": "execute_result"
    }
   ],
   "source": [
    "y_pred"
   ]
  },
  {
   "cell_type": "markdown",
   "id": "e6d3c928-f01b-475d-ad15-1c9f1d8e78c6",
   "metadata": {},
   "source": [
    "## Accuracy Measures ##\n",
    "\n",
    "For categorical data, you can't use SSE.  (Why not?)  You also have to avoid the problem of overfitting.  (Why?) Therefore, you set up a train-test split and then measure the model performance in some way.  There are [many ways to measure model performance](https://www.edlitera.com/en/blog/posts/evaluating-classification-models) (see also [this page](https://medium.com/@shaileydash/understanding-the-roc-and-auc-intuitively-31ca96445c02)) and SKLearn has [many many ways to find and display most of them](https://scikit-learn.org/stable/modules/classes.html#module-sklearn.metrics).  Here are some approaches:\n",
    "\n",
    "+ Accuracy: the proportion of correctly classified examples over the whole set of examples.\n",
    "+ Confusion matrix: shows what got misclassified where\n",
    "\n",
    "For *binary classification* there are even more ways:\n",
    "\n",
    "+ TP, TN, FP, FN\n",
    "+ Precision: the number of true positives divided by the sum of true and false positives.\n",
    "+ Sensitivity/Recall (TPR): the number of true positives divided by the sum of true positives and false negatives\n",
    "+ Specificity/Selectivity: the proportion of true negative cases which were correctly identified as such\n",
    "+ Fall-out (FPR): the proportion of actual negative cases that were incorrectly classified as positive\n",
    "+ (etc--see the link above)"
   ]
  },
  {
   "cell_type": "code",
   "execution_count": 17,
   "id": "a92e837f-202b-4792-9bb1-3431adce05f8",
   "metadata": {},
   "outputs": [],
   "source": [
    "from sklearn.metrics import accuracy_score"
   ]
  },
  {
   "cell_type": "code",
   "execution_count": 18,
   "id": "1f664ec2-81a2-4e8a-9c85-5a985c7aa571",
   "metadata": {},
   "outputs": [
    {
     "data": {
      "text/plain": [
       "0.9466666666666667"
      ]
     },
     "execution_count": 18,
     "metadata": {},
     "output_type": "execute_result"
    }
   ],
   "source": [
    "accuracy_score(y_test, y_pred)"
   ]
  },
  {
   "cell_type": "code",
   "execution_count": 19,
   "id": "b8ad0601-0fff-4886-9834-ad8f33cfe289",
   "metadata": {},
   "outputs": [],
   "source": [
    "from sklearn.metrics import confusion_matrix"
   ]
  },
  {
   "cell_type": "code",
   "execution_count": 20,
   "id": "372b9ea8-e355-44a5-bd92-f9afce1caace",
   "metadata": {},
   "outputs": [
    {
     "data": {
      "text/plain": [
       "array([[21,  0,  0],\n",
       "       [ 0, 30,  0],\n",
       "       [ 0,  4, 20]])"
      ]
     },
     "execution_count": 20,
     "metadata": {},
     "output_type": "execute_result"
    }
   ],
   "source": [
    "confusion_matrix(y_test, y_pred)"
   ]
  },
  {
   "cell_type": "markdown",
   "id": "8307fc84-13fe-44a8-83fe-85598c5cf2bb",
   "metadata": {},
   "source": [
    "## Logistic Regression Classifier ##\n",
    "\n",
    "The discussion is [at this URL](https://scikit-learn.org/stable/modules/generated/sklearn.linear_model.LogisticRegression.html)"
   ]
  },
  {
   "cell_type": "code",
   "execution_count": 22,
   "id": "17bb4f77-eded-40c5-b0c4-bdc9b7a96df4",
   "metadata": {},
   "outputs": [],
   "source": [
    "from sklearn.linear_model import LogisticRegression"
   ]
  },
  {
   "cell_type": "code",
   "execution_count": 23,
   "id": "5b342634-522d-4a6f-81d0-d951ff41e6e3",
   "metadata": {},
   "outputs": [],
   "source": [
    "mylogmodel = LogisticRegression()"
   ]
  },
  {
   "cell_type": "code",
   "execution_count": 25,
   "id": "47bf56d1-c45b-4c15-9a28-fd795ef83889",
   "metadata": {},
   "outputs": [],
   "source": [
    "myfit = mylogmodel.fit(X_train, y_train)"
   ]
  },
  {
   "cell_type": "code",
   "execution_count": 26,
   "id": "5e0bfaa2-72f8-4f3d-bd7b-750830033345",
   "metadata": {},
   "outputs": [],
   "source": [
    "logy_pred = myfit.predict(X_test)"
   ]
  },
  {
   "cell_type": "markdown",
   "id": "250ee2ad-667d-44ec-8f6d-b0669a9c654e",
   "metadata": {},
   "source": [
    "**Note:** The LogisticRegression classifier automatically figures out how to deal with multinomial data.  See [the SKLearn documentation](https://scikit-learn.org/stable/modules/generated/sklearn.linear_model.LogisticRegression.html)"
   ]
  },
  {
   "cell_type": "code",
   "execution_count": 27,
   "id": "30eb2219-785b-462a-89e6-4079f54107c5",
   "metadata": {},
   "outputs": [
    {
     "data": {
      "text/plain": [
       "0.9333333333333333"
      ]
     },
     "execution_count": 27,
     "metadata": {},
     "output_type": "execute_result"
    }
   ],
   "source": [
    "accuracy_score(logy_pred, y_test)"
   ]
  },
  {
   "cell_type": "code",
   "execution_count": 28,
   "id": "49617435-8938-449f-bc42-bdee99a13430",
   "metadata": {},
   "outputs": [
    {
     "data": {
      "text/plain": [
       "array([[21,  0,  0],\n",
       "       [ 0, 29,  4],\n",
       "       [ 0,  1, 20]])"
      ]
     },
     "execution_count": 28,
     "metadata": {},
     "output_type": "execute_result"
    }
   ],
   "source": [
    "confusion_matrix(logy_pred, y_test)"
   ]
  },
  {
   "cell_type": "markdown",
   "id": "86995f62-a8bb-4dc7-8fe9-ba5ac7ce2420",
   "metadata": {},
   "source": [
    "## Understanding Model Outputs ##\n",
    "\n",
    "For LogisticRegression we usually use the .predict method, which gives the predicted category made by dividing the 1/0 at the 50% probability mark. But  there are methods which allow you to look more closely at what the predicted outputs are--e.g., predict-proba allows you to see the probabilities assied to each of the categories (three of them in this case)."
   ]
  },
  {
   "cell_type": "markdown",
   "id": "eac12e13-6cc2-48d6-89ca-2c8e0e1083e8",
   "metadata": {
    "jp-MarkdownHeadingCollapsed": true
   },
   "source": [
    "## matplotlib #\n",
    "\n",
    "[matplotlib](https://matplotlib.org/) is the basic graphing package in python. It can be used to plot everything from plotting function graphs to making basic statistical graphs. "
   ]
  },
  {
   "cell_type": "code",
   "execution_count": null,
   "id": "0904a99f-682c-4a83-a38b-1fb4318d9235",
   "metadata": {},
   "outputs": [],
   "source": [
    "import numpy as np\n",
    "import matplotlib.pyplot as plt"
   ]
  },
  {
   "cell_type": "code",
   "execution_count": 8,
   "id": "fec344d3-9398-4c92-9e61-981fd239fa20",
   "metadata": {},
   "outputs": [],
   "source": [
    "myx = np.linspace(-4,4, 50)"
   ]
  },
  {
   "cell_type": "code",
   "execution_count": 12,
   "id": "6ac2cf6b-f942-4993-b281-56be199e6add",
   "metadata": {},
   "outputs": [],
   "source": [
    "myy = myx**2"
   ]
  },
  {
   "cell_type": "code",
   "execution_count": 15,
   "id": "267122b9-f9b4-47c2-9350-bbabe3cea77c",
   "metadata": {},
   "outputs": [
    {
     "data": {
      "image/png": "[encoded data removed]",
      "text/plain": [
       "<Figure size 432x288 with 1 Axes>"
      ]
     },
     "metadata": {
      "needs_background": "light"
     },
     "output_type": "display_data"
    }
   ],
   "source": [
    "plt.plot(myx, myy)\n",
    "plt.show()"
   ]
  },
  {
   "cell_type": "code",
   "execution_count": 34,
   "id": "3e003f54",
   "metadata": {},
   "outputs": [],
   "source": [
    "myiris= pd.read_csv(\"https://raw.githubusercontent.com/aleahy-work/STAT223-S24/main/Data/iris.csv\")"
   ]
  },
  {
   "cell_type": "code",
   "execution_count": 36,
   "id": "66cf7c64",
   "metadata": {},
   "outputs": [
    {
     "data": {
      "text/plain": [
       "Setosa        50\n",
       "Versicolor    50\n",
       "Virginica     50\n",
       "Name: variety, dtype: int64"
      ]
     },
     "execution_count": 36,
     "metadata": {},
     "output_type": "execute_result"
    }
   ],
   "source": [
    "myiris.variety.value_counts()"
   ]
  },
  {
   "cell_type": "code",
   "execution_count": 37,
   "id": "87e104e3",
   "metadata": {},
   "outputs": [
    {
     "data": {
      "text/plain": [
       "Index(['Setosa', 'Versicolor', 'Virginica'], dtype='object')"
      ]
     },
     "execution_count": 37,
     "metadata": {},
     "output_type": "execute_result"
    }
   ],
   "source": [
    "myiris.variety.value_counts().index"
   ]
  },
  {
   "cell_type": "code",
   "execution_count": 41,
   "id": "53febdf2-2c0f-4250-b2e2-eb8aec3ef22d",
   "metadata": {},
   "outputs": [
    {
     "data": {
      "image/png": "[encoded data removed]",
      "text/plain": [
       "<Figure size 432x288 with 1 Axes>"
      ]
     },
     "metadata": {},
     "output_type": "display_data"
    }
   ],
   "source": [
    "plt.pie(myiris.variety.value_counts(), labels = myiris.variety.value_counts().index)\n",
    "plt.show()"
   ]
  },
  {
   "cell_type": "code",
   "execution_count": 43,
   "id": "dd5ccfee-0587-4533-ba68-2f3e8a3eaa68",
   "metadata": {},
   "outputs": [
    {
     "data": {
      "image/png": "[encoded data removed]",
      "text/plain": [
       "<Figure size 432x288 with 1 Axes>"
      ]
     },
     "metadata": {
      "needs_background": "light"
     },
     "output_type": "display_data"
    }
   ],
   "source": [
    "plt.bar(myiris.variety.value_counts().index, myiris.variety.value_counts())\n",
    "plt.show()"
   ]
  },
  {
   "cell_type": "code",
   "execution_count": 45,
   "id": "417b0f55-778a-4092-9835-5713bfac96c6",
   "metadata": {},
   "outputs": [
    {
     "data": {
      "text/plain": [
       "<matplotlib.collections.PathCollection at 0x7f1a1f5be590>"
      ]
     },
     "execution_count": 45,
     "metadata": {},
     "output_type": "execute_result"
    },
    {
     "data": {
      "image/png": "[encoded data removed]",
      "text/plain": [
       "<Figure size 432x288 with 1 Axes>"
      ]
     },
     "metadata": {
      "needs_background": "light"
     },
     "output_type": "display_data"
    }
   ],
   "source": [
    "plt.scatter(myiris['sepal.length'], myiris['sepal.width'])"
   ]
  },
  {
   "cell_type": "code",
   "execution_count": null,
   "id": "ff691abe-b7ff-4cd1-b187-11753da1eea2",
   "metadata": {},
   "outputs": [],
   "source": []
  },
  {
   "cell_type": "markdown",
   "id": "a87e2854-f19e-4d38-ac5f-07f2983dba6d",
   "metadata": {
    "jp-MarkdownHeadingCollapsed": true
   },
   "source": [
    "## seaborn ###\n",
    "\n",
    "[Seaborn](https://seaborn.pydata.org/) is a statistical graphing library built on top of matplotlib designed to make plotting statistical visualizations easier.  Think of it as ggplot for python--although the synax is different. We created some scatter plots and histograms with it."
   ]
  },
  {
   "cell_type": "code",
   "execution_count": 3,
   "id": "a12ec074-9669-449b-a30a-53bb52def858",
   "metadata": {},
   "outputs": [],
   "source": [
    "import seaborn as sns\n",
    "import pandas as pd"
   ]
  },
  {
   "cell_type": "code",
   "execution_count": 4,
   "id": "938c1f55-e33d-4b3f-9550-f1d1463eda0a",
   "metadata": {},
   "outputs": [],
   "source": [
    "mydata = pd.read_csv(\"https://raw.githubusercontent.com/aleahy-work/STAT223-S24/main/Data/firstdaydata.csv\")"
   ]
  },
  {
   "cell_type": "code",
   "execution_count": 8,
   "id": "1f8cd3b0-81b4-409e-baa3-894017ffefab",
   "metadata": {},
   "outputs": [
    {
     "data": {
      "text/plain": [
       "<AxesSubplot: xlabel='wingspan', ylabel='height'>"
      ]
     },
     "execution_count": 8,
     "metadata": {},
     "output_type": "execute_result"
    },
    {
     "data": {
      "image/png": "[encoded data removed]",
      "text/plain": [
       "<Figure size 432x288 with 1 Axes>"
      ]
     },
     "metadata": {
      "needs_background": "light"
     },
     "output_type": "display_data"
    }
   ],
   "source": [
    "sns.scatterplot(data=mydata, x=\"wingspan\",y=\"height\", hue=\"gender\")"
   ]
  },
  {
   "cell_type": "code",
   "execution_count": 9,
   "id": "27a3bebd-a90c-429a-9bd8-6aae8be5dc65",
   "metadata": {},
   "outputs": [
    {
     "data": {
      "text/plain": [
       "<AxesSubplot: xlabel='wingspan', ylabel='gender'>"
      ]
     },
     "execution_count": 9,
     "metadata": {},
     "output_type": "execute_result"
    },
    {
     "data": {
      "image/png": "[encoded data removed]",
      "text/plain": [
       "<Figure size 432x288 with 1 Axes>"
      ]
     },
     "metadata": {
      "needs_background": "light"
     },
     "output_type": "display_data"
    }
   ],
   "source": [
    "sns.scatterplot(data=mydata,x=\"wingspan\",y=\"gender\")"
   ]
  },
  {
   "cell_type": "code",
   "execution_count": 10,
   "id": "a4719964-1d4e-4d17-a4b9-21424a523d6f",
   "metadata": {},
   "outputs": [
    {
     "data": {
      "text/plain": [
       "<AxesSubplot: xlabel='wingspan', ylabel='Count'>"
      ]
     },
     "execution_count": 10,
     "metadata": {},
     "output_type": "execute_result"
    },
    {
     "data": {
      "image/png": "[encoded data removed]",
      "text/plain": [
       "<Figure size 432x288 with 1 Axes>"
      ]
     },
     "metadata": {
      "needs_background": "light"
     },
     "output_type": "display_data"
    }
   ],
   "source": [
    "sns.histplot(data=mydata, x=\"wingspan\")"
   ]
  },
  {
   "cell_type": "code",
   "execution_count": 11,
   "id": "5058296e-9eab-40ce-9ec3-83b9b2d21faa",
   "metadata": {},
   "outputs": [
    {
     "data": {
      "text/plain": [
       "<AxesSubplot: xlabel='wingspan', ylabel='Count'>"
      ]
     },
     "execution_count": 11,
     "metadata": {},
     "output_type": "execute_result"
    },
    {
     "data": {
      "image/png": "[encoded data removed]",
      "text/plain": [
       "<Figure size 432x288 with 1 Axes>"
      ]
     },
     "metadata": {
      "needs_background": "light"
     },
     "output_type": "display_data"
    }
   ],
   "source": [
    "sns.histplot(data=mydata, x=\"wingspan\", hue=\"gender\")"
   ]
  },
  {
   "cell_type": "markdown",
   "id": "f33fc8e1-8e0a-49ea-8f1f-503282662bc2",
   "metadata": {
    "jp-MarkdownHeadingCollapsed": true
   },
   "source": [
    "## scipy.stats ##\n",
    "\n",
    "The scipy (\"scientific python\") package builds on numpy to provide algorithms for many different types of scientific computations.   [scipy.stats](https://docs.scipy.org/doc/scipy/reference/stats.html) provides various probability distributions and hypothesis tests.  We only used it to evaluate the normal distribution."
   ]
  },
  {
   "cell_type": "code",
   "execution_count": 1,
   "id": "5a27961b-f779-4c68-8e7f-6c2a40036c0d",
   "metadata": {},
   "outputs": [],
   "source": [
    "from scipy.stats import norm"
   ]
  },
  {
   "cell_type": "code",
   "execution_count": 2,
   "id": "4c64589f-f33b-4553-9d22-d9bfb1fbd81e",
   "metadata": {},
   "outputs": [
    {
     "data": {
      "text/plain": [
       "0.15865525393145707"
      ]
     },
     "execution_count": 2,
     "metadata": {},
     "output_type": "execute_result"
    }
   ],
   "source": [
    "norm.cdf(-1, loc = 0, scale = 1)"
   ]
  }
 ],
 "metadata": {
  "kernelspec": {
   "display_name": "Python 3",
   "language": "python",
   "name": "python3"
  },
  "language_info": {
   "codemirror_mode": {
    "name": "ipython",
    "version": 3
   },
   "file_extension": ".py",
   "mimetype": "text/x-python",
   "name": "python",
   "nbconvert_exporter": "python",
   "pygments_lexer": "ipython3",
   "version": "3.11.6"
  }
 },
 "nbformat": 4,
 "nbformat_minor": 5
}
