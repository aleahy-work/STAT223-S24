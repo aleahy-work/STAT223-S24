{
 "cells": [
  {
   "cell_type": "markdown",
   "id": "c43f9da6-e379-4d2a-b514-9ffe5e2b7f65",
   "metadata": {},
   "source": [
    "# More Python Classification Problems #"
   ]
  },
  {
   "cell_type": "markdown",
   "id": "2d37c9ce-09c4-4451-9903-584dc89bda0f",
   "metadata": {},
   "source": [
    "## Part 1: ## \n",
    "\n",
    "On the [class Github page](https://github.com/aleahy-work/STAT223-S24) is the 'penguins.csv' dataset, which gives various body measurements for 344 penguins spanning three species.  \n",
    "\n",
    "In each case below, you should use the appropriate tools in SKLearn to produce and evaluate a predictive model for the specified output variable given the specified input variables.  In addition, you should\n",
    "\n",
    "1. produce a train-test split with 25% of the data belonging to the test dataset.\n",
    "2. produce a model for the data using the train dataset\n",
    "3. evaluate the model based on its test dataset \n",
    "\n",
    "**Note** that this dataset also has NA values and that you will have to handle all subsetting (see pandas \".dropna\") and potentially transposing."
   ]
  },
  {
   "cell_type": "markdown",
   "id": "9c3fa7c5-c689-4252-b300-79182f0ac14d",
   "metadata": {},
   "source": [
    "### Task 1: Adele Penguins ##"
   ]
  },
  {
   "cell_type": "markdown",
   "id": "f5e7ea36-9db7-4d58-acd8-07d1a920c600",
   "metadata": {},
   "source": [
    "Use a k-Nearest Neighbor model to predict sex as a function of body mass and bill length **for the *Adele penguins***.  In particular, you should:\n",
    "\n",
    "1. Produce a scatter plot of the data, showing sex with color"
   ]
  },
  {
   "cell_type": "markdown",
   "id": "47a58632-9106-4901-b956-a9e436dec268",
   "metadata": {},
   "source": [
    "2. Try the parameters $k = 3,5,7$ and determine which leads to the best accuracy on the test data."
   ]
  },
  {
   "cell_type": "markdown",
   "id": "33e9f0bb-0599-46f7-b33a-9ca8293d70b7",
   "metadata": {},
   "source": [
    "3. You get to choose $k$, but you should normalize the input variables using the $z = (x - \\mu)/\\sigma$ transformation first.  Do it by hand or use the [SKLearn standard scalar](https://scikit-learn.org/stable/modules/generated/sklearn.preprocessing.StandardScaler.html)."
   ]
  },
  {
   "cell_type": "markdown",
   "id": "4c65e4d7-ac98-4e24-8c0c-5dad91f135e9",
   "metadata": {},
   "source": [
    "4.  Redo problem 2 using the [MinMaxScaler](https://scikit-learn.org/stable/modules/generated/sklearn.preprocessing.MinMaxScaler.html#sklearn.preprocessing.MinMaxScaler) from SKLearn and compare your answers to problem 3."
   ]
  },
  {
   "cell_type": "markdown",
   "id": "9d10f1b5-ffa7-49ee-9a40-d14dc989771b",
   "metadata": {},
   "source": [
    "### Task 2: All Penguins with a decision tree and naive Bayes ###"
   ]
  },
  {
   "cell_type": "markdown",
   "id": "05182ccb-1a60-4a22-97ed-06a65eba3a94",
   "metadata": {},
   "source": [
    "5. Produce a classifier model of the sex of **all** the penguins using a decision tree (the default parameters should be sufficient) for body mass and bill length.  Try this with a *naive Bayes* classifier and compare your accuracy on the test set to the decision tree.  (Food for thought: Does it matter if the data is scaled?)"
   ]
  },
  {
   "cell_type": "markdown",
   "id": "a76d1b79-91f1-4934-b46e-dde916c7fa65",
   "metadata": {},
   "source": [
    "## Part 2 ##"
   ]
  },
  {
   "cell_type": "markdown",
   "id": "13987f06-8d37-491b-a6e7-5b50df9214b7",
   "metadata": {},
   "source": [
    "The purpose of this problem is to give you sense of how to use classification algorithms on images.  It makes use of the built-in digits dataset in SKLearn discussed [here](https://scikit-learn.org/stable/modules/generated/sklearn.datasets.load_digits.html).  The dataset consists of 1797 vectors of length 64 for predictor variables, and 1797 digits 0-9 which give the corresponding output numbers the images are supposed to represent.  The idea is that the length 64 vector can be resized into an 8x8 4-bit grayscale image (i.e., 16 shades of gray), which is a digitization of a handwritten digit. \n",
    "\n",
    "The dataset can be loaded and a sample image-number pair visualized as follows."
   ]
  },
  {
   "cell_type": "code",
   "execution_count": 1,
   "id": "3931c7cd-ade5-4cfd-932e-d423ea332719",
   "metadata": {
    "tags": []
   },
   "outputs": [],
   "source": [
    "from sklearn.datasets import load_digits\n",
    "import matplotlib.pyplot as plt"
   ]
  },
  {
   "cell_type": "code",
   "execution_count": 2,
   "id": "608f79d8-a852-4e9a-ae1b-1b5066ca7950",
   "metadata": {
    "tags": []
   },
   "outputs": [],
   "source": [
    "myX, myy = load_digits(return_X_y = True)"
   ]
  },
  {
   "cell_type": "code",
   "execution_count": 3,
   "id": "884bd484-03d5-4af7-b148-d2652ce4495b",
   "metadata": {
    "tags": []
   },
   "outputs": [
    {
     "data": {
      "text/plain": [
       "(1797, 64)"
      ]
     },
     "execution_count": 3,
     "metadata": {},
     "output_type": "execute_result"
    }
   ],
   "source": [
    "myX.shape"
   ]
  },
  {
   "cell_type": "markdown",
   "id": "ff1aef70-11d8-4fc6-8d48-7283d20b8d4a",
   "metadata": {},
   "source": [
    "**Note:** Each of the 1797 images is stored as a vector of length 64 with each entry having values 0 through 15, where the number represents the intensity of gray (0=black, 15=white) for a given pixel. The vector is supposed to represent an 8x8 image which represents a digit 0, 1, ..., 9.  We can convert the vector of length 64 to an 8x8 array using reshape and display the image (along with the associated digit) using matplotlib's .imshow function as follows. "
   ]
  },
  {
   "cell_type": "code",
   "execution_count": 9,
   "id": "f5a1a227-1d5f-4554-9eee-7b1cec930cf1",
   "metadata": {
    "tags": []
   },
   "outputs": [
    {
     "data": {
      "image/png": "[encoded data removed]",
      "text/plain": [
       "<Figure size 432x288 with 1 Axes>"
      ]
     },
     "metadata": {
      "needs_background": "light"
     },
     "output_type": "display_data"
    },
    {
     "data": {
      "text/plain": [
       "5"
      ]
     },
     "execution_count": 9,
     "metadata": {},
     "output_type": "execute_result"
    }
   ],
   "source": [
    "#\n",
    "# .reshape(8,8) converts the length-64 vector to an 8x8 array that can be displayed with \n",
    "# matplotlib using imshow.  This code displays the image and also right below it the corresponding \n",
    "# digit for the 15th image in the array.\n",
    "#\n",
    "plt.imshow(myX[15].reshape(8,8), cmap='gray')\n",
    "plt.show()\n",
    "myy[15]"
   ]
  },
  {
   "cell_type": "code",
   "execution_count": 7,
   "id": "9a5d38aa-eee4-4e71-b0b2-da07437436d3",
   "metadata": {
    "tags": []
   },
   "outputs": [
    {
     "data": {
      "text/plain": [
       "array([ 0.,  5., 12., 13., 16., 16.,  2.,  0.,  0., 11., 16., 15.,  8.,\n",
       "        4.,  0.,  0.,  0.,  8., 14., 11.,  1.,  0.,  0.,  0.,  0.,  8.,\n",
       "       16., 16., 14.,  0.,  0.,  0.,  0.,  1.,  6.,  6., 16.,  0.,  0.,\n",
       "        0.,  0.,  0.,  0.,  5., 16.,  3.,  0.,  0.,  0.,  1.,  5., 15.,\n",
       "       13.,  0.,  0.,  0.,  0.,  4., 15., 16.,  2.,  0.,  0.,  0.])"
      ]
     },
     "execution_count": 7,
     "metadata": {},
     "output_type": "execute_result"
    }
   ],
   "source": [
    "myX[15]  # This displays the numerical contents of the image as a length-64 vector "
   ]
  },
  {
   "cell_type": "code",
   "execution_count": 8,
   "id": "2304ffc5-4c5e-45ba-9fad-9af1ef7b9168",
   "metadata": {},
   "outputs": [
    {
     "data": {
      "text/plain": [
       "array([[ 0.,  5., 12., 13., 16., 16.,  2.,  0.],\n",
       "       [ 0., 11., 16., 15.,  8.,  4.,  0.,  0.],\n",
       "       [ 0.,  8., 14., 11.,  1.,  0.,  0.,  0.],\n",
       "       [ 0.,  8., 16., 16., 14.,  0.,  0.,  0.],\n",
       "       [ 0.,  1.,  6.,  6., 16.,  0.,  0.,  0.],\n",
       "       [ 0.,  0.,  0.,  5., 16.,  3.,  0.,  0.],\n",
       "       [ 0.,  1.,  5., 15., 13.,  0.,  0.,  0.],\n",
       "       [ 0.,  4., 15., 16.,  2.,  0.,  0.,  0.]])"
      ]
     },
     "execution_count": 8,
     "metadata": {},
     "output_type": "execute_result"
    }
   ],
   "source": [
    "myX[15].reshape(8,8)  \n",
    "# this shows the image as an 8x8 numerical array; you can see the outline of the digit, with\n",
    "# higher values denoting lighter colors"
   ]
  },
  {
   "cell_type": "markdown",
   "id": "a4a4381c-a99d-484e-9806-5e9519c3465b",
   "metadata": {},
   "source": [
    "### Task 1: Distinguishing between 0s and 1s ###\n",
    "\n",
    "**Note:** The following cells create a *new* pair of numpy arrays (myXs, myys) from the (myX, myy) digits dataset that consists only of the digits 0 and 1 and their corresponding images. "
   ]
  },
  {
   "cell_type": "code",
   "execution_count": null,
   "id": "fd0f41a5-86db-4bd6-bede-eb9eeb2f53da",
   "metadata": {
    "tags": []
   },
   "outputs": [],
   "source": [
    "myXs = myX[(myy == 0) | (myy == 1)]\n",
    "myys = myy[(myy == 0) | (myy == 1)]"
   ]
  },
  {
   "cell_type": "markdown",
   "id": "d1c1d3bd-0d3c-47fe-bddb-772ee6a2ba38",
   "metadata": {},
   "source": [
    "Do a train-test split and use the training data to create *three* different classifiers to classify the (myXs, myys) 0-1 digit data using the following classifiers in SKLearn:\n",
    "\n",
    "1. Logistic Regression\n",
    "2. k-Nearest Neighbor\n",
    "3. Decision Tree\n",
    "\n",
    "You should also:\n",
    "\n",
    "+ Offer an explanation for why the predictor variables do not need to be scaled for any of these models.\n",
    "+ Produce a named vector of predicted outputs for the traning data, say, kpredict, svcpredict, cartpredict--these vectors will be used in the next step\n",
    "+ In each case, produce a confusion matrix and accuracy score for the classifier\n"
   ]
  },
  {
   "cell_type": "markdown",
   "id": "425e4ec8-bb97-40a8-9e3d-782a17390c2e",
   "metadata": {},
   "source": [
    "### Task 2: Making a simple ensemble classifier ###"
   ]
  },
  {
   "cell_type": "markdown",
   "id": "787cb132-828e-43b7-b636-60a2752057b0",
   "metadata": {},
   "source": [
    "Explain why the following code is an ensemble classifier of the three models you produced above (explain how the classifer works) and use it to produce a confusion matrix for the ensemble model:"
   ]
  },
  {
   "cell_type": "code",
   "execution_count": null,
   "id": "fc1e33cf-4bb8-4c7a-975f-12ad8406b47e",
   "metadata": {},
   "outputs": [],
   "source": [
    "ensemblepredict = np.where(kpredict + svcpredict + cardpredict < 2, 0, 1)"
   ]
  },
  {
   "cell_type": "markdown",
   "id": "d8e45dfe-2884-47f0-8963-eaec1cb1ba4f",
   "metadata": {},
   "source": [
    "**Hints:** Do a google search to understand what the numpy '.where' function does. "
   ]
  },
  {
   "cell_type": "markdown",
   "id": "19ebeb93-f6a1-4de8-b865-cc24516f75d0",
   "metadata": {},
   "source": [
    "### Task 3: Classify all digits ###"
   ]
  },
  {
   "cell_type": "markdown",
   "id": "3b42fa6a-2900-41f8-abd9-3b7d17b2399e",
   "metadata": {},
   "source": [
    "Repeat the same task as Task 1 with the *full* digits dataset (myX, myy) that you imported above, classifying each of the nine digits 0-9 in the test_X dataset and comparing your answersto test_y using a confusion matrix as before. "
   ]
  },
  {
   "cell_type": "markdown",
   "id": "e7aa61c4-ab5f-47cb-8e12-53ab716e3568",
   "metadata": {},
   "source": [
    "### Task 4: Make a classifier for ALL of the digits ###"
   ]
  },
  {
   "cell_type": "markdown",
   "id": "b243117c-f59a-4c0e-9854-d2fac794868f",
   "metadata": {},
   "source": [
    "Depending on the test-train split, at least one of your classifiers in the above should have inaccurate classifications. Choose one model that does have inaccurate classifications and produce an image of several of the digits that were misclassified.  The following sample of code may or may not be helpful as far as identifying which images were misclassified. (Google the numpy '.nonzero()' function to understand what it does.)  "
   ]
  },
  {
   "cell_type": "code",
   "execution_count": null,
   "id": "a32f88ab-1c66-463d-af3f-361731bb7955",
   "metadata": {},
   "outputs": [],
   "source": [
    "(mymodelpredict - test_y).nonzero()"
   ]
  },
  {
   "cell_type": "markdown",
   "id": "1da43db8-2fe1-4ebf-812b-feaae21de752",
   "metadata": {},
   "source": [
    "### Task 5: Classify using a random forest ###"
   ]
  },
  {
   "cell_type": "markdown",
   "id": "8fc34a5f-0687-4946-9936-5a6733087348",
   "metadata": {},
   "source": [
    "Create a prediction model for the digits using a random forest classifier.  The default parameters should be sufficient. Make a confusion matrix and compare your accuracy to the accuracy from the previous tasks.  **Also** use the '.predict_proba()' method to find the closest election results produced by the random forest.  (No need to identify the image but you can produce an image of this .)  "
   ]
  }
 ],
 "metadata": {
  "kernelspec": {
   "display_name": "Python 3",
   "language": "python",
   "name": "python3"
  },
  "language_info": {
   "codemirror_mode": {
    "name": "ipython",
    "version": 3
   },
   "file_extension": ".py",
   "mimetype": "text/x-python",
   "name": "python",
   "nbconvert_exporter": "python",
   "pygments_lexer": "ipython3",
   "version": "3.11.6"
  }
 },
 "nbformat": 4,
 "nbformat_minor": 5
}
