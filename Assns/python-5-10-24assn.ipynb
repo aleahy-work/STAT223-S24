{
 "cells": [
  {
   "attachments": {},
   "cell_type": "markdown",
   "metadata": {},
   "source": [
    "# 5/10/24 Python Assignment #\n",
    "\n",
    "**Assignment:** Complete each fo the following. Make sure your notebook is well-organized (including removing any mistakes and other unnecessary work) and show all work when submitting your assignment as a Jupyter notebook (.ipynb file) to the SubmitS223_1 folder.\n",
    "\n",
    "**Part 1:** Download the \"bodydata.csv\" file containing health observations for 300 people from [the class github](https://github.com/aleahy-work/STAT223-S24/tree/main/Data) and create a data frame with it. Then answer the following questions.  \n"
   ]
  },
  {
   "cell_type": "markdown",
   "metadata": {},
   "source": [
    "1. What is the average age of people in the study?"
   ]
  },
  {
   "cell_type": "markdown",
   "metadata": {},
   "source": [
    "2. What sex does the GENDER = 0 variable refer to?  (How might you deduce this from the data?)"
   ]
  },
  {
   "cell_type": "markdown",
   "metadata": {},
   "source": [
    "3. LDL and HDL are two types of cholesterol, which occurs naturally in the blood stream. High cholesterol levels are believed to contribute to heart disease.  One measure of high cholesterol is if LDL levels are above 130 mg/dL.  How many people in the study have high LDL cholesterol?"
   ]
  },
  {
   "cell_type": "markdown",
   "metadata": {},
   "source": [
    "4. Another measure of high cholesterol is HDL levels.  For men, high HDL cholesterol is 40mg/dL or higher.  For women, high HDL cholesterol is 50 mg/dL or higher.  How many people in the study have high HDL cholesterol?"
   ]
  },
  {
   "cell_type": "markdown",
   "metadata": {},
   "source": [
    "5. Does there appear to be a relationship between systolic blood pressure and LDL levels?  (A plot will be sufficient.)"
   ]
  },
  {
   "cell_type": "markdown",
   "metadata": {},
   "source": [
    "6. What is the average diastolic blood pressure for people who are over age 50?"
   ]
  },
  {
   "cell_type": "markdown",
   "metadata": {},
   "source": [
    "**Part 2:** One well-known elementary data set is a list of cars from MotorTrend magazine found in the CNotesS223_1 folder on euclid.  The dataset can be found on the class github or [here](https://gist.github.com/seankross/a412dfbd88b3db70b74b), where you can also find a description of the variables by scrolling down."
   ]
  },
  {
   "cell_type": "markdown",
   "metadata": {},
   "source": [
    "7. Produce a chart showing the number of cars in the study for each engine size (i.e., number of cylinders). "
   ]
  },
  {
   "cell_type": "markdown",
   "metadata": {},
   "source": [
    "8. Is there a relationship between horsepower and the time it takes to complete a 1/4 mile? (Produce an appropriate plot.)"
   ]
  },
  {
   "cell_type": "markdown",
   "metadata": {},
   "source": [
    "9. Produce a graph showing the distribution of MPGs for the cars."
   ]
  },
  {
   "cell_type": "markdown",
   "metadata": {},
   "source": [
    "10. Find the average MPG for each of the 4, 6, or 8 cylinder cars. "
   ]
  },
  {
   "cell_type": "code",
   "execution_count": null,
   "metadata": {},
   "outputs": [],
   "source": []
  }
 ],
 "metadata": {
  "kernelspec": {
   "display_name": "Python 3",
   "language": "python",
   "name": "python3"
  },
  "language_info": {
   "codemirror_mode": {
    "name": "ipython",
    "version": 3
   },
   "file_extension": ".py",
   "mimetype": "text/x-python",
   "name": "python",
   "nbconvert_exporter": "python",
   "pygments_lexer": "ipython3",
   "version": "3.11.6"
  }
 },
 "nbformat": 4,
 "nbformat_minor": 4
}
